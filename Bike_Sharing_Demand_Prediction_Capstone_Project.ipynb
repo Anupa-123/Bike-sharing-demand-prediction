{
  "nbformat": 4,
  "nbformat_minor": 0,
  "metadata": {
    "kernelspec": {
      "display_name": "Python 3",
      "language": "python",
      "name": "python3"
    },
    "language_info": {
      "codemirror_mode": {
        "name": "ipython",
        "version": 3
      },
      "file_extension": ".py",
      "mimetype": "text/x-python",
      "name": "python",
      "nbconvert_exporter": "python",
      "pygments_lexer": "ipython3",
      "version": "3.6.6"
    },
    "colab": {
      "name": "Bike Sharing Demand Prediction - Capstone Project.ipynb",
      "provenance": [],
      "collapsed_sections": [],
      "include_colab_link": true
    }
  },
  "cells": [
    {
      "cell_type": "markdown",
      "metadata": {
        "id": "view-in-github",
        "colab_type": "text"
      },
      "source": [
        "<a href=\"https://colab.research.google.com/github/Anupa-123/Bike-sharing-demand-prediction/blob/main/Bike_Sharing_Demand_Prediction_Capstone_Project.ipynb\" target=\"_parent\"><img src=\"https://colab.research.google.com/assets/colab-badge.svg\" alt=\"Open In Colab\"/></a>"
      ]
    },
    {
      "cell_type": "markdown",
      "metadata": {
        "id": "tOGC-qoyhJeX"
      },
      "source": [
        "# <b><u> Project Title : Seoul Bike Sharing Demand Prediction </u></b>"
      ]
    },
    {
      "cell_type": "markdown",
      "metadata": {
        "id": "Y06xIdG26kRF"
      },
      "source": [
        "## <b> Problem Description </b>\n",
        "\n",
        "### Currently Rental bikes are introduced in many urban cities for the enhancement of mobility comfort. It is important to make the rental bike available and accessible to the public at the right time as it lessens the waiting time. Eventually, providing the city with a stable supply of rental bikes becomes a major concern. The crucial part is the prediction of bike count required at each hour for the stable supply of rental bikes.\n"
      ]
    },
    {
      "cell_type": "markdown",
      "metadata": {
        "id": "AlLxAtlziMbP"
      },
      "source": [
        "## <b> Data Description </b>\n",
        "\n",
        "### <b> The dataset contains weather information (Temperature, Humidity, Windspeed, Visibility, Dewpoint, Solar radiation, Snowfall, Rainfall), the number of bikes rented per hour and date information.</b>\n",
        "\n",
        "\n",
        "### <b>Attribute Information: </b>\n",
        "\n",
        "* ### Date : year-month-day\n",
        "* ### Rented Bike count - Count of bikes rented at each hour\n",
        "* ### Hour - Hour of he day\n",
        "* ### Temperature-Temperature in Celsius\n",
        "* ### Humidity - %\n",
        "* ### Windspeed - m/s\n",
        "* ### Visibility - 10m\n",
        "* ### Dew point temperature - Celsius\n",
        "* ### Solar radiation - MJ/m2\n",
        "* ### Rainfall - mm\n",
        "* ### Snowfall - cm\n",
        "* ### Seasons - Winter, Spring, Summer, Autumn\n",
        "* ### Holiday - Holiday/No holiday\n",
        "* ### Functional Day - NoFunc(Non Functional Hours), Fun(Functional hours)"
      ]
    },
    {
      "cell_type": "code",
      "metadata": {
        "id": "dByMsuzT8Tnw"
      },
      "source": [
        "#let's import the modules\n",
        "import pandas as pd\n",
        "import numpy as np\n",
        "import matplotlib.pyplot as plt\n",
        "%matplotlib inline\n",
        "import seaborn as sns\n",
        "\n",
        "from datetime import datetime\n",
        "import datetime as dt\n",
        "\n",
        "from sklearn.preprocessing import MinMaxScaler\n",
        "from sklearn.preprocessing import OneHotEncoder\n",
        "from sklearn.preprocessing import MultiLabelBinarizer\n",
        "\n",
        "from sklearn.linear_model import LinearRegression\n",
        "from sklearn.linear_model import Lasso\n",
        "from sklearn.linear_model import Ridge\n",
        "from sklearn.linear_model import ElasticNet\n",
        "from sklearn.tree import DecisionTreeRegressor\n",
        "from sklearn.ensemble import RandomForestRegressor\n",
        "from sklearn.ensemble import GradientBoostingRegressor\n",
        "\n",
        "from sklearn.model_selection import cross_validate\n",
        "from sklearn.model_selection import train_test_split\n",
        "from sklearn.model_selection import GridSearchCV\n",
        "from sklearn.model_selection import cross_val_score\n",
        "from sklearn.model_selection import RepeatedStratifiedKFold\n",
        "from sklearn.model_selection import RandomizedSearchCV\n",
        "\n",
        "from sklearn import metrics\n",
        "from sklearn.metrics import r2_score\n",
        "from sklearn.metrics import mean_squared_error\n",
        "from sklearn.metrics import accuracy_score\n",
        "from sklearn.metrics import mean_absolute_error\n",
        "from sklearn.metrics import log_loss\n",
        "from scipy import stats\n",
        "\n",
        "import warnings\n",
        "warnings.filterwarnings('ignore')\n",
        "\n"
      ],
      "execution_count": 175,
      "outputs": []
    },
    {
      "cell_type": "markdown",
      "source": [
        "**Mount the drive and import the dataset.**"
      ],
      "metadata": {
        "id": "tv5t4W1u9RVF"
      }
    },
    {
      "cell_type": "code",
      "metadata": {
        "id": "k3XMZHYLgYI-",
        "colab": {
          "base_uri": "https://localhost:8080/"
        },
        "outputId": "a3b47e46-5150-4ed7-b50c-e20bd856753f"
      },
      "source": [
        "from google.colab import drive\n",
        "drive.mount('/content/drive')"
      ],
      "execution_count": 176,
      "outputs": [
        {
          "output_type": "stream",
          "name": "stdout",
          "text": [
            "Drive already mounted at /content/drive; to attempt to forcibly remount, call drive.mount(\"/content/drive\", force_remount=True).\n"
          ]
        }
      ]
    },
    {
      "cell_type": "code",
      "source": [
        "#Reading csv file\n",
        "data= pd.read_csv(\"/content/drive/MyDrive/SeoulBikeData.csv\", encoding = \"ISO-8859-1\")"
      ],
      "metadata": {
        "id": "zLRmb13NBTnV"
      },
      "execution_count": 177,
      "outputs": []
    },
    {
      "cell_type": "markdown",
      "source": [
        "**Understand more abount the data.**"
      ],
      "metadata": {
        "id": "hY488yEY9dLS"
      }
    },
    {
      "cell_type": "code",
      "source": [
        "# Copy the data for backup\n",
        "df = data.copy()"
      ],
      "metadata": {
        "id": "7OnXG_2pBlME"
      },
      "execution_count": 178,
      "outputs": []
    },
    {
      "cell_type": "code",
      "source": [
        "# Checking of records of the dataframe\n",
        "df.head()"
      ],
      "metadata": {
        "id": "iTLYBJpTBoq8",
        "colab": {
          "base_uri": "https://localhost:8080/",
          "height": 392
        },
        "outputId": "1ede8d4a-3d65-41c9-fe80-5e7f87e1e8e9"
      },
      "execution_count": 179,
      "outputs": [
        {
          "output_type": "execute_result",
          "data": {
            "text/plain": [
              "         Date  Rented Bike Count  Hour  Temperature(°C)  Humidity(%)  \\\n",
              "0  01/12/2017                254     0             -5.2           37   \n",
              "1  01/12/2017                204     1             -5.5           38   \n",
              "2  01/12/2017                173     2             -6.0           39   \n",
              "3  01/12/2017                107     3             -6.2           40   \n",
              "4  01/12/2017                 78     4             -6.0           36   \n",
              "\n",
              "   Wind speed (m/s)  Visibility (10m)  Dew point temperature(°C)  \\\n",
              "0               2.2              2000                      -17.6   \n",
              "1               0.8              2000                      -17.6   \n",
              "2               1.0              2000                      -17.7   \n",
              "3               0.9              2000                      -17.6   \n",
              "4               2.3              2000                      -18.6   \n",
              "\n",
              "   Solar Radiation (MJ/m2)  Rainfall(mm)  Snowfall (cm) Seasons     Holiday  \\\n",
              "0                      0.0           0.0            0.0  Winter  No Holiday   \n",
              "1                      0.0           0.0            0.0  Winter  No Holiday   \n",
              "2                      0.0           0.0            0.0  Winter  No Holiday   \n",
              "3                      0.0           0.0            0.0  Winter  No Holiday   \n",
              "4                      0.0           0.0            0.0  Winter  No Holiday   \n",
              "\n",
              "  Functioning Day  \n",
              "0             Yes  \n",
              "1             Yes  \n",
              "2             Yes  \n",
              "3             Yes  \n",
              "4             Yes  "
            ],
            "text/html": [
              "\n",
              "  <div id=\"df-8c6ac1c8-5ed9-455a-81e4-62eed67c0c47\">\n",
              "    <div class=\"colab-df-container\">\n",
              "      <div>\n",
              "<style scoped>\n",
              "    .dataframe tbody tr th:only-of-type {\n",
              "        vertical-align: middle;\n",
              "    }\n",
              "\n",
              "    .dataframe tbody tr th {\n",
              "        vertical-align: top;\n",
              "    }\n",
              "\n",
              "    .dataframe thead th {\n",
              "        text-align: right;\n",
              "    }\n",
              "</style>\n",
              "<table border=\"1\" class=\"dataframe\">\n",
              "  <thead>\n",
              "    <tr style=\"text-align: right;\">\n",
              "      <th></th>\n",
              "      <th>Date</th>\n",
              "      <th>Rented Bike Count</th>\n",
              "      <th>Hour</th>\n",
              "      <th>Temperature(°C)</th>\n",
              "      <th>Humidity(%)</th>\n",
              "      <th>Wind speed (m/s)</th>\n",
              "      <th>Visibility (10m)</th>\n",
              "      <th>Dew point temperature(°C)</th>\n",
              "      <th>Solar Radiation (MJ/m2)</th>\n",
              "      <th>Rainfall(mm)</th>\n",
              "      <th>Snowfall (cm)</th>\n",
              "      <th>Seasons</th>\n",
              "      <th>Holiday</th>\n",
              "      <th>Functioning Day</th>\n",
              "    </tr>\n",
              "  </thead>\n",
              "  <tbody>\n",
              "    <tr>\n",
              "      <th>0</th>\n",
              "      <td>01/12/2017</td>\n",
              "      <td>254</td>\n",
              "      <td>0</td>\n",
              "      <td>-5.2</td>\n",
              "      <td>37</td>\n",
              "      <td>2.2</td>\n",
              "      <td>2000</td>\n",
              "      <td>-17.6</td>\n",
              "      <td>0.0</td>\n",
              "      <td>0.0</td>\n",
              "      <td>0.0</td>\n",
              "      <td>Winter</td>\n",
              "      <td>No Holiday</td>\n",
              "      <td>Yes</td>\n",
              "    </tr>\n",
              "    <tr>\n",
              "      <th>1</th>\n",
              "      <td>01/12/2017</td>\n",
              "      <td>204</td>\n",
              "      <td>1</td>\n",
              "      <td>-5.5</td>\n",
              "      <td>38</td>\n",
              "      <td>0.8</td>\n",
              "      <td>2000</td>\n",
              "      <td>-17.6</td>\n",
              "      <td>0.0</td>\n",
              "      <td>0.0</td>\n",
              "      <td>0.0</td>\n",
              "      <td>Winter</td>\n",
              "      <td>No Holiday</td>\n",
              "      <td>Yes</td>\n",
              "    </tr>\n",
              "    <tr>\n",
              "      <th>2</th>\n",
              "      <td>01/12/2017</td>\n",
              "      <td>173</td>\n",
              "      <td>2</td>\n",
              "      <td>-6.0</td>\n",
              "      <td>39</td>\n",
              "      <td>1.0</td>\n",
              "      <td>2000</td>\n",
              "      <td>-17.7</td>\n",
              "      <td>0.0</td>\n",
              "      <td>0.0</td>\n",
              "      <td>0.0</td>\n",
              "      <td>Winter</td>\n",
              "      <td>No Holiday</td>\n",
              "      <td>Yes</td>\n",
              "    </tr>\n",
              "    <tr>\n",
              "      <th>3</th>\n",
              "      <td>01/12/2017</td>\n",
              "      <td>107</td>\n",
              "      <td>3</td>\n",
              "      <td>-6.2</td>\n",
              "      <td>40</td>\n",
              "      <td>0.9</td>\n",
              "      <td>2000</td>\n",
              "      <td>-17.6</td>\n",
              "      <td>0.0</td>\n",
              "      <td>0.0</td>\n",
              "      <td>0.0</td>\n",
              "      <td>Winter</td>\n",
              "      <td>No Holiday</td>\n",
              "      <td>Yes</td>\n",
              "    </tr>\n",
              "    <tr>\n",
              "      <th>4</th>\n",
              "      <td>01/12/2017</td>\n",
              "      <td>78</td>\n",
              "      <td>4</td>\n",
              "      <td>-6.0</td>\n",
              "      <td>36</td>\n",
              "      <td>2.3</td>\n",
              "      <td>2000</td>\n",
              "      <td>-18.6</td>\n",
              "      <td>0.0</td>\n",
              "      <td>0.0</td>\n",
              "      <td>0.0</td>\n",
              "      <td>Winter</td>\n",
              "      <td>No Holiday</td>\n",
              "      <td>Yes</td>\n",
              "    </tr>\n",
              "  </tbody>\n",
              "</table>\n",
              "</div>\n",
              "      <button class=\"colab-df-convert\" onclick=\"convertToInteractive('df-8c6ac1c8-5ed9-455a-81e4-62eed67c0c47')\"\n",
              "              title=\"Convert this dataframe to an interactive table.\"\n",
              "              style=\"display:none;\">\n",
              "        \n",
              "  <svg xmlns=\"http://www.w3.org/2000/svg\" height=\"24px\"viewBox=\"0 0 24 24\"\n",
              "       width=\"24px\">\n",
              "    <path d=\"M0 0h24v24H0V0z\" fill=\"none\"/>\n",
              "    <path d=\"M18.56 5.44l.94 2.06.94-2.06 2.06-.94-2.06-.94-.94-2.06-.94 2.06-2.06.94zm-11 1L8.5 8.5l.94-2.06 2.06-.94-2.06-.94L8.5 2.5l-.94 2.06-2.06.94zm10 10l.94 2.06.94-2.06 2.06-.94-2.06-.94-.94-2.06-.94 2.06-2.06.94z\"/><path d=\"M17.41 7.96l-1.37-1.37c-.4-.4-.92-.59-1.43-.59-.52 0-1.04.2-1.43.59L10.3 9.45l-7.72 7.72c-.78.78-.78 2.05 0 2.83L4 21.41c.39.39.9.59 1.41.59.51 0 1.02-.2 1.41-.59l7.78-7.78 2.81-2.81c.8-.78.8-2.07 0-2.86zM5.41 20L4 18.59l7.72-7.72 1.47 1.35L5.41 20z\"/>\n",
              "  </svg>\n",
              "      </button>\n",
              "      \n",
              "  <style>\n",
              "    .colab-df-container {\n",
              "      display:flex;\n",
              "      flex-wrap:wrap;\n",
              "      gap: 12px;\n",
              "    }\n",
              "\n",
              "    .colab-df-convert {\n",
              "      background-color: #E8F0FE;\n",
              "      border: none;\n",
              "      border-radius: 50%;\n",
              "      cursor: pointer;\n",
              "      display: none;\n",
              "      fill: #1967D2;\n",
              "      height: 32px;\n",
              "      padding: 0 0 0 0;\n",
              "      width: 32px;\n",
              "    }\n",
              "\n",
              "    .colab-df-convert:hover {\n",
              "      background-color: #E2EBFA;\n",
              "      box-shadow: 0px 1px 2px rgba(60, 64, 67, 0.3), 0px 1px 3px 1px rgba(60, 64, 67, 0.15);\n",
              "      fill: #174EA6;\n",
              "    }\n",
              "\n",
              "    [theme=dark] .colab-df-convert {\n",
              "      background-color: #3B4455;\n",
              "      fill: #D2E3FC;\n",
              "    }\n",
              "\n",
              "    [theme=dark] .colab-df-convert:hover {\n",
              "      background-color: #434B5C;\n",
              "      box-shadow: 0px 1px 3px 1px rgba(0, 0, 0, 0.15);\n",
              "      filter: drop-shadow(0px 1px 2px rgba(0, 0, 0, 0.3));\n",
              "      fill: #FFFFFF;\n",
              "    }\n",
              "  </style>\n",
              "\n",
              "      <script>\n",
              "        const buttonEl =\n",
              "          document.querySelector('#df-8c6ac1c8-5ed9-455a-81e4-62eed67c0c47 button.colab-df-convert');\n",
              "        buttonEl.style.display =\n",
              "          google.colab.kernel.accessAllowed ? 'block' : 'none';\n",
              "\n",
              "        async function convertToInteractive(key) {\n",
              "          const element = document.querySelector('#df-8c6ac1c8-5ed9-455a-81e4-62eed67c0c47');\n",
              "          const dataTable =\n",
              "            await google.colab.kernel.invokeFunction('convertToInteractive',\n",
              "                                                     [key], {});\n",
              "          if (!dataTable) return;\n",
              "\n",
              "          const docLinkHtml = 'Like what you see? Visit the ' +\n",
              "            '<a target=\"_blank\" href=https://colab.research.google.com/notebooks/data_table.ipynb>data table notebook</a>'\n",
              "            + ' to learn more about interactive tables.';\n",
              "          element.innerHTML = '';\n",
              "          dataTable['output_type'] = 'display_data';\n",
              "          await google.colab.output.renderOutput(dataTable, element);\n",
              "          const docLink = document.createElement('div');\n",
              "          docLink.innerHTML = docLinkHtml;\n",
              "          element.appendChild(docLink);\n",
              "        }\n",
              "      </script>\n",
              "    </div>\n",
              "  </div>\n",
              "  "
            ]
          },
          "metadata": {},
          "execution_count": 179
        }
      ]
    },
    {
      "cell_type": "code",
      "source": [
        "# Checking bottom records in the dataframe\n",
        "df.tail()"
      ],
      "metadata": {
        "id": "rkkY3BdpiRN4",
        "colab": {
          "base_uri": "https://localhost:8080/",
          "height": 392
        },
        "outputId": "83309779-61a3-4c69-df0b-2a1bfb14c1d2"
      },
      "execution_count": 180,
      "outputs": [
        {
          "output_type": "execute_result",
          "data": {
            "text/plain": [
              "            Date  Rented Bike Count  Hour  Temperature(°C)  Humidity(%)  \\\n",
              "8755  30/11/2018               1003    19              4.2           34   \n",
              "8756  30/11/2018                764    20              3.4           37   \n",
              "8757  30/11/2018                694    21              2.6           39   \n",
              "8758  30/11/2018                712    22              2.1           41   \n",
              "8759  30/11/2018                584    23              1.9           43   \n",
              "\n",
              "      Wind speed (m/s)  Visibility (10m)  Dew point temperature(°C)  \\\n",
              "8755               2.6              1894                      -10.3   \n",
              "8756               2.3              2000                       -9.9   \n",
              "8757               0.3              1968                       -9.9   \n",
              "8758               1.0              1859                       -9.8   \n",
              "8759               1.3              1909                       -9.3   \n",
              "\n",
              "      Solar Radiation (MJ/m2)  Rainfall(mm)  Snowfall (cm) Seasons  \\\n",
              "8755                      0.0           0.0            0.0  Autumn   \n",
              "8756                      0.0           0.0            0.0  Autumn   \n",
              "8757                      0.0           0.0            0.0  Autumn   \n",
              "8758                      0.0           0.0            0.0  Autumn   \n",
              "8759                      0.0           0.0            0.0  Autumn   \n",
              "\n",
              "         Holiday Functioning Day  \n",
              "8755  No Holiday             Yes  \n",
              "8756  No Holiday             Yes  \n",
              "8757  No Holiday             Yes  \n",
              "8758  No Holiday             Yes  \n",
              "8759  No Holiday             Yes  "
            ],
            "text/html": [
              "\n",
              "  <div id=\"df-96ff6f7f-a1d5-46d8-9a22-93584f3cfec8\">\n",
              "    <div class=\"colab-df-container\">\n",
              "      <div>\n",
              "<style scoped>\n",
              "    .dataframe tbody tr th:only-of-type {\n",
              "        vertical-align: middle;\n",
              "    }\n",
              "\n",
              "    .dataframe tbody tr th {\n",
              "        vertical-align: top;\n",
              "    }\n",
              "\n",
              "    .dataframe thead th {\n",
              "        text-align: right;\n",
              "    }\n",
              "</style>\n",
              "<table border=\"1\" class=\"dataframe\">\n",
              "  <thead>\n",
              "    <tr style=\"text-align: right;\">\n",
              "      <th></th>\n",
              "      <th>Date</th>\n",
              "      <th>Rented Bike Count</th>\n",
              "      <th>Hour</th>\n",
              "      <th>Temperature(°C)</th>\n",
              "      <th>Humidity(%)</th>\n",
              "      <th>Wind speed (m/s)</th>\n",
              "      <th>Visibility (10m)</th>\n",
              "      <th>Dew point temperature(°C)</th>\n",
              "      <th>Solar Radiation (MJ/m2)</th>\n",
              "      <th>Rainfall(mm)</th>\n",
              "      <th>Snowfall (cm)</th>\n",
              "      <th>Seasons</th>\n",
              "      <th>Holiday</th>\n",
              "      <th>Functioning Day</th>\n",
              "    </tr>\n",
              "  </thead>\n",
              "  <tbody>\n",
              "    <tr>\n",
              "      <th>8755</th>\n",
              "      <td>30/11/2018</td>\n",
              "      <td>1003</td>\n",
              "      <td>19</td>\n",
              "      <td>4.2</td>\n",
              "      <td>34</td>\n",
              "      <td>2.6</td>\n",
              "      <td>1894</td>\n",
              "      <td>-10.3</td>\n",
              "      <td>0.0</td>\n",
              "      <td>0.0</td>\n",
              "      <td>0.0</td>\n",
              "      <td>Autumn</td>\n",
              "      <td>No Holiday</td>\n",
              "      <td>Yes</td>\n",
              "    </tr>\n",
              "    <tr>\n",
              "      <th>8756</th>\n",
              "      <td>30/11/2018</td>\n",
              "      <td>764</td>\n",
              "      <td>20</td>\n",
              "      <td>3.4</td>\n",
              "      <td>37</td>\n",
              "      <td>2.3</td>\n",
              "      <td>2000</td>\n",
              "      <td>-9.9</td>\n",
              "      <td>0.0</td>\n",
              "      <td>0.0</td>\n",
              "      <td>0.0</td>\n",
              "      <td>Autumn</td>\n",
              "      <td>No Holiday</td>\n",
              "      <td>Yes</td>\n",
              "    </tr>\n",
              "    <tr>\n",
              "      <th>8757</th>\n",
              "      <td>30/11/2018</td>\n",
              "      <td>694</td>\n",
              "      <td>21</td>\n",
              "      <td>2.6</td>\n",
              "      <td>39</td>\n",
              "      <td>0.3</td>\n",
              "      <td>1968</td>\n",
              "      <td>-9.9</td>\n",
              "      <td>0.0</td>\n",
              "      <td>0.0</td>\n",
              "      <td>0.0</td>\n",
              "      <td>Autumn</td>\n",
              "      <td>No Holiday</td>\n",
              "      <td>Yes</td>\n",
              "    </tr>\n",
              "    <tr>\n",
              "      <th>8758</th>\n",
              "      <td>30/11/2018</td>\n",
              "      <td>712</td>\n",
              "      <td>22</td>\n",
              "      <td>2.1</td>\n",
              "      <td>41</td>\n",
              "      <td>1.0</td>\n",
              "      <td>1859</td>\n",
              "      <td>-9.8</td>\n",
              "      <td>0.0</td>\n",
              "      <td>0.0</td>\n",
              "      <td>0.0</td>\n",
              "      <td>Autumn</td>\n",
              "      <td>No Holiday</td>\n",
              "      <td>Yes</td>\n",
              "    </tr>\n",
              "    <tr>\n",
              "      <th>8759</th>\n",
              "      <td>30/11/2018</td>\n",
              "      <td>584</td>\n",
              "      <td>23</td>\n",
              "      <td>1.9</td>\n",
              "      <td>43</td>\n",
              "      <td>1.3</td>\n",
              "      <td>1909</td>\n",
              "      <td>-9.3</td>\n",
              "      <td>0.0</td>\n",
              "      <td>0.0</td>\n",
              "      <td>0.0</td>\n",
              "      <td>Autumn</td>\n",
              "      <td>No Holiday</td>\n",
              "      <td>Yes</td>\n",
              "    </tr>\n",
              "  </tbody>\n",
              "</table>\n",
              "</div>\n",
              "      <button class=\"colab-df-convert\" onclick=\"convertToInteractive('df-96ff6f7f-a1d5-46d8-9a22-93584f3cfec8')\"\n",
              "              title=\"Convert this dataframe to an interactive table.\"\n",
              "              style=\"display:none;\">\n",
              "        \n",
              "  <svg xmlns=\"http://www.w3.org/2000/svg\" height=\"24px\"viewBox=\"0 0 24 24\"\n",
              "       width=\"24px\">\n",
              "    <path d=\"M0 0h24v24H0V0z\" fill=\"none\"/>\n",
              "    <path d=\"M18.56 5.44l.94 2.06.94-2.06 2.06-.94-2.06-.94-.94-2.06-.94 2.06-2.06.94zm-11 1L8.5 8.5l.94-2.06 2.06-.94-2.06-.94L8.5 2.5l-.94 2.06-2.06.94zm10 10l.94 2.06.94-2.06 2.06-.94-2.06-.94-.94-2.06-.94 2.06-2.06.94z\"/><path d=\"M17.41 7.96l-1.37-1.37c-.4-.4-.92-.59-1.43-.59-.52 0-1.04.2-1.43.59L10.3 9.45l-7.72 7.72c-.78.78-.78 2.05 0 2.83L4 21.41c.39.39.9.59 1.41.59.51 0 1.02-.2 1.41-.59l7.78-7.78 2.81-2.81c.8-.78.8-2.07 0-2.86zM5.41 20L4 18.59l7.72-7.72 1.47 1.35L5.41 20z\"/>\n",
              "  </svg>\n",
              "      </button>\n",
              "      \n",
              "  <style>\n",
              "    .colab-df-container {\n",
              "      display:flex;\n",
              "      flex-wrap:wrap;\n",
              "      gap: 12px;\n",
              "    }\n",
              "\n",
              "    .colab-df-convert {\n",
              "      background-color: #E8F0FE;\n",
              "      border: none;\n",
              "      border-radius: 50%;\n",
              "      cursor: pointer;\n",
              "      display: none;\n",
              "      fill: #1967D2;\n",
              "      height: 32px;\n",
              "      padding: 0 0 0 0;\n",
              "      width: 32px;\n",
              "    }\n",
              "\n",
              "    .colab-df-convert:hover {\n",
              "      background-color: #E2EBFA;\n",
              "      box-shadow: 0px 1px 2px rgba(60, 64, 67, 0.3), 0px 1px 3px 1px rgba(60, 64, 67, 0.15);\n",
              "      fill: #174EA6;\n",
              "    }\n",
              "\n",
              "    [theme=dark] .colab-df-convert {\n",
              "      background-color: #3B4455;\n",
              "      fill: #D2E3FC;\n",
              "    }\n",
              "\n",
              "    [theme=dark] .colab-df-convert:hover {\n",
              "      background-color: #434B5C;\n",
              "      box-shadow: 0px 1px 3px 1px rgba(0, 0, 0, 0.15);\n",
              "      filter: drop-shadow(0px 1px 2px rgba(0, 0, 0, 0.3));\n",
              "      fill: #FFFFFF;\n",
              "    }\n",
              "  </style>\n",
              "\n",
              "      <script>\n",
              "        const buttonEl =\n",
              "          document.querySelector('#df-96ff6f7f-a1d5-46d8-9a22-93584f3cfec8 button.colab-df-convert');\n",
              "        buttonEl.style.display =\n",
              "          google.colab.kernel.accessAllowed ? 'block' : 'none';\n",
              "\n",
              "        async function convertToInteractive(key) {\n",
              "          const element = document.querySelector('#df-96ff6f7f-a1d5-46d8-9a22-93584f3cfec8');\n",
              "          const dataTable =\n",
              "            await google.colab.kernel.invokeFunction('convertToInteractive',\n",
              "                                                     [key], {});\n",
              "          if (!dataTable) return;\n",
              "\n",
              "          const docLinkHtml = 'Like what you see? Visit the ' +\n",
              "            '<a target=\"_blank\" href=https://colab.research.google.com/notebooks/data_table.ipynb>data table notebook</a>'\n",
              "            + ' to learn more about interactive tables.';\n",
              "          element.innerHTML = '';\n",
              "          dataTable['output_type'] = 'display_data';\n",
              "          await google.colab.output.renderOutput(dataTable, element);\n",
              "          const docLink = document.createElement('div');\n",
              "          docLink.innerHTML = docLinkHtml;\n",
              "          element.appendChild(docLink);\n",
              "        }\n",
              "      </script>\n",
              "    </div>\n",
              "  </div>\n",
              "  "
            ]
          },
          "metadata": {},
          "execution_count": 180
        }
      ]
    },
    {
      "cell_type": "code",
      "source": [
        "df.columns"
      ],
      "metadata": {
        "id": "hbd_labfFTQb",
        "colab": {
          "base_uri": "https://localhost:8080/"
        },
        "outputId": "8e4915d4-eb41-44cf-dc3c-6be989fe7b11"
      },
      "execution_count": 181,
      "outputs": [
        {
          "output_type": "execute_result",
          "data": {
            "text/plain": [
              "Index(['Date', 'Rented Bike Count', 'Hour', 'Temperature(°C)', 'Humidity(%)',\n",
              "       'Wind speed (m/s)', 'Visibility (10m)', 'Dew point temperature(°C)',\n",
              "       'Solar Radiation (MJ/m2)', 'Rainfall(mm)', 'Snowfall (cm)', 'Seasons',\n",
              "       'Holiday', 'Functioning Day'],\n",
              "      dtype='object')"
            ]
          },
          "metadata": {},
          "execution_count": 181
        }
      ]
    },
    {
      "cell_type": "markdown",
      "source": [
        "**Rename Columns**"
      ],
      "metadata": {
        "id": "YxxksaLAmsOQ"
      }
    },
    {
      "cell_type": "code",
      "source": [
        "df.rename(columns={'Rented Bike Count': 'Rented_Bike_Count','Wind speed (m/s)':'WindSpeed','Visibility (10m)':'Visibility',\n",
        " 'Dew point temperature(°C)': 'Dew_Point_Temperature', 'Solar Radiation (MJ/m2)':'Solar_Radiation','Rainfall(mm)':'Rainfall','Snowfall (cm)':'Snowfall',\n",
        " 'Functioning Day':'Functioning_Day','Temperature(°C)':'Temperature','Humidity(%)':'Humidity'}, inplace=True)"
      ],
      "metadata": {
        "id": "8rxaU07-OKit"
      },
      "execution_count": 182,
      "outputs": []
    },
    {
      "cell_type": "code",
      "source": [
        "# Data shape\n",
        "df.shape"
      ],
      "metadata": {
        "id": "aeb7kBZVBsjM",
        "colab": {
          "base_uri": "https://localhost:8080/"
        },
        "outputId": "b82cd732-6fef-4e33-ad6a-b3160f363371"
      },
      "execution_count": 183,
      "outputs": [
        {
          "output_type": "execute_result",
          "data": {
            "text/plain": [
              "(8760, 14)"
            ]
          },
          "metadata": {},
          "execution_count": 183
        }
      ]
    },
    {
      "cell_type": "markdown",
      "source": [
        "The dataset contains 8760 rows and 14 columns."
      ],
      "metadata": {
        "id": "GqbnDlBhpOf6"
      }
    },
    {
      "cell_type": "code",
      "source": [
        " #Change The datatype of Date columns to extract 'Month' ,'Day', \"year\". so  further we can analyze the Bike rentals with respect to year months and days.\n",
        "df['Date']=df['Date'].astype('datetime64[ns]')"
      ],
      "metadata": {
        "id": "dr_RwMbDtUvf"
      },
      "execution_count": 184,
      "outputs": []
    },
    {
      "cell_type": "code",
      "source": [
        "# Creating new columns 'Month', 'Year' ,'Day.\n",
        "df['Month']=df['Date'].dt.month\n",
        "\n",
        " #dt.day_name() and dt.month_name()  will give day names and month names\n",
        "# dt.month will give month numbers as 1,2,3,...12\n",
        "\n",
        "df['Day']=df['Date'].dt.day_name()    \n",
        "    \n",
        "                                                          "
      ],
      "metadata": {
        "id": "BlodPQ7im8-W"
      },
      "execution_count": 185,
      "outputs": []
    },
    {
      "cell_type": "code",
      "source": [
        "#  Creating new column and Encoding with 1 if its weekend and 0 if its Weekdays.\n",
        "df['Weekdays_or_weekend']=df['Day'].apply(lambda x: 1 if x=='Saturday' or x=='Sunday' else 0)\n"
      ],
      "metadata": {
        "id": "bcrBrJ2cnXdO"
      },
      "execution_count": 186,
      "outputs": []
    },
    {
      "cell_type": "code",
      "source": [
        "# check the Newly Created columns\n",
        "df.head(5)"
      ],
      "metadata": {
        "id": "k6U4WAtpOXhv",
        "colab": {
          "base_uri": "https://localhost:8080/",
          "height": 357
        },
        "outputId": "f6085518-cac8-4fc8-bf3f-070f65c2b14f"
      },
      "execution_count": 187,
      "outputs": [
        {
          "output_type": "execute_result",
          "data": {
            "text/plain": [
              "        Date  Rented_Bike_Count  Hour  Temperature  Humidity  WindSpeed  \\\n",
              "0 2017-01-12                254     0         -5.2        37        2.2   \n",
              "1 2017-01-12                204     1         -5.5        38        0.8   \n",
              "2 2017-01-12                173     2         -6.0        39        1.0   \n",
              "3 2017-01-12                107     3         -6.2        40        0.9   \n",
              "4 2017-01-12                 78     4         -6.0        36        2.3   \n",
              "\n",
              "   Visibility  Dew_Point_Temperature  Solar_Radiation  Rainfall  Snowfall  \\\n",
              "0        2000                  -17.6              0.0       0.0       0.0   \n",
              "1        2000                  -17.6              0.0       0.0       0.0   \n",
              "2        2000                  -17.7              0.0       0.0       0.0   \n",
              "3        2000                  -17.6              0.0       0.0       0.0   \n",
              "4        2000                  -18.6              0.0       0.0       0.0   \n",
              "\n",
              "  Seasons     Holiday Functioning_Day  Month       Day  Weekdays_or_weekend  \n",
              "0  Winter  No Holiday             Yes      1  Thursday                    0  \n",
              "1  Winter  No Holiday             Yes      1  Thursday                    0  \n",
              "2  Winter  No Holiday             Yes      1  Thursday                    0  \n",
              "3  Winter  No Holiday             Yes      1  Thursday                    0  \n",
              "4  Winter  No Holiday             Yes      1  Thursday                    0  "
            ],
            "text/html": [
              "\n",
              "  <div id=\"df-23d12b7d-f33e-49f2-97bc-fdc9ae08fae4\">\n",
              "    <div class=\"colab-df-container\">\n",
              "      <div>\n",
              "<style scoped>\n",
              "    .dataframe tbody tr th:only-of-type {\n",
              "        vertical-align: middle;\n",
              "    }\n",
              "\n",
              "    .dataframe tbody tr th {\n",
              "        vertical-align: top;\n",
              "    }\n",
              "\n",
              "    .dataframe thead th {\n",
              "        text-align: right;\n",
              "    }\n",
              "</style>\n",
              "<table border=\"1\" class=\"dataframe\">\n",
              "  <thead>\n",
              "    <tr style=\"text-align: right;\">\n",
              "      <th></th>\n",
              "      <th>Date</th>\n",
              "      <th>Rented_Bike_Count</th>\n",
              "      <th>Hour</th>\n",
              "      <th>Temperature</th>\n",
              "      <th>Humidity</th>\n",
              "      <th>WindSpeed</th>\n",
              "      <th>Visibility</th>\n",
              "      <th>Dew_Point_Temperature</th>\n",
              "      <th>Solar_Radiation</th>\n",
              "      <th>Rainfall</th>\n",
              "      <th>Snowfall</th>\n",
              "      <th>Seasons</th>\n",
              "      <th>Holiday</th>\n",
              "      <th>Functioning_Day</th>\n",
              "      <th>Month</th>\n",
              "      <th>Day</th>\n",
              "      <th>Weekdays_or_weekend</th>\n",
              "    </tr>\n",
              "  </thead>\n",
              "  <tbody>\n",
              "    <tr>\n",
              "      <th>0</th>\n",
              "      <td>2017-01-12</td>\n",
              "      <td>254</td>\n",
              "      <td>0</td>\n",
              "      <td>-5.2</td>\n",
              "      <td>37</td>\n",
              "      <td>2.2</td>\n",
              "      <td>2000</td>\n",
              "      <td>-17.6</td>\n",
              "      <td>0.0</td>\n",
              "      <td>0.0</td>\n",
              "      <td>0.0</td>\n",
              "      <td>Winter</td>\n",
              "      <td>No Holiday</td>\n",
              "      <td>Yes</td>\n",
              "      <td>1</td>\n",
              "      <td>Thursday</td>\n",
              "      <td>0</td>\n",
              "    </tr>\n",
              "    <tr>\n",
              "      <th>1</th>\n",
              "      <td>2017-01-12</td>\n",
              "      <td>204</td>\n",
              "      <td>1</td>\n",
              "      <td>-5.5</td>\n",
              "      <td>38</td>\n",
              "      <td>0.8</td>\n",
              "      <td>2000</td>\n",
              "      <td>-17.6</td>\n",
              "      <td>0.0</td>\n",
              "      <td>0.0</td>\n",
              "      <td>0.0</td>\n",
              "      <td>Winter</td>\n",
              "      <td>No Holiday</td>\n",
              "      <td>Yes</td>\n",
              "      <td>1</td>\n",
              "      <td>Thursday</td>\n",
              "      <td>0</td>\n",
              "    </tr>\n",
              "    <tr>\n",
              "      <th>2</th>\n",
              "      <td>2017-01-12</td>\n",
              "      <td>173</td>\n",
              "      <td>2</td>\n",
              "      <td>-6.0</td>\n",
              "      <td>39</td>\n",
              "      <td>1.0</td>\n",
              "      <td>2000</td>\n",
              "      <td>-17.7</td>\n",
              "      <td>0.0</td>\n",
              "      <td>0.0</td>\n",
              "      <td>0.0</td>\n",
              "      <td>Winter</td>\n",
              "      <td>No Holiday</td>\n",
              "      <td>Yes</td>\n",
              "      <td>1</td>\n",
              "      <td>Thursday</td>\n",
              "      <td>0</td>\n",
              "    </tr>\n",
              "    <tr>\n",
              "      <th>3</th>\n",
              "      <td>2017-01-12</td>\n",
              "      <td>107</td>\n",
              "      <td>3</td>\n",
              "      <td>-6.2</td>\n",
              "      <td>40</td>\n",
              "      <td>0.9</td>\n",
              "      <td>2000</td>\n",
              "      <td>-17.6</td>\n",
              "      <td>0.0</td>\n",
              "      <td>0.0</td>\n",
              "      <td>0.0</td>\n",
              "      <td>Winter</td>\n",
              "      <td>No Holiday</td>\n",
              "      <td>Yes</td>\n",
              "      <td>1</td>\n",
              "      <td>Thursday</td>\n",
              "      <td>0</td>\n",
              "    </tr>\n",
              "    <tr>\n",
              "      <th>4</th>\n",
              "      <td>2017-01-12</td>\n",
              "      <td>78</td>\n",
              "      <td>4</td>\n",
              "      <td>-6.0</td>\n",
              "      <td>36</td>\n",
              "      <td>2.3</td>\n",
              "      <td>2000</td>\n",
              "      <td>-18.6</td>\n",
              "      <td>0.0</td>\n",
              "      <td>0.0</td>\n",
              "      <td>0.0</td>\n",
              "      <td>Winter</td>\n",
              "      <td>No Holiday</td>\n",
              "      <td>Yes</td>\n",
              "      <td>1</td>\n",
              "      <td>Thursday</td>\n",
              "      <td>0</td>\n",
              "    </tr>\n",
              "  </tbody>\n",
              "</table>\n",
              "</div>\n",
              "      <button class=\"colab-df-convert\" onclick=\"convertToInteractive('df-23d12b7d-f33e-49f2-97bc-fdc9ae08fae4')\"\n",
              "              title=\"Convert this dataframe to an interactive table.\"\n",
              "              style=\"display:none;\">\n",
              "        \n",
              "  <svg xmlns=\"http://www.w3.org/2000/svg\" height=\"24px\"viewBox=\"0 0 24 24\"\n",
              "       width=\"24px\">\n",
              "    <path d=\"M0 0h24v24H0V0z\" fill=\"none\"/>\n",
              "    <path d=\"M18.56 5.44l.94 2.06.94-2.06 2.06-.94-2.06-.94-.94-2.06-.94 2.06-2.06.94zm-11 1L8.5 8.5l.94-2.06 2.06-.94-2.06-.94L8.5 2.5l-.94 2.06-2.06.94zm10 10l.94 2.06.94-2.06 2.06-.94-2.06-.94-.94-2.06-.94 2.06-2.06.94z\"/><path d=\"M17.41 7.96l-1.37-1.37c-.4-.4-.92-.59-1.43-.59-.52 0-1.04.2-1.43.59L10.3 9.45l-7.72 7.72c-.78.78-.78 2.05 0 2.83L4 21.41c.39.39.9.59 1.41.59.51 0 1.02-.2 1.41-.59l7.78-7.78 2.81-2.81c.8-.78.8-2.07 0-2.86zM5.41 20L4 18.59l7.72-7.72 1.47 1.35L5.41 20z\"/>\n",
              "  </svg>\n",
              "      </button>\n",
              "      \n",
              "  <style>\n",
              "    .colab-df-container {\n",
              "      display:flex;\n",
              "      flex-wrap:wrap;\n",
              "      gap: 12px;\n",
              "    }\n",
              "\n",
              "    .colab-df-convert {\n",
              "      background-color: #E8F0FE;\n",
              "      border: none;\n",
              "      border-radius: 50%;\n",
              "      cursor: pointer;\n",
              "      display: none;\n",
              "      fill: #1967D2;\n",
              "      height: 32px;\n",
              "      padding: 0 0 0 0;\n",
              "      width: 32px;\n",
              "    }\n",
              "\n",
              "    .colab-df-convert:hover {\n",
              "      background-color: #E2EBFA;\n",
              "      box-shadow: 0px 1px 2px rgba(60, 64, 67, 0.3), 0px 1px 3px 1px rgba(60, 64, 67, 0.15);\n",
              "      fill: #174EA6;\n",
              "    }\n",
              "\n",
              "    [theme=dark] .colab-df-convert {\n",
              "      background-color: #3B4455;\n",
              "      fill: #D2E3FC;\n",
              "    }\n",
              "\n",
              "    [theme=dark] .colab-df-convert:hover {\n",
              "      background-color: #434B5C;\n",
              "      box-shadow: 0px 1px 3px 1px rgba(0, 0, 0, 0.15);\n",
              "      filter: drop-shadow(0px 1px 2px rgba(0, 0, 0, 0.3));\n",
              "      fill: #FFFFFF;\n",
              "    }\n",
              "  </style>\n",
              "\n",
              "      <script>\n",
              "        const buttonEl =\n",
              "          document.querySelector('#df-23d12b7d-f33e-49f2-97bc-fdc9ae08fae4 button.colab-df-convert');\n",
              "        buttonEl.style.display =\n",
              "          google.colab.kernel.accessAllowed ? 'block' : 'none';\n",
              "\n",
              "        async function convertToInteractive(key) {\n",
              "          const element = document.querySelector('#df-23d12b7d-f33e-49f2-97bc-fdc9ae08fae4');\n",
              "          const dataTable =\n",
              "            await google.colab.kernel.invokeFunction('convertToInteractive',\n",
              "                                                     [key], {});\n",
              "          if (!dataTable) return;\n",
              "\n",
              "          const docLinkHtml = 'Like what you see? Visit the ' +\n",
              "            '<a target=\"_blank\" href=https://colab.research.google.com/notebooks/data_table.ipynb>data table notebook</a>'\n",
              "            + ' to learn more about interactive tables.';\n",
              "          element.innerHTML = '';\n",
              "          dataTable['output_type'] = 'display_data';\n",
              "          await google.colab.output.renderOutput(dataTable, element);\n",
              "          const docLink = document.createElement('div');\n",
              "          docLink.innerHTML = docLinkHtml;\n",
              "          element.appendChild(docLink);\n",
              "        }\n",
              "      </script>\n",
              "    </div>\n",
              "  </div>\n",
              "  "
            ]
          },
          "metadata": {},
          "execution_count": 187
        }
      ]
    },
    {
      "cell_type": "code",
      "source": [
        "# Now We can Drop Day and Date columns.\n",
        "df.drop(['Date',\"Day\"],axis=1 ,inplace=True)"
      ],
      "metadata": {
        "id": "A-o5qzXgsNdj"
      },
      "execution_count": 188,
      "outputs": []
    },
    {
      "cell_type": "code",
      "source": [
        "#variable which informs us if it is night or day\n",
        "df['label_day_night']=df['Hour'].apply(lambda x : 'Night' if (x >20 or x<5) else( 'Day'))"
      ],
      "metadata": {
        "id": "IZVaJeJomAD-"
      },
      "execution_count": 189,
      "outputs": []
    },
    {
      "cell_type": "code",
      "source": [
        "df.Functioning_Day.value_counts()"
      ],
      "metadata": {
        "id": "Ko54miSOPDGT",
        "colab": {
          "base_uri": "https://localhost:8080/"
        },
        "outputId": "c27fb87e-8bae-4a2d-d4ba-2f0b2531e128"
      },
      "execution_count": 190,
      "outputs": [
        {
          "output_type": "execute_result",
          "data": {
            "text/plain": [
              "Yes    8465\n",
              "No      295\n",
              "Name: Functioning_Day, dtype: int64"
            ]
          },
          "metadata": {},
          "execution_count": 190
        }
      ]
    },
    {
      "cell_type": "code",
      "source": [
        "df.Holiday.value_counts()"
      ],
      "metadata": {
        "id": "gqoUsPV7O_Em",
        "colab": {
          "base_uri": "https://localhost:8080/"
        },
        "outputId": "a13f82b6-ee1c-4094-89c0-529f3820b16c"
      },
      "execution_count": 191,
      "outputs": [
        {
          "output_type": "execute_result",
          "data": {
            "text/plain": [
              "No Holiday    8328\n",
              "Holiday        432\n",
              "Name: Holiday, dtype: int64"
            ]
          },
          "metadata": {},
          "execution_count": 191
        }
      ]
    },
    {
      "cell_type": "code",
      "source": [
        "df.Seasons.value_counts()"
      ],
      "metadata": {
        "id": "EKgQ_8ZEO5c0",
        "colab": {
          "base_uri": "https://localhost:8080/"
        },
        "outputId": "37626307-1ad7-497e-b66d-69c2505384b9"
      },
      "execution_count": 192,
      "outputs": [
        {
          "output_type": "execute_result",
          "data": {
            "text/plain": [
              "Spring    2208\n",
              "Summer    2208\n",
              "Autumn    2184\n",
              "Winter    2160\n",
              "Name: Seasons, dtype: int64"
            ]
          },
          "metadata": {},
          "execution_count": 192
        }
      ]
    },
    {
      "cell_type": "code",
      "source": [
        "#Get distinct categories counts for for Month categories\n",
        "df['Month'].value_counts()"
      ],
      "metadata": {
        "id": "wRBVQbz5OwOv",
        "colab": {
          "base_uri": "https://localhost:8080/"
        },
        "outputId": "17315325-c27d-4cd3-adfd-e09e1d20d9e5"
      },
      "execution_count": 193,
      "outputs": [
        {
          "output_type": "execute_result",
          "data": {
            "text/plain": [
              "1     744\n",
              "3     744\n",
              "5     744\n",
              "7     744\n",
              "8     744\n",
              "10    744\n",
              "12    744\n",
              "4     720\n",
              "6     720\n",
              "9     720\n",
              "11    720\n",
              "2     672\n",
              "Name: Month, dtype: int64"
            ]
          },
          "metadata": {},
          "execution_count": 193
        }
      ]
    },
    {
      "cell_type": "code",
      "source": [
        "#Get distinct categories counts for for Weekdays_or_weekend categories\n",
        "df['Weekdays_or_weekend'].value_counts()"
      ],
      "metadata": {
        "id": "dV6RFjQrPL_O",
        "colab": {
          "base_uri": "https://localhost:8080/"
        },
        "outputId": "f420ec28-2fc9-4607-b11b-92eeae26cabb"
      },
      "execution_count": 194,
      "outputs": [
        {
          "output_type": "execute_result",
          "data": {
            "text/plain": [
              "0    6216\n",
              "1    2544\n",
              "Name: Weekdays_or_weekend, dtype: int64"
            ]
          },
          "metadata": {},
          "execution_count": 194
        }
      ]
    },
    {
      "cell_type": "code",
      "source": [
        "# data dtype\n",
        "df.info()"
      ],
      "metadata": {
        "id": "JHHSmW-LByD0",
        "colab": {
          "base_uri": "https://localhost:8080/"
        },
        "outputId": "eb3fa314-bc3b-476c-e41f-b58b331eda5f"
      },
      "execution_count": 195,
      "outputs": [
        {
          "output_type": "stream",
          "name": "stdout",
          "text": [
            "<class 'pandas.core.frame.DataFrame'>\n",
            "RangeIndex: 8760 entries, 0 to 8759\n",
            "Data columns (total 16 columns):\n",
            " #   Column                 Non-Null Count  Dtype  \n",
            "---  ------                 --------------  -----  \n",
            " 0   Rented_Bike_Count      8760 non-null   int64  \n",
            " 1   Hour                   8760 non-null   int64  \n",
            " 2   Temperature            8760 non-null   float64\n",
            " 3   Humidity               8760 non-null   int64  \n",
            " 4   WindSpeed              8760 non-null   float64\n",
            " 5   Visibility             8760 non-null   int64  \n",
            " 6   Dew_Point_Temperature  8760 non-null   float64\n",
            " 7   Solar_Radiation        8760 non-null   float64\n",
            " 8   Rainfall               8760 non-null   float64\n",
            " 9   Snowfall               8760 non-null   float64\n",
            " 10  Seasons                8760 non-null   object \n",
            " 11  Holiday                8760 non-null   object \n",
            " 12  Functioning_Day        8760 non-null   object \n",
            " 13  Month                  8760 non-null   int64  \n",
            " 14  Weekdays_or_weekend    8760 non-null   int64  \n",
            " 15  label_day_night        8760 non-null   object \n",
            "dtypes: float64(6), int64(6), object(4)\n",
            "memory usage: 1.1+ MB\n"
          ]
        }
      ]
    },
    {
      "cell_type": "code",
      "source": [
        "df.describe()"
      ],
      "metadata": {
        "id": "ekJF6we1xQPt",
        "colab": {
          "base_uri": "https://localhost:8080/",
          "height": 364
        },
        "outputId": "0f7adde8-c3ee-426c-8c1f-c3cc4dd8649c"
      },
      "execution_count": 196,
      "outputs": [
        {
          "output_type": "execute_result",
          "data": {
            "text/plain": [
              "       Rented_Bike_Count         Hour  Temperature     Humidity    WindSpeed  \\\n",
              "count        8760.000000  8760.000000  8760.000000  8760.000000  8760.000000   \n",
              "mean          704.602055    11.500000    12.882922    58.226256     1.724909   \n",
              "std           644.997468     6.922582    11.944825    20.362413     1.036300   \n",
              "min             0.000000     0.000000   -17.800000     0.000000     0.000000   \n",
              "25%           191.000000     5.750000     3.500000    42.000000     0.900000   \n",
              "50%           504.500000    11.500000    13.700000    57.000000     1.500000   \n",
              "75%          1065.250000    17.250000    22.500000    74.000000     2.300000   \n",
              "max          3556.000000    23.000000    39.400000    98.000000     7.400000   \n",
              "\n",
              "        Visibility  Dew_Point_Temperature  Solar_Radiation     Rainfall  \\\n",
              "count  8760.000000            8760.000000      8760.000000  8760.000000   \n",
              "mean   1436.825799               4.073813         0.569111     0.148687   \n",
              "std     608.298712              13.060369         0.868746     1.128193   \n",
              "min      27.000000             -30.600000         0.000000     0.000000   \n",
              "25%     940.000000              -4.700000         0.000000     0.000000   \n",
              "50%    1698.000000               5.100000         0.010000     0.000000   \n",
              "75%    2000.000000              14.800000         0.930000     0.000000   \n",
              "max    2000.000000              27.200000         3.520000    35.000000   \n",
              "\n",
              "          Snowfall        Month  Weekdays_or_weekend  \n",
              "count  8760.000000  8760.000000          8760.000000  \n",
              "mean      0.075068     6.526027             0.290411  \n",
              "std       0.436746     3.448048             0.453978  \n",
              "min       0.000000     1.000000             0.000000  \n",
              "25%       0.000000     4.000000             0.000000  \n",
              "50%       0.000000     7.000000             0.000000  \n",
              "75%       0.000000    10.000000             1.000000  \n",
              "max       8.800000    12.000000             1.000000  "
            ],
            "text/html": [
              "\n",
              "  <div id=\"df-c4b21e79-a938-4ba4-9fa7-f679a3e1a2e5\">\n",
              "    <div class=\"colab-df-container\">\n",
              "      <div>\n",
              "<style scoped>\n",
              "    .dataframe tbody tr th:only-of-type {\n",
              "        vertical-align: middle;\n",
              "    }\n",
              "\n",
              "    .dataframe tbody tr th {\n",
              "        vertical-align: top;\n",
              "    }\n",
              "\n",
              "    .dataframe thead th {\n",
              "        text-align: right;\n",
              "    }\n",
              "</style>\n",
              "<table border=\"1\" class=\"dataframe\">\n",
              "  <thead>\n",
              "    <tr style=\"text-align: right;\">\n",
              "      <th></th>\n",
              "      <th>Rented_Bike_Count</th>\n",
              "      <th>Hour</th>\n",
              "      <th>Temperature</th>\n",
              "      <th>Humidity</th>\n",
              "      <th>WindSpeed</th>\n",
              "      <th>Visibility</th>\n",
              "      <th>Dew_Point_Temperature</th>\n",
              "      <th>Solar_Radiation</th>\n",
              "      <th>Rainfall</th>\n",
              "      <th>Snowfall</th>\n",
              "      <th>Month</th>\n",
              "      <th>Weekdays_or_weekend</th>\n",
              "    </tr>\n",
              "  </thead>\n",
              "  <tbody>\n",
              "    <tr>\n",
              "      <th>count</th>\n",
              "      <td>8760.000000</td>\n",
              "      <td>8760.000000</td>\n",
              "      <td>8760.000000</td>\n",
              "      <td>8760.000000</td>\n",
              "      <td>8760.000000</td>\n",
              "      <td>8760.000000</td>\n",
              "      <td>8760.000000</td>\n",
              "      <td>8760.000000</td>\n",
              "      <td>8760.000000</td>\n",
              "      <td>8760.000000</td>\n",
              "      <td>8760.000000</td>\n",
              "      <td>8760.000000</td>\n",
              "    </tr>\n",
              "    <tr>\n",
              "      <th>mean</th>\n",
              "      <td>704.602055</td>\n",
              "      <td>11.500000</td>\n",
              "      <td>12.882922</td>\n",
              "      <td>58.226256</td>\n",
              "      <td>1.724909</td>\n",
              "      <td>1436.825799</td>\n",
              "      <td>4.073813</td>\n",
              "      <td>0.569111</td>\n",
              "      <td>0.148687</td>\n",
              "      <td>0.075068</td>\n",
              "      <td>6.526027</td>\n",
              "      <td>0.290411</td>\n",
              "    </tr>\n",
              "    <tr>\n",
              "      <th>std</th>\n",
              "      <td>644.997468</td>\n",
              "      <td>6.922582</td>\n",
              "      <td>11.944825</td>\n",
              "      <td>20.362413</td>\n",
              "      <td>1.036300</td>\n",
              "      <td>608.298712</td>\n",
              "      <td>13.060369</td>\n",
              "      <td>0.868746</td>\n",
              "      <td>1.128193</td>\n",
              "      <td>0.436746</td>\n",
              "      <td>3.448048</td>\n",
              "      <td>0.453978</td>\n",
              "    </tr>\n",
              "    <tr>\n",
              "      <th>min</th>\n",
              "      <td>0.000000</td>\n",
              "      <td>0.000000</td>\n",
              "      <td>-17.800000</td>\n",
              "      <td>0.000000</td>\n",
              "      <td>0.000000</td>\n",
              "      <td>27.000000</td>\n",
              "      <td>-30.600000</td>\n",
              "      <td>0.000000</td>\n",
              "      <td>0.000000</td>\n",
              "      <td>0.000000</td>\n",
              "      <td>1.000000</td>\n",
              "      <td>0.000000</td>\n",
              "    </tr>\n",
              "    <tr>\n",
              "      <th>25%</th>\n",
              "      <td>191.000000</td>\n",
              "      <td>5.750000</td>\n",
              "      <td>3.500000</td>\n",
              "      <td>42.000000</td>\n",
              "      <td>0.900000</td>\n",
              "      <td>940.000000</td>\n",
              "      <td>-4.700000</td>\n",
              "      <td>0.000000</td>\n",
              "      <td>0.000000</td>\n",
              "      <td>0.000000</td>\n",
              "      <td>4.000000</td>\n",
              "      <td>0.000000</td>\n",
              "    </tr>\n",
              "    <tr>\n",
              "      <th>50%</th>\n",
              "      <td>504.500000</td>\n",
              "      <td>11.500000</td>\n",
              "      <td>13.700000</td>\n",
              "      <td>57.000000</td>\n",
              "      <td>1.500000</td>\n",
              "      <td>1698.000000</td>\n",
              "      <td>5.100000</td>\n",
              "      <td>0.010000</td>\n",
              "      <td>0.000000</td>\n",
              "      <td>0.000000</td>\n",
              "      <td>7.000000</td>\n",
              "      <td>0.000000</td>\n",
              "    </tr>\n",
              "    <tr>\n",
              "      <th>75%</th>\n",
              "      <td>1065.250000</td>\n",
              "      <td>17.250000</td>\n",
              "      <td>22.500000</td>\n",
              "      <td>74.000000</td>\n",
              "      <td>2.300000</td>\n",
              "      <td>2000.000000</td>\n",
              "      <td>14.800000</td>\n",
              "      <td>0.930000</td>\n",
              "      <td>0.000000</td>\n",
              "      <td>0.000000</td>\n",
              "      <td>10.000000</td>\n",
              "      <td>1.000000</td>\n",
              "    </tr>\n",
              "    <tr>\n",
              "      <th>max</th>\n",
              "      <td>3556.000000</td>\n",
              "      <td>23.000000</td>\n",
              "      <td>39.400000</td>\n",
              "      <td>98.000000</td>\n",
              "      <td>7.400000</td>\n",
              "      <td>2000.000000</td>\n",
              "      <td>27.200000</td>\n",
              "      <td>3.520000</td>\n",
              "      <td>35.000000</td>\n",
              "      <td>8.800000</td>\n",
              "      <td>12.000000</td>\n",
              "      <td>1.000000</td>\n",
              "    </tr>\n",
              "  </tbody>\n",
              "</table>\n",
              "</div>\n",
              "      <button class=\"colab-df-convert\" onclick=\"convertToInteractive('df-c4b21e79-a938-4ba4-9fa7-f679a3e1a2e5')\"\n",
              "              title=\"Convert this dataframe to an interactive table.\"\n",
              "              style=\"display:none;\">\n",
              "        \n",
              "  <svg xmlns=\"http://www.w3.org/2000/svg\" height=\"24px\"viewBox=\"0 0 24 24\"\n",
              "       width=\"24px\">\n",
              "    <path d=\"M0 0h24v24H0V0z\" fill=\"none\"/>\n",
              "    <path d=\"M18.56 5.44l.94 2.06.94-2.06 2.06-.94-2.06-.94-.94-2.06-.94 2.06-2.06.94zm-11 1L8.5 8.5l.94-2.06 2.06-.94-2.06-.94L8.5 2.5l-.94 2.06-2.06.94zm10 10l.94 2.06.94-2.06 2.06-.94-2.06-.94-.94-2.06-.94 2.06-2.06.94z\"/><path d=\"M17.41 7.96l-1.37-1.37c-.4-.4-.92-.59-1.43-.59-.52 0-1.04.2-1.43.59L10.3 9.45l-7.72 7.72c-.78.78-.78 2.05 0 2.83L4 21.41c.39.39.9.59 1.41.59.51 0 1.02-.2 1.41-.59l7.78-7.78 2.81-2.81c.8-.78.8-2.07 0-2.86zM5.41 20L4 18.59l7.72-7.72 1.47 1.35L5.41 20z\"/>\n",
              "  </svg>\n",
              "      </button>\n",
              "      \n",
              "  <style>\n",
              "    .colab-df-container {\n",
              "      display:flex;\n",
              "      flex-wrap:wrap;\n",
              "      gap: 12px;\n",
              "    }\n",
              "\n",
              "    .colab-df-convert {\n",
              "      background-color: #E8F0FE;\n",
              "      border: none;\n",
              "      border-radius: 50%;\n",
              "      cursor: pointer;\n",
              "      display: none;\n",
              "      fill: #1967D2;\n",
              "      height: 32px;\n",
              "      padding: 0 0 0 0;\n",
              "      width: 32px;\n",
              "    }\n",
              "\n",
              "    .colab-df-convert:hover {\n",
              "      background-color: #E2EBFA;\n",
              "      box-shadow: 0px 1px 2px rgba(60, 64, 67, 0.3), 0px 1px 3px 1px rgba(60, 64, 67, 0.15);\n",
              "      fill: #174EA6;\n",
              "    }\n",
              "\n",
              "    [theme=dark] .colab-df-convert {\n",
              "      background-color: #3B4455;\n",
              "      fill: #D2E3FC;\n",
              "    }\n",
              "\n",
              "    [theme=dark] .colab-df-convert:hover {\n",
              "      background-color: #434B5C;\n",
              "      box-shadow: 0px 1px 3px 1px rgba(0, 0, 0, 0.15);\n",
              "      filter: drop-shadow(0px 1px 2px rgba(0, 0, 0, 0.3));\n",
              "      fill: #FFFFFF;\n",
              "    }\n",
              "  </style>\n",
              "\n",
              "      <script>\n",
              "        const buttonEl =\n",
              "          document.querySelector('#df-c4b21e79-a938-4ba4-9fa7-f679a3e1a2e5 button.colab-df-convert');\n",
              "        buttonEl.style.display =\n",
              "          google.colab.kernel.accessAllowed ? 'block' : 'none';\n",
              "\n",
              "        async function convertToInteractive(key) {\n",
              "          const element = document.querySelector('#df-c4b21e79-a938-4ba4-9fa7-f679a3e1a2e5');\n",
              "          const dataTable =\n",
              "            await google.colab.kernel.invokeFunction('convertToInteractive',\n",
              "                                                     [key], {});\n",
              "          if (!dataTable) return;\n",
              "\n",
              "          const docLinkHtml = 'Like what you see? Visit the ' +\n",
              "            '<a target=\"_blank\" href=https://colab.research.google.com/notebooks/data_table.ipynb>data table notebook</a>'\n",
              "            + ' to learn more about interactive tables.';\n",
              "          element.innerHTML = '';\n",
              "          dataTable['output_type'] = 'display_data';\n",
              "          await google.colab.output.renderOutput(dataTable, element);\n",
              "          const docLink = document.createElement('div');\n",
              "          docLink.innerHTML = docLinkHtml;\n",
              "          element.appendChild(docLink);\n",
              "        }\n",
              "      </script>\n",
              "    </div>\n",
              "  </div>\n",
              "  "
            ]
          },
          "metadata": {},
          "execution_count": 196
        }
      ]
    },
    {
      "cell_type": "code",
      "source": [
        "# Statistical info \n",
        "df.describe().transpose()"
      ],
      "metadata": {
        "id": "or_RwaZ1B2aD",
        "colab": {
          "base_uri": "https://localhost:8080/",
          "height": 426
        },
        "outputId": "160b7a4e-ae76-478b-e7b3-db8d9b9fff0d"
      },
      "execution_count": 197,
      "outputs": [
        {
          "output_type": "execute_result",
          "data": {
            "text/plain": [
              "                        count         mean         std   min     25%      50%  \\\n",
              "Rented_Bike_Count      8760.0   704.602055  644.997468   0.0  191.00   504.50   \n",
              "Hour                   8760.0    11.500000    6.922582   0.0    5.75    11.50   \n",
              "Temperature            8760.0    12.882922   11.944825 -17.8    3.50    13.70   \n",
              "Humidity               8760.0    58.226256   20.362413   0.0   42.00    57.00   \n",
              "WindSpeed              8760.0     1.724909    1.036300   0.0    0.90     1.50   \n",
              "Visibility             8760.0  1436.825799  608.298712  27.0  940.00  1698.00   \n",
              "Dew_Point_Temperature  8760.0     4.073813   13.060369 -30.6   -4.70     5.10   \n",
              "Solar_Radiation        8760.0     0.569111    0.868746   0.0    0.00     0.01   \n",
              "Rainfall               8760.0     0.148687    1.128193   0.0    0.00     0.00   \n",
              "Snowfall               8760.0     0.075068    0.436746   0.0    0.00     0.00   \n",
              "Month                  8760.0     6.526027    3.448048   1.0    4.00     7.00   \n",
              "Weekdays_or_weekend    8760.0     0.290411    0.453978   0.0    0.00     0.00   \n",
              "\n",
              "                           75%      max  \n",
              "Rented_Bike_Count      1065.25  3556.00  \n",
              "Hour                     17.25    23.00  \n",
              "Temperature              22.50    39.40  \n",
              "Humidity                 74.00    98.00  \n",
              "WindSpeed                 2.30     7.40  \n",
              "Visibility             2000.00  2000.00  \n",
              "Dew_Point_Temperature    14.80    27.20  \n",
              "Solar_Radiation           0.93     3.52  \n",
              "Rainfall                  0.00    35.00  \n",
              "Snowfall                  0.00     8.80  \n",
              "Month                    10.00    12.00  \n",
              "Weekdays_or_weekend       1.00     1.00  "
            ],
            "text/html": [
              "\n",
              "  <div id=\"df-78e5179b-2c29-4d36-b11f-1488706542b1\">\n",
              "    <div class=\"colab-df-container\">\n",
              "      <div>\n",
              "<style scoped>\n",
              "    .dataframe tbody tr th:only-of-type {\n",
              "        vertical-align: middle;\n",
              "    }\n",
              "\n",
              "    .dataframe tbody tr th {\n",
              "        vertical-align: top;\n",
              "    }\n",
              "\n",
              "    .dataframe thead th {\n",
              "        text-align: right;\n",
              "    }\n",
              "</style>\n",
              "<table border=\"1\" class=\"dataframe\">\n",
              "  <thead>\n",
              "    <tr style=\"text-align: right;\">\n",
              "      <th></th>\n",
              "      <th>count</th>\n",
              "      <th>mean</th>\n",
              "      <th>std</th>\n",
              "      <th>min</th>\n",
              "      <th>25%</th>\n",
              "      <th>50%</th>\n",
              "      <th>75%</th>\n",
              "      <th>max</th>\n",
              "    </tr>\n",
              "  </thead>\n",
              "  <tbody>\n",
              "    <tr>\n",
              "      <th>Rented_Bike_Count</th>\n",
              "      <td>8760.0</td>\n",
              "      <td>704.602055</td>\n",
              "      <td>644.997468</td>\n",
              "      <td>0.0</td>\n",
              "      <td>191.00</td>\n",
              "      <td>504.50</td>\n",
              "      <td>1065.25</td>\n",
              "      <td>3556.00</td>\n",
              "    </tr>\n",
              "    <tr>\n",
              "      <th>Hour</th>\n",
              "      <td>8760.0</td>\n",
              "      <td>11.500000</td>\n",
              "      <td>6.922582</td>\n",
              "      <td>0.0</td>\n",
              "      <td>5.75</td>\n",
              "      <td>11.50</td>\n",
              "      <td>17.25</td>\n",
              "      <td>23.00</td>\n",
              "    </tr>\n",
              "    <tr>\n",
              "      <th>Temperature</th>\n",
              "      <td>8760.0</td>\n",
              "      <td>12.882922</td>\n",
              "      <td>11.944825</td>\n",
              "      <td>-17.8</td>\n",
              "      <td>3.50</td>\n",
              "      <td>13.70</td>\n",
              "      <td>22.50</td>\n",
              "      <td>39.40</td>\n",
              "    </tr>\n",
              "    <tr>\n",
              "      <th>Humidity</th>\n",
              "      <td>8760.0</td>\n",
              "      <td>58.226256</td>\n",
              "      <td>20.362413</td>\n",
              "      <td>0.0</td>\n",
              "      <td>42.00</td>\n",
              "      <td>57.00</td>\n",
              "      <td>74.00</td>\n",
              "      <td>98.00</td>\n",
              "    </tr>\n",
              "    <tr>\n",
              "      <th>WindSpeed</th>\n",
              "      <td>8760.0</td>\n",
              "      <td>1.724909</td>\n",
              "      <td>1.036300</td>\n",
              "      <td>0.0</td>\n",
              "      <td>0.90</td>\n",
              "      <td>1.50</td>\n",
              "      <td>2.30</td>\n",
              "      <td>7.40</td>\n",
              "    </tr>\n",
              "    <tr>\n",
              "      <th>Visibility</th>\n",
              "      <td>8760.0</td>\n",
              "      <td>1436.825799</td>\n",
              "      <td>608.298712</td>\n",
              "      <td>27.0</td>\n",
              "      <td>940.00</td>\n",
              "      <td>1698.00</td>\n",
              "      <td>2000.00</td>\n",
              "      <td>2000.00</td>\n",
              "    </tr>\n",
              "    <tr>\n",
              "      <th>Dew_Point_Temperature</th>\n",
              "      <td>8760.0</td>\n",
              "      <td>4.073813</td>\n",
              "      <td>13.060369</td>\n",
              "      <td>-30.6</td>\n",
              "      <td>-4.70</td>\n",
              "      <td>5.10</td>\n",
              "      <td>14.80</td>\n",
              "      <td>27.20</td>\n",
              "    </tr>\n",
              "    <tr>\n",
              "      <th>Solar_Radiation</th>\n",
              "      <td>8760.0</td>\n",
              "      <td>0.569111</td>\n",
              "      <td>0.868746</td>\n",
              "      <td>0.0</td>\n",
              "      <td>0.00</td>\n",
              "      <td>0.01</td>\n",
              "      <td>0.93</td>\n",
              "      <td>3.52</td>\n",
              "    </tr>\n",
              "    <tr>\n",
              "      <th>Rainfall</th>\n",
              "      <td>8760.0</td>\n",
              "      <td>0.148687</td>\n",
              "      <td>1.128193</td>\n",
              "      <td>0.0</td>\n",
              "      <td>0.00</td>\n",
              "      <td>0.00</td>\n",
              "      <td>0.00</td>\n",
              "      <td>35.00</td>\n",
              "    </tr>\n",
              "    <tr>\n",
              "      <th>Snowfall</th>\n",
              "      <td>8760.0</td>\n",
              "      <td>0.075068</td>\n",
              "      <td>0.436746</td>\n",
              "      <td>0.0</td>\n",
              "      <td>0.00</td>\n",
              "      <td>0.00</td>\n",
              "      <td>0.00</td>\n",
              "      <td>8.80</td>\n",
              "    </tr>\n",
              "    <tr>\n",
              "      <th>Month</th>\n",
              "      <td>8760.0</td>\n",
              "      <td>6.526027</td>\n",
              "      <td>3.448048</td>\n",
              "      <td>1.0</td>\n",
              "      <td>4.00</td>\n",
              "      <td>7.00</td>\n",
              "      <td>10.00</td>\n",
              "      <td>12.00</td>\n",
              "    </tr>\n",
              "    <tr>\n",
              "      <th>Weekdays_or_weekend</th>\n",
              "      <td>8760.0</td>\n",
              "      <td>0.290411</td>\n",
              "      <td>0.453978</td>\n",
              "      <td>0.0</td>\n",
              "      <td>0.00</td>\n",
              "      <td>0.00</td>\n",
              "      <td>1.00</td>\n",
              "      <td>1.00</td>\n",
              "    </tr>\n",
              "  </tbody>\n",
              "</table>\n",
              "</div>\n",
              "      <button class=\"colab-df-convert\" onclick=\"convertToInteractive('df-78e5179b-2c29-4d36-b11f-1488706542b1')\"\n",
              "              title=\"Convert this dataframe to an interactive table.\"\n",
              "              style=\"display:none;\">\n",
              "        \n",
              "  <svg xmlns=\"http://www.w3.org/2000/svg\" height=\"24px\"viewBox=\"0 0 24 24\"\n",
              "       width=\"24px\">\n",
              "    <path d=\"M0 0h24v24H0V0z\" fill=\"none\"/>\n",
              "    <path d=\"M18.56 5.44l.94 2.06.94-2.06 2.06-.94-2.06-.94-.94-2.06-.94 2.06-2.06.94zm-11 1L8.5 8.5l.94-2.06 2.06-.94-2.06-.94L8.5 2.5l-.94 2.06-2.06.94zm10 10l.94 2.06.94-2.06 2.06-.94-2.06-.94-.94-2.06-.94 2.06-2.06.94z\"/><path d=\"M17.41 7.96l-1.37-1.37c-.4-.4-.92-.59-1.43-.59-.52 0-1.04.2-1.43.59L10.3 9.45l-7.72 7.72c-.78.78-.78 2.05 0 2.83L4 21.41c.39.39.9.59 1.41.59.51 0 1.02-.2 1.41-.59l7.78-7.78 2.81-2.81c.8-.78.8-2.07 0-2.86zM5.41 20L4 18.59l7.72-7.72 1.47 1.35L5.41 20z\"/>\n",
              "  </svg>\n",
              "      </button>\n",
              "      \n",
              "  <style>\n",
              "    .colab-df-container {\n",
              "      display:flex;\n",
              "      flex-wrap:wrap;\n",
              "      gap: 12px;\n",
              "    }\n",
              "\n",
              "    .colab-df-convert {\n",
              "      background-color: #E8F0FE;\n",
              "      border: none;\n",
              "      border-radius: 50%;\n",
              "      cursor: pointer;\n",
              "      display: none;\n",
              "      fill: #1967D2;\n",
              "      height: 32px;\n",
              "      padding: 0 0 0 0;\n",
              "      width: 32px;\n",
              "    }\n",
              "\n",
              "    .colab-df-convert:hover {\n",
              "      background-color: #E2EBFA;\n",
              "      box-shadow: 0px 1px 2px rgba(60, 64, 67, 0.3), 0px 1px 3px 1px rgba(60, 64, 67, 0.15);\n",
              "      fill: #174EA6;\n",
              "    }\n",
              "\n",
              "    [theme=dark] .colab-df-convert {\n",
              "      background-color: #3B4455;\n",
              "      fill: #D2E3FC;\n",
              "    }\n",
              "\n",
              "    [theme=dark] .colab-df-convert:hover {\n",
              "      background-color: #434B5C;\n",
              "      box-shadow: 0px 1px 3px 1px rgba(0, 0, 0, 0.15);\n",
              "      filter: drop-shadow(0px 1px 2px rgba(0, 0, 0, 0.3));\n",
              "      fill: #FFFFFF;\n",
              "    }\n",
              "  </style>\n",
              "\n",
              "      <script>\n",
              "        const buttonEl =\n",
              "          document.querySelector('#df-78e5179b-2c29-4d36-b11f-1488706542b1 button.colab-df-convert');\n",
              "        buttonEl.style.display =\n",
              "          google.colab.kernel.accessAllowed ? 'block' : 'none';\n",
              "\n",
              "        async function convertToInteractive(key) {\n",
              "          const element = document.querySelector('#df-78e5179b-2c29-4d36-b11f-1488706542b1');\n",
              "          const dataTable =\n",
              "            await google.colab.kernel.invokeFunction('convertToInteractive',\n",
              "                                                     [key], {});\n",
              "          if (!dataTable) return;\n",
              "\n",
              "          const docLinkHtml = 'Like what you see? Visit the ' +\n",
              "            '<a target=\"_blank\" href=https://colab.research.google.com/notebooks/data_table.ipynb>data table notebook</a>'\n",
              "            + ' to learn more about interactive tables.';\n",
              "          element.innerHTML = '';\n",
              "          dataTable['output_type'] = 'display_data';\n",
              "          await google.colab.output.renderOutput(dataTable, element);\n",
              "          const docLink = document.createElement('div');\n",
              "          docLink.innerHTML = docLinkHtml;\n",
              "          element.appendChild(docLink);\n",
              "        }\n",
              "      </script>\n",
              "    </div>\n",
              "  </div>\n",
              "  "
            ]
          },
          "metadata": {},
          "execution_count": 197
        }
      ]
    },
    {
      "cell_type": "code",
      "source": [
        "# Print the unique values\n",
        "df.nunique()"
      ],
      "metadata": {
        "id": "Hga0-mNoVSs0",
        "colab": {
          "base_uri": "https://localhost:8080/"
        },
        "outputId": "8e532e24-5457-4e02-b601-434a040e3bf0"
      },
      "execution_count": 198,
      "outputs": [
        {
          "output_type": "execute_result",
          "data": {
            "text/plain": [
              "Rented_Bike_Count        2166\n",
              "Hour                       24\n",
              "Temperature               546\n",
              "Humidity                   90\n",
              "WindSpeed                  65\n",
              "Visibility               1789\n",
              "Dew_Point_Temperature     556\n",
              "Solar_Radiation           345\n",
              "Rainfall                   61\n",
              "Snowfall                   51\n",
              "Seasons                     4\n",
              "Holiday                     2\n",
              "Functioning_Day             2\n",
              "Month                      12\n",
              "Weekdays_or_weekend         2\n",
              "label_day_night             2\n",
              "dtype: int64"
            ]
          },
          "metadata": {},
          "execution_count": 198
        }
      ]
    },
    {
      "cell_type": "code",
      "source": [
        "# Unique Values in each column\n",
        "unique_df = pd.DataFrame()\n",
        "unique_df['Features'] = df.columns\n",
        "unique=[]\n",
        "for i in df.columns:\n",
        "    unique.append(df[i].nunique())\n",
        "unique_df['Uniques'] = unique\n",
        "\n",
        "f, ax = plt.subplots(1,1, figsize=(15,7))\n",
        "\n",
        "splot = sns.barplot(x=unique_df['Features'], y=unique_df['Uniques'], alpha=0.8)\n",
        "for p in splot.patches:\n",
        "    splot.annotate(format(p.get_height(), '.0f'), (p.get_x() + p.get_width() / 2., p.get_height()), ha = 'center',\n",
        "                   va = 'center', xytext = (0, 9), textcoords = 'offset points')\n",
        "plt.title('Bar plot for number of unique values in each column',weight='bold', size=15)\n",
        "plt.ylabel('#Unique values', size=12, weight='bold')\n",
        "plt.xlabel('Features', size=12, weight='bold')\n",
        "plt.xticks(rotation=90)\n",
        "plt.show()"
      ],
      "metadata": {
        "id": "hXNvgElxKbTC",
        "colab": {
          "base_uri": "https://localhost:8080/",
          "height": 573
        },
        "outputId": "b5cd30fc-ee9a-4b5a-c2a8-156ef0874fc6"
      },
      "execution_count": 199,
      "outputs": [
        {
          "output_type": "display_data",
          "data": {
            "text/plain": [
              "<Figure size 1080x504 with 1 Axes>"
            ],
            "image/png": "[encoded data removed]"
          },
          "metadata": {
            "needs_background": "light"
          }
        }
      ]
    },
    {
      "cell_type": "markdown",
      "source": [
        "**Basic cleaning of the data**"
      ],
      "metadata": {
        "id": "-tKtdRPtB9Ow"
      }
    },
    {
      "cell_type": "markdown",
      "source": [
        "**Misssing Values**\n",
        "\n",
        "\n",
        "\n"
      ],
      "metadata": {
        "id": "JOjuOLqPeg-L"
      }
    },
    {
      "cell_type": "code",
      "source": [
        "# Checking null values of data \n",
        "df.isna().sum()"
      ],
      "metadata": {
        "id": "nSxQsex6CTOc",
        "colab": {
          "base_uri": "https://localhost:8080/"
        },
        "outputId": "c0f1ebe3-aafe-4b41-8647-6df7223c7a13"
      },
      "execution_count": 200,
      "outputs": [
        {
          "output_type": "execute_result",
          "data": {
            "text/plain": [
              "Rented_Bike_Count        0\n",
              "Hour                     0\n",
              "Temperature              0\n",
              "Humidity                 0\n",
              "WindSpeed                0\n",
              "Visibility               0\n",
              "Dew_Point_Temperature    0\n",
              "Solar_Radiation          0\n",
              "Rainfall                 0\n",
              "Snowfall                 0\n",
              "Seasons                  0\n",
              "Holiday                  0\n",
              "Functioning_Day          0\n",
              "Month                    0\n",
              "Weekdays_or_weekend      0\n",
              "label_day_night          0\n",
              "dtype: int64"
            ]
          },
          "metadata": {},
          "execution_count": 200
        }
      ]
    },
    {
      "cell_type": "code",
      "source": [
        "# Missing Values in our dataset\n",
        "plt.figure(figsize=(15, 5))\n",
        "sns.heatmap(df.isnull(), cbar=True, yticklabels=False)\n",
        "plt.xlabel(\"Column_Name\", size=14, weight=\"bold\")\n",
        "plt.title(\"Places of missing values in column\",fontweight=\"bold\",size=17)\n",
        "plt.show()"
      ],
      "metadata": {
        "id": "HCAbKJoJJxOU",
        "colab": {
          "base_uri": "https://localhost:8080/",
          "height": 467
        },
        "outputId": "53f33bb0-29d4-41ac-aa69-3ef3797caddf"
      },
      "execution_count": 201,
      "outputs": [
        {
          "output_type": "display_data",
          "data": {
            "text/plain": [
              "<Figure size 1080x360 with 2 Axes>"
            ],
            "image/png": "[encoded data removed]"
          },
          "metadata": {
            "needs_background": "light"
          }
        }
      ]
    },
    {
      "cell_type": "markdown",
      "source": [
        "**Duplicate Values**"
      ],
      "metadata": {
        "id": "pIC-R787ewAB"
      }
    },
    {
      "cell_type": "code",
      "source": [
        "# Checking duplicate\n",
        "df.duplicated().sum()"
      ],
      "metadata": {
        "id": "ee8S_WETCbwj",
        "colab": {
          "base_uri": "https://localhost:8080/"
        },
        "outputId": "d9481539-63f4-4f08-9328-ac3826d5a115"
      },
      "execution_count": 202,
      "outputs": [
        {
          "output_type": "execute_result",
          "data": {
            "text/plain": [
              "0"
            ]
          },
          "metadata": {},
          "execution_count": 202
        }
      ]
    },
    {
      "cell_type": "markdown",
      "source": [
        "As we can see in the above data there is no missng and duplicate value."
      ],
      "metadata": {
        "id": "VDe4tYkOo9Vc"
      }
    },
    {
      "cell_type": "markdown",
      "source": [
        "**Handling outliers**"
      ],
      "metadata": {
        "id": "mNRsvzdaWqZx"
      }
    },
    {
      "cell_type": "code",
      "source": [
        "# create numeric columns list.\n",
        "numeric_columns=df.describe().columns.tolist()\n",
        "numeric_columns\n",
        "\n",
        "# create categorical column list\n",
        "categorical_columns= list(set(df.columns) - set(df.describe().columns))\n",
        "categorical_columns\n",
        "\n",
        "# priting box plot of numeric columns to check oultliers\n",
        "for columns in numeric_columns:\n",
        "    fig = plt.figure(figsize=(8, 6))\n",
        "    ax = fig.gca()\n",
        "    sns.boxplot(x=df[columns])"
      ],
      "metadata": {
        "id": "bplwf9rBCc7Y",
        "colab": {
          "base_uri": "https://localhost:8080/",
          "height": 1000
        },
        "outputId": "142e3bab-142e-45b3-c682-845c30aa5fef"
      },
      "execution_count": 203,
      "outputs": [
        {
          "output_type": "display_data",
          "data": {
            "text/plain": [
              "<Figure size 576x432 with 1 Axes>"
            ],
            "image/png": "[encoded data removed]"
          },
          "metadata": {
            "needs_background": "light"
          }
        },
        {
          "output_type": "display_data",
          "data": {
            "text/plain": [
              "<Figure size 576x432 with 1 Axes>"
            ],
            "image/png": "[encoded data removed]"
          },
          "metadata": {
            "needs_background": "light"
          }
        },
        {
          "output_type": "display_data",
          "data": {
            "text/plain": [
              "<Figure size 576x432 with 1 Axes>"
            ],
            "image/png": "[encoded data removed]"
          },
          "metadata": {
            "needs_background": "light"
          }
        },
        {
          "output_type": "display_data",
          "data": {
            "text/plain": [
              "<Figure size 576x432 with 1 Axes>"
            ],
            "image/png": "[encoded data removed]"
          },
          "metadata": {
            "needs_background": "light"
          }
        },
        {
          "output_type": "display_data",
          "data": {
            "text/plain": [
              "<Figure size 576x432 with 1 Axes>"
            ],
            "image/png": "[encoded data removed]"
          },
          "metadata": {
            "needs_background": "light"
          }
        },
        {
          "output_type": "display_data",
          "data": {
            "text/plain": [
              "<Figure size 576x432 with 1 Axes>"
            ],
            "image/png": "[encoded data removed]"
          },
          "metadata": {
            "needs_background": "light"
          }
        },
        {
          "output_type": "display_data",
          "data": {
            "text/plain": [
              "<Figure size 576x432 with 1 Axes>"
            ],
            "image/png": "[encoded data removed]"
          },
          "metadata": {
            "needs_background": "light"
          }
        },
        {
          "output_type": "display_data",
          "data": {
            "text/plain": [
              "<Figure size 576x432 with 1 Axes>"
            ],
            "image/png": "[encoded data removed]"
          },
          "metadata": {
            "needs_background": "light"
          }
        },
        {
          "output_type": "display_data",
          "data": {
            "text/plain": [
              "<Figure size 576x432 with 1 Axes>"
            ],
            "image/png": "[encoded data removed]"
          },
          "metadata": {
            "needs_background": "light"
          }
        },
        {
          "output_type": "display_data",
          "data": {
            "text/plain": [
              "<Figure size 576x432 with 1 Axes>"
            ],
            "image/png": "[encoded data removed]"
          },
          "metadata": {
            "needs_background": "light"
          }
        },
        {
          "output_type": "display_data",
          "data": {
            "text/plain": [
              "<Figure size 576x432 with 1 Axes>"
            ],
            "image/png": "[encoded data removed]"
          },
          "metadata": {
            "needs_background": "light"
          }
        },
        {
          "output_type": "display_data",
          "data": {
            "text/plain": [
              "<Figure size 576x432 with 1 Axes>"
            ],
            "image/png": "[encoded data removed]"
          },
          "metadata": {
            "needs_background": "light"
          }
        }
      ]
    },
    {
      "cell_type": "markdown",
      "source": [
        "We don't think of worry about outliers in this data"
      ],
      "metadata": {
        "id": "hRE1NAWy2mZS"
      }
    },
    {
      "cell_type": "code",
      "source": [
        "# adding two  more categorical columns \n",
        "categorical_columns.extend(['Month','Weekdays_or_weekend'])\n"
      ],
      "metadata": {
        "id": "c9IoNQuIRpWg"
      },
      "execution_count": 204,
      "outputs": []
    },
    {
      "cell_type": "markdown",
      "source": [
        "# **Exploratory data analysis(EDA)**"
      ],
      "metadata": {
        "id": "5J4D4drzW0S9"
      }
    },
    {
      "cell_type": "markdown",
      "source": [
        "When we observe the data we realize that Hour column is a numerical column but it is a time stamp so we have to treat Hour as a categorical feature."
      ],
      "metadata": {
        "id": "y1zz0cLtXJzU"
      }
    },
    {
      "cell_type": "code",
      "source": [
        "# convert Hour column integer to Categorical \n",
        "df['Hour']=df['Hour'].astype('object')"
      ],
      "metadata": {
        "id": "P9egJgwmXVPg"
      },
      "execution_count": 205,
      "outputs": []
    },
    {
      "cell_type": "code",
      "source": [
        "# Divide Data in categorical and numerical features\n",
        "numeric_columns= df.select_dtypes(exclude='object')\n",
        "categorical_columns=df.select_dtypes(include='object')"
      ],
      "metadata": {
        "id": "_MGWWic2XbLi"
      },
      "execution_count": 206,
      "outputs": []
    },
    {
      "cell_type": "code",
      "source": [
        "numeric_columns.head()"
      ],
      "metadata": {
        "id": "rE3M2kTAXhnT",
        "colab": {
          "base_uri": "https://localhost:8080/",
          "height": 270
        },
        "outputId": "253c9274-48b1-4373-f018-211cf4143617"
      },
      "execution_count": 207,
      "outputs": [
        {
          "output_type": "execute_result",
          "data": {
            "text/plain": [
              "   Rented_Bike_Count  Temperature  Humidity  WindSpeed  Visibility  \\\n",
              "0                254         -5.2        37        2.2        2000   \n",
              "1                204         -5.5        38        0.8        2000   \n",
              "2                173         -6.0        39        1.0        2000   \n",
              "3                107         -6.2        40        0.9        2000   \n",
              "4                 78         -6.0        36        2.3        2000   \n",
              "\n",
              "   Dew_Point_Temperature  Solar_Radiation  Rainfall  Snowfall  Month  \\\n",
              "0                  -17.6              0.0       0.0       0.0      1   \n",
              "1                  -17.6              0.0       0.0       0.0      1   \n",
              "2                  -17.7              0.0       0.0       0.0      1   \n",
              "3                  -17.6              0.0       0.0       0.0      1   \n",
              "4                  -18.6              0.0       0.0       0.0      1   \n",
              "\n",
              "   Weekdays_or_weekend  \n",
              "0                    0  \n",
              "1                    0  \n",
              "2                    0  \n",
              "3                    0  \n",
              "4                    0  "
            ],
            "text/html": [
              "\n",
              "  <div id=\"df-3bc42c38-7860-4703-a780-36a5f20bd0cf\">\n",
              "    <div class=\"colab-df-container\">\n",
              "      <div>\n",
              "<style scoped>\n",
              "    .dataframe tbody tr th:only-of-type {\n",
              "        vertical-align: middle;\n",
              "    }\n",
              "\n",
              "    .dataframe tbody tr th {\n",
              "        vertical-align: top;\n",
              "    }\n",
              "\n",
              "    .dataframe thead th {\n",
              "        text-align: right;\n",
              "    }\n",
              "</style>\n",
              "<table border=\"1\" class=\"dataframe\">\n",
              "  <thead>\n",
              "    <tr style=\"text-align: right;\">\n",
              "      <th></th>\n",
              "      <th>Rented_Bike_Count</th>\n",
              "      <th>Temperature</th>\n",
              "      <th>Humidity</th>\n",
              "      <th>WindSpeed</th>\n",
              "      <th>Visibility</th>\n",
              "      <th>Dew_Point_Temperature</th>\n",
              "      <th>Solar_Radiation</th>\n",
              "      <th>Rainfall</th>\n",
              "      <th>Snowfall</th>\n",
              "      <th>Month</th>\n",
              "      <th>Weekdays_or_weekend</th>\n",
              "    </tr>\n",
              "  </thead>\n",
              "  <tbody>\n",
              "    <tr>\n",
              "      <th>0</th>\n",
              "      <td>254</td>\n",
              "      <td>-5.2</td>\n",
              "      <td>37</td>\n",
              "      <td>2.2</td>\n",
              "      <td>2000</td>\n",
              "      <td>-17.6</td>\n",
              "      <td>0.0</td>\n",
              "      <td>0.0</td>\n",
              "      <td>0.0</td>\n",
              "      <td>1</td>\n",
              "      <td>0</td>\n",
              "    </tr>\n",
              "    <tr>\n",
              "      <th>1</th>\n",
              "      <td>204</td>\n",
              "      <td>-5.5</td>\n",
              "      <td>38</td>\n",
              "      <td>0.8</td>\n",
              "      <td>2000</td>\n",
              "      <td>-17.6</td>\n",
              "      <td>0.0</td>\n",
              "      <td>0.0</td>\n",
              "      <td>0.0</td>\n",
              "      <td>1</td>\n",
              "      <td>0</td>\n",
              "    </tr>\n",
              "    <tr>\n",
              "      <th>2</th>\n",
              "      <td>173</td>\n",
              "      <td>-6.0</td>\n",
              "      <td>39</td>\n",
              "      <td>1.0</td>\n",
              "      <td>2000</td>\n",
              "      <td>-17.7</td>\n",
              "      <td>0.0</td>\n",
              "      <td>0.0</td>\n",
              "      <td>0.0</td>\n",
              "      <td>1</td>\n",
              "      <td>0</td>\n",
              "    </tr>\n",
              "    <tr>\n",
              "      <th>3</th>\n",
              "      <td>107</td>\n",
              "      <td>-6.2</td>\n",
              "      <td>40</td>\n",
              "      <td>0.9</td>\n",
              "      <td>2000</td>\n",
              "      <td>-17.6</td>\n",
              "      <td>0.0</td>\n",
              "      <td>0.0</td>\n",
              "      <td>0.0</td>\n",
              "      <td>1</td>\n",
              "      <td>0</td>\n",
              "    </tr>\n",
              "    <tr>\n",
              "      <th>4</th>\n",
              "      <td>78</td>\n",
              "      <td>-6.0</td>\n",
              "      <td>36</td>\n",
              "      <td>2.3</td>\n",
              "      <td>2000</td>\n",
              "      <td>-18.6</td>\n",
              "      <td>0.0</td>\n",
              "      <td>0.0</td>\n",
              "      <td>0.0</td>\n",
              "      <td>1</td>\n",
              "      <td>0</td>\n",
              "    </tr>\n",
              "  </tbody>\n",
              "</table>\n",
              "</div>\n",
              "      <button class=\"colab-df-convert\" onclick=\"convertToInteractive('df-3bc42c38-7860-4703-a780-36a5f20bd0cf')\"\n",
              "              title=\"Convert this dataframe to an interactive table.\"\n",
              "              style=\"display:none;\">\n",
              "        \n",
              "  <svg xmlns=\"http://www.w3.org/2000/svg\" height=\"24px\"viewBox=\"0 0 24 24\"\n",
              "       width=\"24px\">\n",
              "    <path d=\"M0 0h24v24H0V0z\" fill=\"none\"/>\n",
              "    <path d=\"M18.56 5.44l.94 2.06.94-2.06 2.06-.94-2.06-.94-.94-2.06-.94 2.06-2.06.94zm-11 1L8.5 8.5l.94-2.06 2.06-.94-2.06-.94L8.5 2.5l-.94 2.06-2.06.94zm10 10l.94 2.06.94-2.06 2.06-.94-2.06-.94-.94-2.06-.94 2.06-2.06.94z\"/><path d=\"M17.41 7.96l-1.37-1.37c-.4-.4-.92-.59-1.43-.59-.52 0-1.04.2-1.43.59L10.3 9.45l-7.72 7.72c-.78.78-.78 2.05 0 2.83L4 21.41c.39.39.9.59 1.41.59.51 0 1.02-.2 1.41-.59l7.78-7.78 2.81-2.81c.8-.78.8-2.07 0-2.86zM5.41 20L4 18.59l7.72-7.72 1.47 1.35L5.41 20z\"/>\n",
              "  </svg>\n",
              "      </button>\n",
              "      \n",
              "  <style>\n",
              "    .colab-df-container {\n",
              "      display:flex;\n",
              "      flex-wrap:wrap;\n",
              "      gap: 12px;\n",
              "    }\n",
              "\n",
              "    .colab-df-convert {\n",
              "      background-color: #E8F0FE;\n",
              "      border: none;\n",
              "      border-radius: 50%;\n",
              "      cursor: pointer;\n",
              "      display: none;\n",
              "      fill: #1967D2;\n",
              "      height: 32px;\n",
              "      padding: 0 0 0 0;\n",
              "      width: 32px;\n",
              "    }\n",
              "\n",
              "    .colab-df-convert:hover {\n",
              "      background-color: #E2EBFA;\n",
              "      box-shadow: 0px 1px 2px rgba(60, 64, 67, 0.3), 0px 1px 3px 1px rgba(60, 64, 67, 0.15);\n",
              "      fill: #174EA6;\n",
              "    }\n",
              "\n",
              "    [theme=dark] .colab-df-convert {\n",
              "      background-color: #3B4455;\n",
              "      fill: #D2E3FC;\n",
              "    }\n",
              "\n",
              "    [theme=dark] .colab-df-convert:hover {\n",
              "      background-color: #434B5C;\n",
              "      box-shadow: 0px 1px 3px 1px rgba(0, 0, 0, 0.15);\n",
              "      filter: drop-shadow(0px 1px 2px rgba(0, 0, 0, 0.3));\n",
              "      fill: #FFFFFF;\n",
              "    }\n",
              "  </style>\n",
              "\n",
              "      <script>\n",
              "        const buttonEl =\n",
              "          document.querySelector('#df-3bc42c38-7860-4703-a780-36a5f20bd0cf button.colab-df-convert');\n",
              "        buttonEl.style.display =\n",
              "          google.colab.kernel.accessAllowed ? 'block' : 'none';\n",
              "\n",
              "        async function convertToInteractive(key) {\n",
              "          const element = document.querySelector('#df-3bc42c38-7860-4703-a780-36a5f20bd0cf');\n",
              "          const dataTable =\n",
              "            await google.colab.kernel.invokeFunction('convertToInteractive',\n",
              "                                                     [key], {});\n",
              "          if (!dataTable) return;\n",
              "\n",
              "          const docLinkHtml = 'Like what you see? Visit the ' +\n",
              "            '<a target=\"_blank\" href=https://colab.research.google.com/notebooks/data_table.ipynb>data table notebook</a>'\n",
              "            + ' to learn more about interactive tables.';\n",
              "          element.innerHTML = '';\n",
              "          dataTable['output_type'] = 'display_data';\n",
              "          await google.colab.output.renderOutput(dataTable, element);\n",
              "          const docLink = document.createElement('div');\n",
              "          docLink.innerHTML = docLinkHtml;\n",
              "          element.appendChild(docLink);\n",
              "        }\n",
              "      </script>\n",
              "    </div>\n",
              "  </div>\n",
              "  "
            ]
          },
          "metadata": {},
          "execution_count": 207
        }
      ]
    },
    {
      "cell_type": "code",
      "source": [
        "categorical_columns.head()"
      ],
      "metadata": {
        "id": "mBM4iq4sXnLk",
        "colab": {
          "base_uri": "https://localhost:8080/",
          "height": 206
        },
        "outputId": "69b62a15-8e1d-4cb3-a154-c55035a55e6a"
      },
      "execution_count": 208,
      "outputs": [
        {
          "output_type": "execute_result",
          "data": {
            "text/plain": [
              "  Hour Seasons     Holiday Functioning_Day label_day_night\n",
              "0    0  Winter  No Holiday             Yes           Night\n",
              "1    1  Winter  No Holiday             Yes           Night\n",
              "2    2  Winter  No Holiday             Yes           Night\n",
              "3    3  Winter  No Holiday             Yes           Night\n",
              "4    4  Winter  No Holiday             Yes           Night"
            ],
            "text/html": [
              "\n",
              "  <div id=\"df-e8c18e9c-b827-4e55-a0de-9a74a66c93eb\">\n",
              "    <div class=\"colab-df-container\">\n",
              "      <div>\n",
              "<style scoped>\n",
              "    .dataframe tbody tr th:only-of-type {\n",
              "        vertical-align: middle;\n",
              "    }\n",
              "\n",
              "    .dataframe tbody tr th {\n",
              "        vertical-align: top;\n",
              "    }\n",
              "\n",
              "    .dataframe thead th {\n",
              "        text-align: right;\n",
              "    }\n",
              "</style>\n",
              "<table border=\"1\" class=\"dataframe\">\n",
              "  <thead>\n",
              "    <tr style=\"text-align: right;\">\n",
              "      <th></th>\n",
              "      <th>Hour</th>\n",
              "      <th>Seasons</th>\n",
              "      <th>Holiday</th>\n",
              "      <th>Functioning_Day</th>\n",
              "      <th>label_day_night</th>\n",
              "    </tr>\n",
              "  </thead>\n",
              "  <tbody>\n",
              "    <tr>\n",
              "      <th>0</th>\n",
              "      <td>0</td>\n",
              "      <td>Winter</td>\n",
              "      <td>No Holiday</td>\n",
              "      <td>Yes</td>\n",
              "      <td>Night</td>\n",
              "    </tr>\n",
              "    <tr>\n",
              "      <th>1</th>\n",
              "      <td>1</td>\n",
              "      <td>Winter</td>\n",
              "      <td>No Holiday</td>\n",
              "      <td>Yes</td>\n",
              "      <td>Night</td>\n",
              "    </tr>\n",
              "    <tr>\n",
              "      <th>2</th>\n",
              "      <td>2</td>\n",
              "      <td>Winter</td>\n",
              "      <td>No Holiday</td>\n",
              "      <td>Yes</td>\n",
              "      <td>Night</td>\n",
              "    </tr>\n",
              "    <tr>\n",
              "      <th>3</th>\n",
              "      <td>3</td>\n",
              "      <td>Winter</td>\n",
              "      <td>No Holiday</td>\n",
              "      <td>Yes</td>\n",
              "      <td>Night</td>\n",
              "    </tr>\n",
              "    <tr>\n",
              "      <th>4</th>\n",
              "      <td>4</td>\n",
              "      <td>Winter</td>\n",
              "      <td>No Holiday</td>\n",
              "      <td>Yes</td>\n",
              "      <td>Night</td>\n",
              "    </tr>\n",
              "  </tbody>\n",
              "</table>\n",
              "</div>\n",
              "      <button class=\"colab-df-convert\" onclick=\"convertToInteractive('df-e8c18e9c-b827-4e55-a0de-9a74a66c93eb')\"\n",
              "              title=\"Convert this dataframe to an interactive table.\"\n",
              "              style=\"display:none;\">\n",
              "        \n",
              "  <svg xmlns=\"http://www.w3.org/2000/svg\" height=\"24px\"viewBox=\"0 0 24 24\"\n",
              "       width=\"24px\">\n",
              "    <path d=\"M0 0h24v24H0V0z\" fill=\"none\"/>\n",
              "    <path d=\"M18.56 5.44l.94 2.06.94-2.06 2.06-.94-2.06-.94-.94-2.06-.94 2.06-2.06.94zm-11 1L8.5 8.5l.94-2.06 2.06-.94-2.06-.94L8.5 2.5l-.94 2.06-2.06.94zm10 10l.94 2.06.94-2.06 2.06-.94-2.06-.94-.94-2.06-.94 2.06-2.06.94z\"/><path d=\"M17.41 7.96l-1.37-1.37c-.4-.4-.92-.59-1.43-.59-.52 0-1.04.2-1.43.59L10.3 9.45l-7.72 7.72c-.78.78-.78 2.05 0 2.83L4 21.41c.39.39.9.59 1.41.59.51 0 1.02-.2 1.41-.59l7.78-7.78 2.81-2.81c.8-.78.8-2.07 0-2.86zM5.41 20L4 18.59l7.72-7.72 1.47 1.35L5.41 20z\"/>\n",
              "  </svg>\n",
              "      </button>\n",
              "      \n",
              "  <style>\n",
              "    .colab-df-container {\n",
              "      display:flex;\n",
              "      flex-wrap:wrap;\n",
              "      gap: 12px;\n",
              "    }\n",
              "\n",
              "    .colab-df-convert {\n",
              "      background-color: #E8F0FE;\n",
              "      border: none;\n",
              "      border-radius: 50%;\n",
              "      cursor: pointer;\n",
              "      display: none;\n",
              "      fill: #1967D2;\n",
              "      height: 32px;\n",
              "      padding: 0 0 0 0;\n",
              "      width: 32px;\n",
              "    }\n",
              "\n",
              "    .colab-df-convert:hover {\n",
              "      background-color: #E2EBFA;\n",
              "      box-shadow: 0px 1px 2px rgba(60, 64, 67, 0.3), 0px 1px 3px 1px rgba(60, 64, 67, 0.15);\n",
              "      fill: #174EA6;\n",
              "    }\n",
              "\n",
              "    [theme=dark] .colab-df-convert {\n",
              "      background-color: #3B4455;\n",
              "      fill: #D2E3FC;\n",
              "    }\n",
              "\n",
              "    [theme=dark] .colab-df-convert:hover {\n",
              "      background-color: #434B5C;\n",
              "      box-shadow: 0px 1px 3px 1px rgba(0, 0, 0, 0.15);\n",
              "      filter: drop-shadow(0px 1px 2px rgba(0, 0, 0, 0.3));\n",
              "      fill: #FFFFFF;\n",
              "    }\n",
              "  </style>\n",
              "\n",
              "      <script>\n",
              "        const buttonEl =\n",
              "          document.querySelector('#df-e8c18e9c-b827-4e55-a0de-9a74a66c93eb button.colab-df-convert');\n",
              "        buttonEl.style.display =\n",
              "          google.colab.kernel.accessAllowed ? 'block' : 'none';\n",
              "\n",
              "        async function convertToInteractive(key) {\n",
              "          const element = document.querySelector('#df-e8c18e9c-b827-4e55-a0de-9a74a66c93eb');\n",
              "          const dataTable =\n",
              "            await google.colab.kernel.invokeFunction('convertToInteractive',\n",
              "                                                     [key], {});\n",
              "          if (!dataTable) return;\n",
              "\n",
              "          const docLinkHtml = 'Like what you see? Visit the ' +\n",
              "            '<a target=\"_blank\" href=https://colab.research.google.com/notebooks/data_table.ipynb>data table notebook</a>'\n",
              "            + ' to learn more about interactive tables.';\n",
              "          element.innerHTML = '';\n",
              "          dataTable['output_type'] = 'display_data';\n",
              "          await google.colab.output.renderOutput(dataTable, element);\n",
              "          const docLink = document.createElement('div');\n",
              "          docLink.innerHTML = docLinkHtml;\n",
              "          element.appendChild(docLink);\n",
              "        }\n",
              "      </script>\n",
              "    </div>\n",
              "  </div>\n",
              "  "
            ]
          },
          "metadata": {},
          "execution_count": 208
        }
      ]
    },
    {
      "cell_type": "markdown",
      "source": [
        "# **Univariate Analysis**"
      ],
      "metadata": {
        "id": "GsdR4yEn533o"
      }
    },
    {
      "cell_type": "markdown",
      "source": [
        "In this we'll just focus on the dependent variable,a dependent variable is a variable whose value will change depending on the value of another variable.\n",
        " "
      ],
      "metadata": {
        "id": "POHZAXGc6YnG"
      }
    },
    {
      "cell_type": "markdown",
      "source": [
        "**Bike rented trend according to hour**"
      ],
      "metadata": {
        "id": "3IfW9FwWtElf"
      }
    },
    {
      "cell_type": "code",
      "source": [
        "#ploting line graph\n",
        "# group by Hrs and get average Bikes rented, and precent change\n",
        "avg_rent_hrs = df.groupby('Hour')['Rented_Bike_Count'].mean()\n",
        "\n",
        "# plot average rent over time(hrs)\n",
        "plt.figure(figsize=(20,4))\n",
        "a=avg_rent_hrs.plot(legend=True,marker='o',title=\"Average Bikes Rented Per Hr\")\n",
        "a.set_xticks(range(len(avg_rent_hrs)));\n",
        "a.set_xticklabels(avg_rent_hrs.index.tolist(), rotation=85);"
      ],
      "metadata": {
        "id": "S-kLyW_Bftri",
        "colab": {
          "base_uri": "https://localhost:8080/",
          "height": 298
        },
        "outputId": "56141f71-4493-4fee-ce9a-c53517f8a213"
      },
      "execution_count": 209,
      "outputs": [
        {
          "output_type": "display_data",
          "data": {
            "text/plain": [
              "<Figure size 1440x288 with 1 Axes>"
            ],
            "image/png": "[encoded data removed]"
          },
          "metadata": {
            "needs_background": "light"
          }
        }
      ]
    },
    {
      "cell_type": "markdown",
      "source": [
        "We can clearly see that high rise of Rented Bikes from 8:00 a.m to 9:00 p.m means people prefer rented bike during rush hour."
      ],
      "metadata": {
        "id": "0PomePmYf6cu"
      }
    },
    {
      "cell_type": "markdown",
      "source": [
        "We can observe from the above plot that there is sudden peak between 6PM to 10 PM.\n",
        "Office time,College and going time could be the reason for this sudden peak (Weekdays). But on Weekend the case is different less bike rentals happend.\n"
      ],
      "metadata": {
        "id": "q7g1vgkBxfSz"
      }
    },
    {
      "cell_type": "markdown",
      "source": [
        "**Bike rented trend according to month**"
      ],
      "metadata": {
        "id": "4OszeBtntL4u"
      }
    },
    {
      "cell_type": "code",
      "source": [
        "#Monthly trend of bike demand\n",
        "fig,ax=plt.subplots(figsize=(15,5))\n",
        "sns.barplot(data=df,x='Month',y='Rented_Bike_Count',ax=ax,capsize=.2)\n",
        "ax.set(title='Count of Rented bikes acording to Month ')"
      ],
      "metadata": {
        "id": "L-1PbG76578P",
        "colab": {
          "base_uri": "https://localhost:8080/",
          "height": 367
        },
        "outputId": "1239d5c1-75c3-4c82-ed7e-e7ff9e8b5359"
      },
      "execution_count": 210,
      "outputs": [
        {
          "output_type": "execute_result",
          "data": {
            "text/plain": [
              "[Text(0.5, 1.0, 'Count of Rented bikes acording to Month ')]"
            ]
          },
          "metadata": {},
          "execution_count": 210
        },
        {
          "output_type": "display_data",
          "data": {
            "text/plain": [
              "<Figure size 1080x360 with 1 Axes>"
            ],
            "image/png": "[encoded data removed]"
          },
          "metadata": {
            "needs_background": "light"
          }
        }
      ]
    },
    {
      "cell_type": "markdown",
      "source": [
        "Above barplot shows that from March Bike Rent Count started increasing and it was highest in June."
      ],
      "metadata": {
        "id": "dBXmg1lqafWZ"
      }
    },
    {
      "cell_type": "markdown",
      "source": [
        "**Trend of bike according to temperature**"
      ],
      "metadata": {
        "id": "h2KayIsJ-fdb"
      }
    },
    {
      "cell_type": "code",
      "metadata": {
        "id": "APjfF6zhzssN",
        "colab": {
          "base_uri": "https://localhost:8080/",
          "height": 297
        },
        "outputId": "8d37f8fa-a3d5-4f2a-ae77-5b3d7f86b9b4"
      },
      "source": [
        "# Plot to see trend of bike according to temperature\n",
        "df.groupby('Temperature').mean()['Rented_Bike_Count'].plot()"
      ],
      "execution_count": 211,
      "outputs": [
        {
          "output_type": "execute_result",
          "data": {
            "text/plain": [
              "<matplotlib.axes._subplots.AxesSubplot at 0x7f72d738d590>"
            ]
          },
          "metadata": {},
          "execution_count": 211
        },
        {
          "output_type": "display_data",
          "data": {
            "text/plain": [
              "<Figure size 432x288 with 1 Axes>"
            ],
            "image/png": "[encoded data removed]"
          },
          "metadata": {
            "needs_background": "light"
          }
        }
      ]
    },
    {
      "cell_type": "markdown",
      "source": [
        "From the above plot we see that people like to ride bikes when it is pretty hot around 25°C in average"
      ],
      "metadata": {
        "id": "sQLgvB1_-c3H"
      }
    },
    {
      "cell_type": "markdown",
      "source": [
        "**Plot of rented bikes according to rainfall**"
      ],
      "metadata": {
        "id": "4ap2PJjGgVHn"
      }
    },
    {
      "cell_type": "code",
      "source": [
        "df.groupby('Rainfall').mean()['Rented_Bike_Count'].plot()"
      ],
      "metadata": {
        "id": "nmZljv7te2cz",
        "colab": {
          "base_uri": "https://localhost:8080/",
          "height": 300
        },
        "outputId": "6b7fdddd-c392-4ab3-9d7e-84f8043ed6f5"
      },
      "execution_count": 212,
      "outputs": [
        {
          "output_type": "execute_result",
          "data": {
            "text/plain": [
              "<matplotlib.axes._subplots.AxesSubplot at 0x7f72d6f0ecd0>"
            ]
          },
          "metadata": {},
          "execution_count": 212
        },
        {
          "output_type": "display_data",
          "data": {
            "text/plain": [
              "<Figure size 432x288 with 1 Axes>"
            ],
            "image/png": "[encoded data removed]"
          },
          "metadata": {
            "needs_background": "light"
          }
        }
      ]
    },
    {
      "cell_type": "markdown",
      "source": [
        "We can see from the above plot that even if it rains a lot the demand of of rent bikes is not decreasing, here for example even if we have 20 mm of rain there is a big peak of rented bikes"
      ],
      "metadata": {
        "id": "QVrrhqFdfZaN"
      }
    },
    {
      "cell_type": "markdown",
      "source": [
        "**Trend of rented bike according to snowfall**"
      ],
      "metadata": {
        "id": "IA00e0wM60uy"
      }
    },
    {
      "cell_type": "code",
      "source": [
        "#print the plot to analyze the relationship between \"Rented_Bike_Count\" and \"Snowfall\" \n",
        "df.groupby('Snowfall').mean()['Rented_Bike_Count'].plot()"
      ],
      "metadata": {
        "colab": {
          "base_uri": "https://localhost:8080/",
          "height": 296
        },
        "id": "dQfVhXhM67Ta",
        "outputId": "d7266822-0d28-4246-d9f6-ea271f28f8de"
      },
      "execution_count": 213,
      "outputs": [
        {
          "output_type": "execute_result",
          "data": {
            "text/plain": [
              "<matplotlib.axes._subplots.AxesSubplot at 0x7f72d6f7de10>"
            ]
          },
          "metadata": {},
          "execution_count": 213
        },
        {
          "output_type": "display_data",
          "data": {
            "text/plain": [
              "<Figure size 432x288 with 1 Axes>"
            ],
            "image/png": "[encoded data removed]"
          },
          "metadata": {
            "needs_background": "light"
          }
        }
      ]
    },
    {
      "cell_type": "markdown",
      "source": [
        "We can see from the plot that, on the y-axis, the amount of rented bike is very low When we have more than 4 cm of snow, the bike rents is much lower"
      ],
      "metadata": {
        "id": "1oIPRTtY7Tj6"
      }
    },
    {
      "cell_type": "markdown",
      "source": [
        "**Trend of Bike according to Functioning Day** "
      ],
      "metadata": {
        "id": "mnQzIb0KV-b_"
      }
    },
    {
      "cell_type": "code",
      "source": [
        "#anlysis of data by vizualisation\n",
        "fig,ax=plt.subplots(figsize=(10,8))\n",
        "sns.barplot(data=df,x='Functioning_Day',y='Rented_Bike_Count',ax=ax,capsize=.2)\n",
        "ax.set(title='Count of Rented bikes acording to Functioning Day ')"
      ],
      "metadata": {
        "colab": {
          "base_uri": "https://localhost:8080/",
          "height": 531
        },
        "id": "pA9xo3NxWFXA",
        "outputId": "aaf0adf0-61b9-4c11-8348-ab7d23e549d9"
      },
      "execution_count": 214,
      "outputs": [
        {
          "output_type": "execute_result",
          "data": {
            "text/plain": [
              "[Text(0.5, 1.0, 'Count of Rented bikes acording to Functioning Day ')]"
            ]
          },
          "metadata": {},
          "execution_count": 214
        },
        {
          "output_type": "display_data",
          "data": {
            "text/plain": [
              "<Figure size 720x576 with 1 Axes>"
            ],
            "image/png": "[encoded data removed]"
          },
          "metadata": {
            "needs_background": "light"
          }
        }
      ]
    },
    {
      "cell_type": "markdown",
      "source": [
        "From above plot we can see that peoples dont use reneted bikes in no functioning day."
      ],
      "metadata": {
        "id": "TFdfXFTgXMJo"
      }
    },
    {
      "cell_type": "markdown",
      "source": [
        "# **Bivariate Analysis**"
      ],
      "metadata": {
        "id": "C9OIEAbXvYZo"
      }
    },
    {
      "cell_type": "markdown",
      "source": [
        "**Trend of bikes according to weedays or weekend**"
      ],
      "metadata": {
        "id": "AstWEhAG4AxV"
      }
    },
    {
      "cell_type": "code",
      "source": [
        "df1VizDays=pd.DataFrame(df.groupby('Weekdays_or_weekend').sum()['Rented_Bike_Count'].sort_values(ascending=False))\n",
        "df1VizDays.style.background_gradient(cmap=sns.light_palette(\"red\", as_cmap=True))"
      ],
      "metadata": {
        "id": "IUu7_tt9m7ur",
        "colab": {
          "base_uri": "https://localhost:8080/",
          "height": 143
        },
        "outputId": "c9e373e3-f3dd-4524-a370-adb07f4ec8f4"
      },
      "execution_count": 215,
      "outputs": [
        {
          "output_type": "execute_result",
          "data": {
            "text/plain": [
              "<pandas.io.formats.style.Styler at 0x7f72d6d5ef90>"
            ],
            "text/html": [
              "<style type=\"text/css\">\n",
              "#T_4361a_row0_col0 {\n",
              "  background-color: #ff0000;\n",
              "  color: #f1f1f1;\n",
              "}\n",
              "#T_4361a_row1_col0 {\n",
              "  background-color: #f3f0f0;\n",
              "  color: #000000;\n",
              "}\n",
              "</style>\n",
              "<table id=\"T_4361a_\" class=\"dataframe\">\n",
              "  <thead>\n",
              "    <tr>\n",
              "      <th class=\"blank level0\" >&nbsp;</th>\n",
              "      <th class=\"col_heading level0 col0\" >Rented_Bike_Count</th>\n",
              "    </tr>\n",
              "    <tr>\n",
              "      <th class=\"index_name level0\" >Weekdays_or_weekend</th>\n",
              "      <th class=\"blank col0\" >&nbsp;</th>\n",
              "    </tr>\n",
              "  </thead>\n",
              "  <tbody>\n",
              "    <tr>\n",
              "      <th id=\"T_4361a_level0_row0\" class=\"row_heading level0 row0\" >0</th>\n",
              "      <td id=\"T_4361a_row0_col0\" class=\"data row0 col0\" >4462544</td>\n",
              "    </tr>\n",
              "    <tr>\n",
              "      <th id=\"T_4361a_level0_row1\" class=\"row_heading level0 row1\" >1</th>\n",
              "      <td id=\"T_4361a_row1_col0\" class=\"data row1 col0\" >1709770</td>\n",
              "    </tr>\n",
              "  </tbody>\n",
              "</table>\n"
            ]
          },
          "metadata": {},
          "execution_count": 215
        }
      ]
    },
    {
      "cell_type": "markdown",
      "source": [
        "**Bike rented according to hour on weekdays or on weekend**"
      ],
      "metadata": {
        "id": "erQcHkKgxwbl"
      }
    },
    {
      "cell_type": "code",
      "source": [
        "fig, ax = plt.subplots(figsize=(6,6))\n",
        "sns.barplot(data=df, x='Weekdays_or_weekend', y='Rented_Bike_Count', ax=ax)\n",
        "ax.set(title='Count of bikes during different days')"
      ],
      "metadata": {
        "id": "r23K2_AOxF3t",
        "colab": {
          "base_uri": "https://localhost:8080/",
          "height": 422
        },
        "outputId": "bdbeff6d-1f5e-4cfb-d82e-617a88e45642"
      },
      "execution_count": 216,
      "outputs": [
        {
          "output_type": "execute_result",
          "data": {
            "text/plain": [
              "[Text(0.5, 1.0, 'Count of bikes during different days')]"
            ]
          },
          "metadata": {},
          "execution_count": 216
        },
        {
          "output_type": "display_data",
          "data": {
            "text/plain": [
              "<Figure size 432x432 with 1 Axes>"
            ],
            "image/png": "[encoded data removed]"
          },
          "metadata": {
            "needs_background": "light"
          }
        }
      ]
    },
    {
      "cell_type": "markdown",
      "source": [
        " Most of the bikes were rented on Weekdays compared to weekends."
      ],
      "metadata": {
        "id": "z4Kxsd-v3Vfv"
      }
    },
    {
      "cell_type": "markdown",
      "source": [
        "**Trend of bike according to functioning day**"
      ],
      "metadata": {
        "id": "O9pd6yEeyfD0"
      }
    },
    {
      "cell_type": "code",
      "source": [
        "#Bike Rental trend with respect to Hour on Functioning day.\n",
        "plt.figure(figsize=(15,5))\n",
        "sns.pointplot(x=df['Hour'],y=df['Rented_Bike_Count'],hue=df['Functioning_Day'])\n",
        "plt.title(\"Bike Rental Trend according to Hour on Functioning day\")"
      ],
      "metadata": {
        "id": "7BRUck8FymOK",
        "colab": {
          "base_uri": "https://localhost:8080/",
          "height": 367
        },
        "outputId": "94bbbf59-8bd2-4289-a970-da95e3371f6f"
      },
      "execution_count": 217,
      "outputs": [
        {
          "output_type": "execute_result",
          "data": {
            "text/plain": [
              "Text(0.5, 1.0, 'Bike Rental Trend according to Hour on Functioning day')"
            ]
          },
          "metadata": {},
          "execution_count": 217
        },
        {
          "output_type": "display_data",
          "data": {
            "text/plain": [
              "<Figure size 1080x360 with 1 Axes>"
            ],
            "image/png": "[encoded data removed]"
          },
          "metadata": {
            "needs_background": "light"
          }
        }
      ]
    },
    {
      "cell_type": "markdown",
      "source": [
        "Here the trend for functioning day is same as of Weekdays. Only the difference is on No functioning day there is no bike rentals."
      ],
      "metadata": {
        "id": "1HvPUMasysEF"
      }
    },
    {
      "cell_type": "markdown",
      "source": [
        "**Trend of rented bike according to seasons**"
      ],
      "metadata": {
        "id": "bZmOTCkYdPG-"
      }
    },
    {
      "cell_type": "code",
      "source": [
        "df.groupby('Seasons').sum()['Rented_Bike_Count'].plot.pie()"
      ],
      "metadata": {
        "id": "C7y-Mkj6dEIK",
        "colab": {
          "base_uri": "https://localhost:8080/",
          "height": 265
        },
        "outputId": "1cca9d27-bb7f-4f8e-8bd9-dbf5481efa9e"
      },
      "execution_count": 218,
      "outputs": [
        {
          "output_type": "execute_result",
          "data": {
            "text/plain": [
              "<matplotlib.axes._subplots.AxesSubplot at 0x7f72d6bee890>"
            ]
          },
          "metadata": {},
          "execution_count": 218
        },
        {
          "output_type": "display_data",
          "data": {
            "text/plain": [
              "<Figure size 432x288 with 1 Axes>"
            ],
            "image/png": "[encoded data removed]"
          },
          "metadata": {}
        }
      ]
    },
    {
      "cell_type": "markdown",
      "source": [
        "We observe that in the summer season trend of rented bike is high."
      ],
      "metadata": {
        "id": "VtK83yHUeHAg"
      }
    },
    {
      "cell_type": "markdown",
      "source": [
        "# **Numeric Variable Analysis**"
      ],
      "metadata": {
        "id": "4Dd6y3tSFw2A"
      }
    },
    {
      "cell_type": "code",
      "source": [
        "fig=plt.subplots(figsize=(10, 10))\n",
        "\n",
        "for i, j in enumerate([\"Temperature\", \"Humidity\", \"WindSpeed\", \"Visibility\", \"Snowfall\",\"Solar_Radiation\", \"Rented_Bike_Count\"]):\n",
        "    plt.subplot(6, 3, i+1)\n",
        "    plt.subplots_adjust(hspace = 1.0)\n",
        "    sns.distplot(df[j])\n",
        "    plt.tight_layout()"
      ],
      "metadata": {
        "id": "UshZZgm0Cy4Q",
        "colab": {
          "base_uri": "https://localhost:8080/",
          "height": 390
        },
        "outputId": "f1bffb07-448c-454a-accd-8f294546c25b"
      },
      "execution_count": 219,
      "outputs": [
        {
          "output_type": "display_data",
          "data": {
            "text/plain": [
              "<Figure size 720x720 with 7 Axes>"
            ],
            "image/png": "[encoded data removed]"
          },
          "metadata": {
            "needs_background": "light"
          }
        }
      ]
    },
    {
      "cell_type": "markdown",
      "source": [
        "Here we obsereved that\n",
        "\n",
        "Humidity is most likely to be between 50-75 units.\n",
        "\n",
        "Windspeed is most commonly seen between 8-12 units.\n",
        "\n",
        "People like to ride bikes around 25°C in average.\n",
        "\n",
        "Visibility is highest at 2000."
      ],
      "metadata": {
        "id": "Tmj-HaL5ENjo"
      }
    },
    {
      "cell_type": "markdown",
      "source": [
        "# **Categorical Variable Analysis**"
      ],
      "metadata": {
        "id": "loTStgt8Vg7y"
      }
    },
    {
      "cell_type": "code",
      "source": [
        "#Extracting categorical features\n",
        "categorical_features= df.select_dtypes(include='object')\n",
        "categorical_features"
      ],
      "metadata": {
        "id": "TFiJrMmHkqtM",
        "colab": {
          "base_uri": "https://localhost:8080/",
          "height": 424
        },
        "outputId": "425e2908-87a9-4c41-8732-ac3901a15793"
      },
      "execution_count": 220,
      "outputs": [
        {
          "output_type": "execute_result",
          "data": {
            "text/plain": [
              "     Hour Seasons     Holiday Functioning_Day label_day_night\n",
              "0       0  Winter  No Holiday             Yes           Night\n",
              "1       1  Winter  No Holiday             Yes           Night\n",
              "2       2  Winter  No Holiday             Yes           Night\n",
              "3       3  Winter  No Holiday             Yes           Night\n",
              "4       4  Winter  No Holiday             Yes           Night\n",
              "...   ...     ...         ...             ...             ...\n",
              "8755   19  Autumn  No Holiday             Yes             Day\n",
              "8756   20  Autumn  No Holiday             Yes             Day\n",
              "8757   21  Autumn  No Holiday             Yes           Night\n",
              "8758   22  Autumn  No Holiday             Yes           Night\n",
              "8759   23  Autumn  No Holiday             Yes           Night\n",
              "\n",
              "[8760 rows x 5 columns]"
            ],
            "text/html": [
              "\n",
              "  <div id=\"df-82a34277-cd59-4d77-972e-3b909d56090f\">\n",
              "    <div class=\"colab-df-container\">\n",
              "      <div>\n",
              "<style scoped>\n",
              "    .dataframe tbody tr th:only-of-type {\n",
              "        vertical-align: middle;\n",
              "    }\n",
              "\n",
              "    .dataframe tbody tr th {\n",
              "        vertical-align: top;\n",
              "    }\n",
              "\n",
              "    .dataframe thead th {\n",
              "        text-align: right;\n",
              "    }\n",
              "</style>\n",
              "<table border=\"1\" class=\"dataframe\">\n",
              "  <thead>\n",
              "    <tr style=\"text-align: right;\">\n",
              "      <th></th>\n",
              "      <th>Hour</th>\n",
              "      <th>Seasons</th>\n",
              "      <th>Holiday</th>\n",
              "      <th>Functioning_Day</th>\n",
              "      <th>label_day_night</th>\n",
              "    </tr>\n",
              "  </thead>\n",
              "  <tbody>\n",
              "    <tr>\n",
              "      <th>0</th>\n",
              "      <td>0</td>\n",
              "      <td>Winter</td>\n",
              "      <td>No Holiday</td>\n",
              "      <td>Yes</td>\n",
              "      <td>Night</td>\n",
              "    </tr>\n",
              "    <tr>\n",
              "      <th>1</th>\n",
              "      <td>1</td>\n",
              "      <td>Winter</td>\n",
              "      <td>No Holiday</td>\n",
              "      <td>Yes</td>\n",
              "      <td>Night</td>\n",
              "    </tr>\n",
              "    <tr>\n",
              "      <th>2</th>\n",
              "      <td>2</td>\n",
              "      <td>Winter</td>\n",
              "      <td>No Holiday</td>\n",
              "      <td>Yes</td>\n",
              "      <td>Night</td>\n",
              "    </tr>\n",
              "    <tr>\n",
              "      <th>3</th>\n",
              "      <td>3</td>\n",
              "      <td>Winter</td>\n",
              "      <td>No Holiday</td>\n",
              "      <td>Yes</td>\n",
              "      <td>Night</td>\n",
              "    </tr>\n",
              "    <tr>\n",
              "      <th>4</th>\n",
              "      <td>4</td>\n",
              "      <td>Winter</td>\n",
              "      <td>No Holiday</td>\n",
              "      <td>Yes</td>\n",
              "      <td>Night</td>\n",
              "    </tr>\n",
              "    <tr>\n",
              "      <th>...</th>\n",
              "      <td>...</td>\n",
              "      <td>...</td>\n",
              "      <td>...</td>\n",
              "      <td>...</td>\n",
              "      <td>...</td>\n",
              "    </tr>\n",
              "    <tr>\n",
              "      <th>8755</th>\n",
              "      <td>19</td>\n",
              "      <td>Autumn</td>\n",
              "      <td>No Holiday</td>\n",
              "      <td>Yes</td>\n",
              "      <td>Day</td>\n",
              "    </tr>\n",
              "    <tr>\n",
              "      <th>8756</th>\n",
              "      <td>20</td>\n",
              "      <td>Autumn</td>\n",
              "      <td>No Holiday</td>\n",
              "      <td>Yes</td>\n",
              "      <td>Day</td>\n",
              "    </tr>\n",
              "    <tr>\n",
              "      <th>8757</th>\n",
              "      <td>21</td>\n",
              "      <td>Autumn</td>\n",
              "      <td>No Holiday</td>\n",
              "      <td>Yes</td>\n",
              "      <td>Night</td>\n",
              "    </tr>\n",
              "    <tr>\n",
              "      <th>8758</th>\n",
              "      <td>22</td>\n",
              "      <td>Autumn</td>\n",
              "      <td>No Holiday</td>\n",
              "      <td>Yes</td>\n",
              "      <td>Night</td>\n",
              "    </tr>\n",
              "    <tr>\n",
              "      <th>8759</th>\n",
              "      <td>23</td>\n",
              "      <td>Autumn</td>\n",
              "      <td>No Holiday</td>\n",
              "      <td>Yes</td>\n",
              "      <td>Night</td>\n",
              "    </tr>\n",
              "  </tbody>\n",
              "</table>\n",
              "<p>8760 rows × 5 columns</p>\n",
              "</div>\n",
              "      <button class=\"colab-df-convert\" onclick=\"convertToInteractive('df-82a34277-cd59-4d77-972e-3b909d56090f')\"\n",
              "              title=\"Convert this dataframe to an interactive table.\"\n",
              "              style=\"display:none;\">\n",
              "        \n",
              "  <svg xmlns=\"http://www.w3.org/2000/svg\" height=\"24px\"viewBox=\"0 0 24 24\"\n",
              "       width=\"24px\">\n",
              "    <path d=\"M0 0h24v24H0V0z\" fill=\"none\"/>\n",
              "    <path d=\"M18.56 5.44l.94 2.06.94-2.06 2.06-.94-2.06-.94-.94-2.06-.94 2.06-2.06.94zm-11 1L8.5 8.5l.94-2.06 2.06-.94-2.06-.94L8.5 2.5l-.94 2.06-2.06.94zm10 10l.94 2.06.94-2.06 2.06-.94-2.06-.94-.94-2.06-.94 2.06-2.06.94z\"/><path d=\"M17.41 7.96l-1.37-1.37c-.4-.4-.92-.59-1.43-.59-.52 0-1.04.2-1.43.59L10.3 9.45l-7.72 7.72c-.78.78-.78 2.05 0 2.83L4 21.41c.39.39.9.59 1.41.59.51 0 1.02-.2 1.41-.59l7.78-7.78 2.81-2.81c.8-.78.8-2.07 0-2.86zM5.41 20L4 18.59l7.72-7.72 1.47 1.35L5.41 20z\"/>\n",
              "  </svg>\n",
              "      </button>\n",
              "      \n",
              "  <style>\n",
              "    .colab-df-container {\n",
              "      display:flex;\n",
              "      flex-wrap:wrap;\n",
              "      gap: 12px;\n",
              "    }\n",
              "\n",
              "    .colab-df-convert {\n",
              "      background-color: #E8F0FE;\n",
              "      border: none;\n",
              "      border-radius: 50%;\n",
              "      cursor: pointer;\n",
              "      display: none;\n",
              "      fill: #1967D2;\n",
              "      height: 32px;\n",
              "      padding: 0 0 0 0;\n",
              "      width: 32px;\n",
              "    }\n",
              "\n",
              "    .colab-df-convert:hover {\n",
              "      background-color: #E2EBFA;\n",
              "      box-shadow: 0px 1px 2px rgba(60, 64, 67, 0.3), 0px 1px 3px 1px rgba(60, 64, 67, 0.15);\n",
              "      fill: #174EA6;\n",
              "    }\n",
              "\n",
              "    [theme=dark] .colab-df-convert {\n",
              "      background-color: #3B4455;\n",
              "      fill: #D2E3FC;\n",
              "    }\n",
              "\n",
              "    [theme=dark] .colab-df-convert:hover {\n",
              "      background-color: #434B5C;\n",
              "      box-shadow: 0px 1px 3px 1px rgba(0, 0, 0, 0.15);\n",
              "      filter: drop-shadow(0px 1px 2px rgba(0, 0, 0, 0.3));\n",
              "      fill: #FFFFFF;\n",
              "    }\n",
              "  </style>\n",
              "\n",
              "      <script>\n",
              "        const buttonEl =\n",
              "          document.querySelector('#df-82a34277-cd59-4d77-972e-3b909d56090f button.colab-df-convert');\n",
              "        buttonEl.style.display =\n",
              "          google.colab.kernel.accessAllowed ? 'block' : 'none';\n",
              "\n",
              "        async function convertToInteractive(key) {\n",
              "          const element = document.querySelector('#df-82a34277-cd59-4d77-972e-3b909d56090f');\n",
              "          const dataTable =\n",
              "            await google.colab.kernel.invokeFunction('convertToInteractive',\n",
              "                                                     [key], {});\n",
              "          if (!dataTable) return;\n",
              "\n",
              "          const docLinkHtml = 'Like what you see? Visit the ' +\n",
              "            '<a target=\"_blank\" href=https://colab.research.google.com/notebooks/data_table.ipynb>data table notebook</a>'\n",
              "            + ' to learn more about interactive tables.';\n",
              "          element.innerHTML = '';\n",
              "          dataTable['output_type'] = 'display_data';\n",
              "          await google.colab.output.renderOutput(dataTable, element);\n",
              "          const docLink = document.createElement('div');\n",
              "          docLink.innerHTML = docLinkHtml;\n",
              "          element.appendChild(docLink);\n",
              "        }\n",
              "      </script>\n",
              "    </div>\n",
              "  </div>\n",
              "  "
            ]
          },
          "metadata": {},
          "execution_count": 220
        }
      ]
    },
    {
      "cell_type": "code",
      "source": [
        "# plot barchart plot for each categorical columns with respect to target variable to get insights\n",
        "for col in categorical_columns:\n",
        "    fig = plt.figure(figsize=(8, 5))\n",
        "    ax = fig.gca()\n",
        "    sns.barplot(x=df[col],y=df['Rented_Bike_Count'])"
      ],
      "metadata": {
        "id": "mVZLxzjNVmGR",
        "colab": {
          "base_uri": "https://localhost:8080/",
          "height": 1000
        },
        "outputId": "d7742f2a-257a-45c3-f63c-757a34541a25"
      },
      "execution_count": 221,
      "outputs": [
        {
          "output_type": "display_data",
          "data": {
            "text/plain": [
              "<Figure size 576x360 with 1 Axes>"
            ],
            "image/png": "[encoded data removed]"
          },
          "metadata": {
            "needs_background": "light"
          }
        },
        {
          "output_type": "display_data",
          "data": {
            "text/plain": [
              "<Figure size 576x360 with 1 Axes>"
            ],
            "image/png": "[encoded data removed]"
          },
          "metadata": {
            "needs_background": "light"
          }
        },
        {
          "output_type": "display_data",
          "data": {
            "text/plain": [
              "<Figure size 576x360 with 1 Axes>"
            ],
            "image/png": "[encoded data removed]"
          },
          "metadata": {
            "needs_background": "light"
          }
        },
        {
          "output_type": "display_data",
          "data": {
            "text/plain": [
              "<Figure size 576x360 with 1 Axes>"
            ],
            "image/png": "[encoded data removed]"
          },
          "metadata": {
            "needs_background": "light"
          }
        },
        {
          "output_type": "display_data",
          "data": {
            "text/plain": [
              "<Figure size 576x360 with 1 Axes>"
            ],
            "image/png": "[encoded data removed]"
          },
          "metadata": {
            "needs_background": "light"
          }
        }
      ]
    },
    {
      "cell_type": "markdown",
      "source": [
        " From above plots we observed that:\n",
        " \n",
        " 1)Summer season had the higest Bike Rent Count. People are more likely to rent bikes in summer. Bike rentals in winter is very less compared to other seasons.\n",
        "\n",
        "2) High number of bikes were rented on No Holidays.\n",
        "\n",
        "3) On no functioning day no bikes were rented. we have only 295 counts of \"NO\". Thus we can drop that 295 values but column having only \"Yes' will not add value to our column.So these columns is not use full for us. We will drop those in next steps.\n",
        "\n",
        "4) Most of the bikes were rented on Weekdays compared to weekends.\n",
        "\n",
        "5) From March Bike Rent Count started increasing and it was highest in June.\n",
        "\n",
        "6)There are much more rents during the day than the night."
      ],
      "metadata": {
        "id": "zss0fiFVWEgg"
      }
    },
    {
      "cell_type": "markdown",
      "source": [
        "# **Heatmap**"
      ],
      "metadata": {
        "id": "iXEEOF82LowW"
      }
    },
    {
      "cell_type": "markdown",
      "source": [
        "Let see the correlation between variables using correlation heatmap."
      ],
      "metadata": {
        "id": "8l-ivovGLtE9"
      }
    },
    {
      "cell_type": "code",
      "source": [
        "# Let's check the correlation coefficients to see which variables are highly correlated\n",
        "\n",
        "plt.figure(figsize = (12, 8))\n",
        "sns.heatmap(data.corr(), annot = True, cmap=\"YlGnBu\")\n",
        "plt.show()\n"
      ],
      "metadata": {
        "id": "_SHfIU_CLUr-",
        "colab": {
          "base_uri": "https://localhost:8080/",
          "height": 613
        },
        "outputId": "d86e2f9a-24c5-4544-f2e7-b5c54e2f7d06"
      },
      "execution_count": 222,
      "outputs": [
        {
          "output_type": "display_data",
          "data": {
            "text/plain": [
              "<Figure size 864x576 with 2 Axes>"
            ],
            "image/png": "[encoded data removed]"
          },
          "metadata": {
            "needs_background": "light"
          }
        }
      ]
    },
    {
      "cell_type": "markdown",
      "source": [
        "From above we can say that, temperature and dew point temperature are highly correlated means both the variables together cannot be used in model because it will lead to multicollinearity. So from VIP and p-value we will consider which variable to take."
      ],
      "metadata": {
        "id": "Uq4b037yMDn0"
      }
    },
    {
      "cell_type": "markdown",
      "source": [
        "# **Modeling**"
      ],
      "metadata": {
        "id": "SZg2FtO33btv"
      }
    },
    {
      "cell_type": "markdown",
      "source": [
        "Lets prepare data for modeling"
      ],
      "metadata": {
        "id": "IdloTsrkCc15"
      }
    },
    {
      "cell_type": "code",
      "source": [
        "df.head(1)"
      ],
      "metadata": {
        "id": "-77U3t88Cl-R",
        "colab": {
          "base_uri": "https://localhost:8080/",
          "height": 162
        },
        "outputId": "dec7ea53-b1dc-45d1-9f94-01926b12b8fc"
      },
      "execution_count": 223,
      "outputs": [
        {
          "output_type": "execute_result",
          "data": {
            "text/plain": [
              "   Rented_Bike_Count Hour  Temperature  Humidity  WindSpeed  Visibility  \\\n",
              "0                254    0         -5.2        37        2.2        2000   \n",
              "\n",
              "   Dew_Point_Temperature  Solar_Radiation  Rainfall  Snowfall Seasons  \\\n",
              "0                  -17.6              0.0       0.0       0.0  Winter   \n",
              "\n",
              "      Holiday Functioning_Day  Month  Weekdays_or_weekend label_day_night  \n",
              "0  No Holiday             Yes      1                    0           Night  "
            ],
            "text/html": [
              "\n",
              "  <div id=\"df-5c274de4-c9a2-49d2-af91-049dc4c29054\">\n",
              "    <div class=\"colab-df-container\">\n",
              "      <div>\n",
              "<style scoped>\n",
              "    .dataframe tbody tr th:only-of-type {\n",
              "        vertical-align: middle;\n",
              "    }\n",
              "\n",
              "    .dataframe tbody tr th {\n",
              "        vertical-align: top;\n",
              "    }\n",
              "\n",
              "    .dataframe thead th {\n",
              "        text-align: right;\n",
              "    }\n",
              "</style>\n",
              "<table border=\"1\" class=\"dataframe\">\n",
              "  <thead>\n",
              "    <tr style=\"text-align: right;\">\n",
              "      <th></th>\n",
              "      <th>Rented_Bike_Count</th>\n",
              "      <th>Hour</th>\n",
              "      <th>Temperature</th>\n",
              "      <th>Humidity</th>\n",
              "      <th>WindSpeed</th>\n",
              "      <th>Visibility</th>\n",
              "      <th>Dew_Point_Temperature</th>\n",
              "      <th>Solar_Radiation</th>\n",
              "      <th>Rainfall</th>\n",
              "      <th>Snowfall</th>\n",
              "      <th>Seasons</th>\n",
              "      <th>Holiday</th>\n",
              "      <th>Functioning_Day</th>\n",
              "      <th>Month</th>\n",
              "      <th>Weekdays_or_weekend</th>\n",
              "      <th>label_day_night</th>\n",
              "    </tr>\n",
              "  </thead>\n",
              "  <tbody>\n",
              "    <tr>\n",
              "      <th>0</th>\n",
              "      <td>254</td>\n",
              "      <td>0</td>\n",
              "      <td>-5.2</td>\n",
              "      <td>37</td>\n",
              "      <td>2.2</td>\n",
              "      <td>2000</td>\n",
              "      <td>-17.6</td>\n",
              "      <td>0.0</td>\n",
              "      <td>0.0</td>\n",
              "      <td>0.0</td>\n",
              "      <td>Winter</td>\n",
              "      <td>No Holiday</td>\n",
              "      <td>Yes</td>\n",
              "      <td>1</td>\n",
              "      <td>0</td>\n",
              "      <td>Night</td>\n",
              "    </tr>\n",
              "  </tbody>\n",
              "</table>\n",
              "</div>\n",
              "      <button class=\"colab-df-convert\" onclick=\"convertToInteractive('df-5c274de4-c9a2-49d2-af91-049dc4c29054')\"\n",
              "              title=\"Convert this dataframe to an interactive table.\"\n",
              "              style=\"display:none;\">\n",
              "        \n",
              "  <svg xmlns=\"http://www.w3.org/2000/svg\" height=\"24px\"viewBox=\"0 0 24 24\"\n",
              "       width=\"24px\">\n",
              "    <path d=\"M0 0h24v24H0V0z\" fill=\"none\"/>\n",
              "    <path d=\"M18.56 5.44l.94 2.06.94-2.06 2.06-.94-2.06-.94-.94-2.06-.94 2.06-2.06.94zm-11 1L8.5 8.5l.94-2.06 2.06-.94-2.06-.94L8.5 2.5l-.94 2.06-2.06.94zm10 10l.94 2.06.94-2.06 2.06-.94-2.06-.94-.94-2.06-.94 2.06-2.06.94z\"/><path d=\"M17.41 7.96l-1.37-1.37c-.4-.4-.92-.59-1.43-.59-.52 0-1.04.2-1.43.59L10.3 9.45l-7.72 7.72c-.78.78-.78 2.05 0 2.83L4 21.41c.39.39.9.59 1.41.59.51 0 1.02-.2 1.41-.59l7.78-7.78 2.81-2.81c.8-.78.8-2.07 0-2.86zM5.41 20L4 18.59l7.72-7.72 1.47 1.35L5.41 20z\"/>\n",
              "  </svg>\n",
              "      </button>\n",
              "      \n",
              "  <style>\n",
              "    .colab-df-container {\n",
              "      display:flex;\n",
              "      flex-wrap:wrap;\n",
              "      gap: 12px;\n",
              "    }\n",
              "\n",
              "    .colab-df-convert {\n",
              "      background-color: #E8F0FE;\n",
              "      border: none;\n",
              "      border-radius: 50%;\n",
              "      cursor: pointer;\n",
              "      display: none;\n",
              "      fill: #1967D2;\n",
              "      height: 32px;\n",
              "      padding: 0 0 0 0;\n",
              "      width: 32px;\n",
              "    }\n",
              "\n",
              "    .colab-df-convert:hover {\n",
              "      background-color: #E2EBFA;\n",
              "      box-shadow: 0px 1px 2px rgba(60, 64, 67, 0.3), 0px 1px 3px 1px rgba(60, 64, 67, 0.15);\n",
              "      fill: #174EA6;\n",
              "    }\n",
              "\n",
              "    [theme=dark] .colab-df-convert {\n",
              "      background-color: #3B4455;\n",
              "      fill: #D2E3FC;\n",
              "    }\n",
              "\n",
              "    [theme=dark] .colab-df-convert:hover {\n",
              "      background-color: #434B5C;\n",
              "      box-shadow: 0px 1px 3px 1px rgba(0, 0, 0, 0.15);\n",
              "      filter: drop-shadow(0px 1px 2px rgba(0, 0, 0, 0.3));\n",
              "      fill: #FFFFFF;\n",
              "    }\n",
              "  </style>\n",
              "\n",
              "      <script>\n",
              "        const buttonEl =\n",
              "          document.querySelector('#df-5c274de4-c9a2-49d2-af91-049dc4c29054 button.colab-df-convert');\n",
              "        buttonEl.style.display =\n",
              "          google.colab.kernel.accessAllowed ? 'block' : 'none';\n",
              "\n",
              "        async function convertToInteractive(key) {\n",
              "          const element = document.querySelector('#df-5c274de4-c9a2-49d2-af91-049dc4c29054');\n",
              "          const dataTable =\n",
              "            await google.colab.kernel.invokeFunction('convertToInteractive',\n",
              "                                                     [key], {});\n",
              "          if (!dataTable) return;\n",
              "\n",
              "          const docLinkHtml = 'Like what you see? Visit the ' +\n",
              "            '<a target=\"_blank\" href=https://colab.research.google.com/notebooks/data_table.ipynb>data table notebook</a>'\n",
              "            + ' to learn more about interactive tables.';\n",
              "          element.innerHTML = '';\n",
              "          dataTable['output_type'] = 'display_data';\n",
              "          await google.colab.output.renderOutput(dataTable, element);\n",
              "          const docLink = document.createElement('div');\n",
              "          docLink.innerHTML = docLinkHtml;\n",
              "          element.appendChild(docLink);\n",
              "        }\n",
              "      </script>\n",
              "    </div>\n",
              "  </div>\n",
              "  "
            ]
          },
          "metadata": {},
          "execution_count": 223
        }
      ]
    },
    {
      "cell_type": "code",
      "source": [
        "# Since Temperature and Dew point temperature are corelated with each other. We will drop dew point temperature.\n",
        "df.drop('Dew_Point_Temperature',inplace=True,axis=1)"
      ],
      "metadata": {
        "id": "1sSF6h7bCvjt"
      },
      "execution_count": 224,
      "outputs": []
    },
    {
      "cell_type": "code",
      "source": [
        "# Multicollinearity\n",
        "from statsmodels.stats.outliers_influence import variance_inflation_factor\n",
        "def Calculate_vif(X):\n",
        "\n",
        "    # Calculating VIF\n",
        "    vif = pd.DataFrame()\n",
        "    vif[\"variables\"] = X.columns\n",
        "    vif[\"VIF\"] = [variance_inflation_factor(X.values, i) for i in range(X.shape[1])]\n",
        "\n",
        "    return(vif)"
      ],
      "metadata": {
        "id": "8FwuYy17C720"
      },
      "execution_count": 225,
      "outputs": []
    },
    {
      "cell_type": "code",
      "source": [
        "# Calculating VIF\n",
        "Calculate_vif(df[[i for i in df.describe().columns if i not in ['Rented_Bike_Count']]])"
      ],
      "metadata": {
        "id": "3GVltiJTC9z0",
        "colab": {
          "base_uri": "https://localhost:8080/",
          "height": 332
        },
        "outputId": "eda69f1c-96c3-4936-de00-f0820779318f"
      },
      "execution_count": 226,
      "outputs": [
        {
          "output_type": "execute_result",
          "data": {
            "text/plain": [
              "             variables       VIF\n",
              "0          Temperature  3.171530\n",
              "1             Humidity  6.066805\n",
              "2            WindSpeed  4.080195\n",
              "3           Visibility  5.190667\n",
              "4      Solar_Radiation  2.272011\n",
              "5             Rainfall  1.080347\n",
              "6             Snowfall  1.124013\n",
              "7                Month  4.541571\n",
              "8  Weekdays_or_weekend  1.397667"
            ],
            "text/html": [
              "\n",
              "  <div id=\"df-1f136e9d-93e5-4474-8777-6e57e0108b7a\">\n",
              "    <div class=\"colab-df-container\">\n",
              "      <div>\n",
              "<style scoped>\n",
              "    .dataframe tbody tr th:only-of-type {\n",
              "        vertical-align: middle;\n",
              "    }\n",
              "\n",
              "    .dataframe tbody tr th {\n",
              "        vertical-align: top;\n",
              "    }\n",
              "\n",
              "    .dataframe thead th {\n",
              "        text-align: right;\n",
              "    }\n",
              "</style>\n",
              "<table border=\"1\" class=\"dataframe\">\n",
              "  <thead>\n",
              "    <tr style=\"text-align: right;\">\n",
              "      <th></th>\n",
              "      <th>variables</th>\n",
              "      <th>VIF</th>\n",
              "    </tr>\n",
              "  </thead>\n",
              "  <tbody>\n",
              "    <tr>\n",
              "      <th>0</th>\n",
              "      <td>Temperature</td>\n",
              "      <td>3.171530</td>\n",
              "    </tr>\n",
              "    <tr>\n",
              "      <th>1</th>\n",
              "      <td>Humidity</td>\n",
              "      <td>6.066805</td>\n",
              "    </tr>\n",
              "    <tr>\n",
              "      <th>2</th>\n",
              "      <td>WindSpeed</td>\n",
              "      <td>4.080195</td>\n",
              "    </tr>\n",
              "    <tr>\n",
              "      <th>3</th>\n",
              "      <td>Visibility</td>\n",
              "      <td>5.190667</td>\n",
              "    </tr>\n",
              "    <tr>\n",
              "      <th>4</th>\n",
              "      <td>Solar_Radiation</td>\n",
              "      <td>2.272011</td>\n",
              "    </tr>\n",
              "    <tr>\n",
              "      <th>5</th>\n",
              "      <td>Rainfall</td>\n",
              "      <td>1.080347</td>\n",
              "    </tr>\n",
              "    <tr>\n",
              "      <th>6</th>\n",
              "      <td>Snowfall</td>\n",
              "      <td>1.124013</td>\n",
              "    </tr>\n",
              "    <tr>\n",
              "      <th>7</th>\n",
              "      <td>Month</td>\n",
              "      <td>4.541571</td>\n",
              "    </tr>\n",
              "    <tr>\n",
              "      <th>8</th>\n",
              "      <td>Weekdays_or_weekend</td>\n",
              "      <td>1.397667</td>\n",
              "    </tr>\n",
              "  </tbody>\n",
              "</table>\n",
              "</div>\n",
              "      <button class=\"colab-df-convert\" onclick=\"convertToInteractive('df-1f136e9d-93e5-4474-8777-6e57e0108b7a')\"\n",
              "              title=\"Convert this dataframe to an interactive table.\"\n",
              "              style=\"display:none;\">\n",
              "        \n",
              "  <svg xmlns=\"http://www.w3.org/2000/svg\" height=\"24px\"viewBox=\"0 0 24 24\"\n",
              "       width=\"24px\">\n",
              "    <path d=\"M0 0h24v24H0V0z\" fill=\"none\"/>\n",
              "    <path d=\"M18.56 5.44l.94 2.06.94-2.06 2.06-.94-2.06-.94-.94-2.06-.94 2.06-2.06.94zm-11 1L8.5 8.5l.94-2.06 2.06-.94-2.06-.94L8.5 2.5l-.94 2.06-2.06.94zm10 10l.94 2.06.94-2.06 2.06-.94-2.06-.94-.94-2.06-.94 2.06-2.06.94z\"/><path d=\"M17.41 7.96l-1.37-1.37c-.4-.4-.92-.59-1.43-.59-.52 0-1.04.2-1.43.59L10.3 9.45l-7.72 7.72c-.78.78-.78 2.05 0 2.83L4 21.41c.39.39.9.59 1.41.59.51 0 1.02-.2 1.41-.59l7.78-7.78 2.81-2.81c.8-.78.8-2.07 0-2.86zM5.41 20L4 18.59l7.72-7.72 1.47 1.35L5.41 20z\"/>\n",
              "  </svg>\n",
              "      </button>\n",
              "      \n",
              "  <style>\n",
              "    .colab-df-container {\n",
              "      display:flex;\n",
              "      flex-wrap:wrap;\n",
              "      gap: 12px;\n",
              "    }\n",
              "\n",
              "    .colab-df-convert {\n",
              "      background-color: #E8F0FE;\n",
              "      border: none;\n",
              "      border-radius: 50%;\n",
              "      cursor: pointer;\n",
              "      display: none;\n",
              "      fill: #1967D2;\n",
              "      height: 32px;\n",
              "      padding: 0 0 0 0;\n",
              "      width: 32px;\n",
              "    }\n",
              "\n",
              "    .colab-df-convert:hover {\n",
              "      background-color: #E2EBFA;\n",
              "      box-shadow: 0px 1px 2px rgba(60, 64, 67, 0.3), 0px 1px 3px 1px rgba(60, 64, 67, 0.15);\n",
              "      fill: #174EA6;\n",
              "    }\n",
              "\n",
              "    [theme=dark] .colab-df-convert {\n",
              "      background-color: #3B4455;\n",
              "      fill: #D2E3FC;\n",
              "    }\n",
              "\n",
              "    [theme=dark] .colab-df-convert:hover {\n",
              "      background-color: #434B5C;\n",
              "      box-shadow: 0px 1px 3px 1px rgba(0, 0, 0, 0.15);\n",
              "      filter: drop-shadow(0px 1px 2px rgba(0, 0, 0, 0.3));\n",
              "      fill: #FFFFFF;\n",
              "    }\n",
              "  </style>\n",
              "\n",
              "      <script>\n",
              "        const buttonEl =\n",
              "          document.querySelector('#df-1f136e9d-93e5-4474-8777-6e57e0108b7a button.colab-df-convert');\n",
              "        buttonEl.style.display =\n",
              "          google.colab.kernel.accessAllowed ? 'block' : 'none';\n",
              "\n",
              "        async function convertToInteractive(key) {\n",
              "          const element = document.querySelector('#df-1f136e9d-93e5-4474-8777-6e57e0108b7a');\n",
              "          const dataTable =\n",
              "            await google.colab.kernel.invokeFunction('convertToInteractive',\n",
              "                                                     [key], {});\n",
              "          if (!dataTable) return;\n",
              "\n",
              "          const docLinkHtml = 'Like what you see? Visit the ' +\n",
              "            '<a target=\"_blank\" href=https://colab.research.google.com/notebooks/data_table.ipynb>data table notebook</a>'\n",
              "            + ' to learn more about interactive tables.';\n",
              "          element.innerHTML = '';\n",
              "          dataTable['output_type'] = 'display_data';\n",
              "          await google.colab.output.renderOutput(dataTable, element);\n",
              "          const docLink = document.createElement('div');\n",
              "          docLink.innerHTML = docLinkHtml;\n",
              "          element.appendChild(docLink);\n",
              "        }\n",
              "      </script>\n",
              "    </div>\n",
              "  </div>\n",
              "  "
            ]
          },
          "metadata": {},
          "execution_count": 226
        }
      ]
    },
    {
      "cell_type": "markdown",
      "source": [
        "Here, humidity vif is greater than 5 so we will remove that column."
      ],
      "metadata": {
        "id": "ILvdex6nDIZJ"
      }
    },
    {
      "cell_type": "markdown",
      "source": [
        "VIF determines the strength of the correlation between the independent variables. It is predicted by taking a variable and regressing it against every other variable.\n",
        "\n",
        "or\n",
        "\n",
        "VIF score of an independent variable represents how well the variable is explained by other independent variables.\n",
        "\n",
        "![image.png](data:image/png;base64,iVBORw0KGgoAAAANSUhEUgAAAHUAAAA+CAIAAACa+cNEAAAER0lEQVR4nO2asU/6QBTHn7/8VmMu3RypqyFRYDCucIQ4ONnGwUWjAY2JMcbEuDowuFoGd4sxkcEiYIJDiYNhgD+gTI6tjfEP4DdcfqQppULpFSr3GQzcHfdev7bv3r3rXLfbBQY1/kzagV8O05cuTF+6MH3pwvSlC9OXLkxfusycvo1GIx6PNxqNYMz9DcbMNNDpdHK5XLVaDdLorNy/hmHkcrnLy0tFUYK0Oyv3L8dxlUoFAAKLDIRZuX8nBdOXLkxfujB96cL0pcts6WsYxvPzMwCQv0HQ7SOfzwNANpvt7yLwPA8AmqZ1u91CoQAA+Xy+19tqtRwNCYIwaMJgwBjbXMIY0zbqkP9ijM/Pz2VZvrm56e9tt9uapvE8H4lEAODr68s24Pv7GwAQQolEwtq+srIy3H+cFiT/DRgHfaPRKM/zmqaVy+VMJmPrvb+/B4CzszP3eROJxESuZ9pwjr+CIADA09NTf1exWASAZDJJ1a1fg7O+u7u7ACDLsq2dBIdYLEaCA+NHnOsPkUgkFos1m01ZlkVR7LWT4HB6euqjB7lcrtPpOHatrq5eXV35aCt4BtZ39vb2ms1mqVSy6itJEgwXHN7f39PptLXl+Pi4P5oDQK1W0zRtBJfDxaDEQtd1MkDXddJCKnu2NIskc9b8TFVVR0OFQsGXjCcwZVwY3tuB+wuO48gq9/LyQlrIcrezszOMB/2p5cHBgR+XFjLc9m+bm5sAUCqVyFdZlhFCjs94kPjyEIzJ8N666ZtMJhFCxWLRMIxyuWyapjUW+8XS0tLcAGwRPIy4nV9wHCeKoiRJDw8P7XYbALa3t333IJVKueQPvpsLmB/OhzY2NiRJur29JXvi9fV13z1w3IX/Gn6on2UyGZ7nm82maZpkuWOMxM/1yf39ffJha2urv3dhYcHWMj8/P75bU4Isy+l0miwG8XicBMnRmPRSPNVgjElqT8Kjh3pmuPXVNE0QBOvuZiT6t0KxWExRFMfBGGMPJeyw6qvr+sXFBRHFs77d//tPVVXJnNlstvfViqqqCKFWqzXq/GE9Hzo8PFxeXu5t4seE5EUcx5EE9O3tzdory/LJycnr62s0Gh115rC+v9NfO/VGvV63nht9fHwAwNramtXQ9fV1pVLhOM6LAc9P1pQA48WH3s91Xb+7u0MIWQ8eFUXheZ5UuHRd53l+5Pk9ezYlOOrrcj+5lPowxrbIixCyDRjVvbDGB3fcJe5B4qymaZFIRBTFWq22uLhoHfD5+TmmJ2Fd33yhXq/3DsKPjo5M0+wVY/1ipvWtVqupVIp8JinE4+OjvybCrS/JIur1umEY3n5rjbAY42q16vMLwp4WlclD9gWer8X6klHv4Iq8iwQAHvYRg5jrTseJ1m8l3PFh+mH60oXpSxemL12YvnRh+tKF6UsXpi9dmL50YfrShelLF6YvXZi+dGH60oXpSxemL13+AfNf5MZCyF/0AAAAAElFTkSuQmCC)"
      ],
      "metadata": {
        "id": "pVjtqUGMWW8g"
      }
    },
    {
      "cell_type": "code",
      "source": [
        "# Calculating VIF\n",
        "Calculate_vif(df[[i for i in df.describe().columns if i not in ['Rented_Bike_Count','Humidity','Visibility']]])"
      ],
      "metadata": {
        "id": "Cigz-YXZDLBz",
        "colab": {
          "base_uri": "https://localhost:8080/",
          "height": 269
        },
        "outputId": "bd7b2b66-b811-40ae-8cd6-3aec6fcb494e"
      },
      "execution_count": 227,
      "outputs": [
        {
          "output_type": "execute_result",
          "data": {
            "text/plain": [
              "             variables       VIF\n",
              "0          Temperature  2.342641\n",
              "1            WindSpeed  2.819826\n",
              "2      Solar_Radiation  1.892036\n",
              "3             Rainfall  1.030086\n",
              "4             Snowfall  1.075716\n",
              "5                Month  2.833403\n",
              "6  Weekdays_or_weekend  1.342071"
            ],
            "text/html": [
              "\n",
              "  <div id=\"df-1da7e3e6-36f5-4b42-9b39-6c41c5bdc1a4\">\n",
              "    <div class=\"colab-df-container\">\n",
              "      <div>\n",
              "<style scoped>\n",
              "    .dataframe tbody tr th:only-of-type {\n",
              "        vertical-align: middle;\n",
              "    }\n",
              "\n",
              "    .dataframe tbody tr th {\n",
              "        vertical-align: top;\n",
              "    }\n",
              "\n",
              "    .dataframe thead th {\n",
              "        text-align: right;\n",
              "    }\n",
              "</style>\n",
              "<table border=\"1\" class=\"dataframe\">\n",
              "  <thead>\n",
              "    <tr style=\"text-align: right;\">\n",
              "      <th></th>\n",
              "      <th>variables</th>\n",
              "      <th>VIF</th>\n",
              "    </tr>\n",
              "  </thead>\n",
              "  <tbody>\n",
              "    <tr>\n",
              "      <th>0</th>\n",
              "      <td>Temperature</td>\n",
              "      <td>2.342641</td>\n",
              "    </tr>\n",
              "    <tr>\n",
              "      <th>1</th>\n",
              "      <td>WindSpeed</td>\n",
              "      <td>2.819826</td>\n",
              "    </tr>\n",
              "    <tr>\n",
              "      <th>2</th>\n",
              "      <td>Solar_Radiation</td>\n",
              "      <td>1.892036</td>\n",
              "    </tr>\n",
              "    <tr>\n",
              "      <th>3</th>\n",
              "      <td>Rainfall</td>\n",
              "      <td>1.030086</td>\n",
              "    </tr>\n",
              "    <tr>\n",
              "      <th>4</th>\n",
              "      <td>Snowfall</td>\n",
              "      <td>1.075716</td>\n",
              "    </tr>\n",
              "    <tr>\n",
              "      <th>5</th>\n",
              "      <td>Month</td>\n",
              "      <td>2.833403</td>\n",
              "    </tr>\n",
              "    <tr>\n",
              "      <th>6</th>\n",
              "      <td>Weekdays_or_weekend</td>\n",
              "      <td>1.342071</td>\n",
              "    </tr>\n",
              "  </tbody>\n",
              "</table>\n",
              "</div>\n",
              "      <button class=\"colab-df-convert\" onclick=\"convertToInteractive('df-1da7e3e6-36f5-4b42-9b39-6c41c5bdc1a4')\"\n",
              "              title=\"Convert this dataframe to an interactive table.\"\n",
              "              style=\"display:none;\">\n",
              "        \n",
              "  <svg xmlns=\"http://www.w3.org/2000/svg\" height=\"24px\"viewBox=\"0 0 24 24\"\n",
              "       width=\"24px\">\n",
              "    <path d=\"M0 0h24v24H0V0z\" fill=\"none\"/>\n",
              "    <path d=\"M18.56 5.44l.94 2.06.94-2.06 2.06-.94-2.06-.94-.94-2.06-.94 2.06-2.06.94zm-11 1L8.5 8.5l.94-2.06 2.06-.94-2.06-.94L8.5 2.5l-.94 2.06-2.06.94zm10 10l.94 2.06.94-2.06 2.06-.94-2.06-.94-.94-2.06-.94 2.06-2.06.94z\"/><path d=\"M17.41 7.96l-1.37-1.37c-.4-.4-.92-.59-1.43-.59-.52 0-1.04.2-1.43.59L10.3 9.45l-7.72 7.72c-.78.78-.78 2.05 0 2.83L4 21.41c.39.39.9.59 1.41.59.51 0 1.02-.2 1.41-.59l7.78-7.78 2.81-2.81c.8-.78.8-2.07 0-2.86zM5.41 20L4 18.59l7.72-7.72 1.47 1.35L5.41 20z\"/>\n",
              "  </svg>\n",
              "      </button>\n",
              "      \n",
              "  <style>\n",
              "    .colab-df-container {\n",
              "      display:flex;\n",
              "      flex-wrap:wrap;\n",
              "      gap: 12px;\n",
              "    }\n",
              "\n",
              "    .colab-df-convert {\n",
              "      background-color: #E8F0FE;\n",
              "      border: none;\n",
              "      border-radius: 50%;\n",
              "      cursor: pointer;\n",
              "      display: none;\n",
              "      fill: #1967D2;\n",
              "      height: 32px;\n",
              "      padding: 0 0 0 0;\n",
              "      width: 32px;\n",
              "    }\n",
              "\n",
              "    .colab-df-convert:hover {\n",
              "      background-color: #E2EBFA;\n",
              "      box-shadow: 0px 1px 2px rgba(60, 64, 67, 0.3), 0px 1px 3px 1px rgba(60, 64, 67, 0.15);\n",
              "      fill: #174EA6;\n",
              "    }\n",
              "\n",
              "    [theme=dark] .colab-df-convert {\n",
              "      background-color: #3B4455;\n",
              "      fill: #D2E3FC;\n",
              "    }\n",
              "\n",
              "    [theme=dark] .colab-df-convert:hover {\n",
              "      background-color: #434B5C;\n",
              "      box-shadow: 0px 1px 3px 1px rgba(0, 0, 0, 0.15);\n",
              "      filter: drop-shadow(0px 1px 2px rgba(0, 0, 0, 0.3));\n",
              "      fill: #FFFFFF;\n",
              "    }\n",
              "  </style>\n",
              "\n",
              "      <script>\n",
              "        const buttonEl =\n",
              "          document.querySelector('#df-1da7e3e6-36f5-4b42-9b39-6c41c5bdc1a4 button.colab-df-convert');\n",
              "        buttonEl.style.display =\n",
              "          google.colab.kernel.accessAllowed ? 'block' : 'none';\n",
              "\n",
              "        async function convertToInteractive(key) {\n",
              "          const element = document.querySelector('#df-1da7e3e6-36f5-4b42-9b39-6c41c5bdc1a4');\n",
              "          const dataTable =\n",
              "            await google.colab.kernel.invokeFunction('convertToInteractive',\n",
              "                                                     [key], {});\n",
              "          if (!dataTable) return;\n",
              "\n",
              "          const docLinkHtml = 'Like what you see? Visit the ' +\n",
              "            '<a target=\"_blank\" href=https://colab.research.google.com/notebooks/data_table.ipynb>data table notebook</a>'\n",
              "            + ' to learn more about interactive tables.';\n",
              "          element.innerHTML = '';\n",
              "          dataTable['output_type'] = 'display_data';\n",
              "          await google.colab.output.renderOutput(dataTable, element);\n",
              "          const docLink = document.createElement('div');\n",
              "          docLink.innerHTML = docLinkHtml;\n",
              "          element.appendChild(docLink);\n",
              "        }\n",
              "      </script>\n",
              "    </div>\n",
              "  </div>\n",
              "  "
            ]
          },
          "metadata": {},
          "execution_count": 227
        }
      ]
    },
    {
      "cell_type": "markdown",
      "source": [
        "Now we have VIF values in the range of 1 to 5. we will drop 'Humidity','Visibility' this columns from our dataset"
      ],
      "metadata": {
        "id": "ejxOrWtCDRd7"
      }
    },
    {
      "cell_type": "code",
      "source": [
        "# As per above vif calculation dropping humidity and visibility columns.\n",
        "df.drop(['Humidity','Visibility'],inplace=True,axis=1)"
      ],
      "metadata": {
        "id": "h1bZcMgUDSir"
      },
      "execution_count": 228,
      "outputs": []
    },
    {
      "cell_type": "code",
      "source": [
        "# checking categoiries in season column.\n",
        "df['Seasons'].value_counts()"
      ],
      "metadata": {
        "id": "rLuyRCmOJyDA",
        "colab": {
          "base_uri": "https://localhost:8080/"
        },
        "outputId": "8142e9e4-cf2c-4026-fdf3-0e0c0cd535d6"
      },
      "execution_count": 229,
      "outputs": [
        {
          "output_type": "execute_result",
          "data": {
            "text/plain": [
              "Spring    2208\n",
              "Summer    2208\n",
              "Autumn    2184\n",
              "Winter    2160\n",
              "Name: Seasons, dtype: int64"
            ]
          },
          "metadata": {},
          "execution_count": 229
        }
      ]
    },
    {
      "cell_type": "code",
      "source": [
        "# Createing dummy variables\n",
        "df=pd.get_dummies(df,columns=['Seasons'],prefix='Seasons',drop_first=True)"
      ],
      "metadata": {
        "id": "yXABxErFKgGA"
      },
      "execution_count": 230,
      "outputs": []
    },
    {
      "cell_type": "code",
      "source": [
        "# checking categoiries in holiday columns.\n",
        "df['Holiday'].value_counts()"
      ],
      "metadata": {
        "id": "X30wUbvfKqir",
        "colab": {
          "base_uri": "https://localhost:8080/"
        },
        "outputId": "9a6d5b12-7ea1-4a45-b74c-6664c69a87ad"
      },
      "execution_count": 231,
      "outputs": [
        {
          "output_type": "execute_result",
          "data": {
            "text/plain": [
              "No Holiday    8328\n",
              "Holiday        432\n",
              "Name: Holiday, dtype: int64"
            ]
          },
          "metadata": {},
          "execution_count": 231
        }
      ]
    },
    {
      "cell_type": "code",
      "source": [
        "# Labeling for holiday=1 and no holiday=0\n",
        "df['Holiday']=df['Holiday'].map({'No Holiday':0, 'Holiday':1})"
      ],
      "metadata": {
        "id": "5TdUauI6U3u1"
      },
      "execution_count": 232,
      "outputs": []
    },
    {
      "cell_type": "code",
      "source": [
        "# # Labeling for Yes=1 and no No=0\n",
        "df['Functioning_Day']=df['Functioning_Day'].map({'Yes':1, 'No':0})"
      ],
      "metadata": {
        "id": "2fsumgPeU8u-"
      },
      "execution_count": 233,
      "outputs": []
    },
    {
      "cell_type": "code",
      "source": [
        "# checking dummy and labled columns\n",
        "df.head(3)"
      ],
      "metadata": {
        "id": "cXjVdGAfVAYu",
        "colab": {
          "base_uri": "https://localhost:8080/",
          "height": 207
        },
        "outputId": "524b43d7-d4e5-4c73-9161-19fb095fb888"
      },
      "execution_count": 234,
      "outputs": [
        {
          "output_type": "execute_result",
          "data": {
            "text/plain": [
              "   Rented_Bike_Count Hour  Temperature  WindSpeed  Solar_Radiation  Rainfall  \\\n",
              "0                254    0         -5.2        2.2              0.0       0.0   \n",
              "1                204    1         -5.5        0.8              0.0       0.0   \n",
              "2                173    2         -6.0        1.0              0.0       0.0   \n",
              "\n",
              "   Snowfall  Holiday  Functioning_Day  Month  Weekdays_or_weekend  \\\n",
              "0       0.0        0                1      1                    0   \n",
              "1       0.0        0                1      1                    0   \n",
              "2       0.0        0                1      1                    0   \n",
              "\n",
              "  label_day_night  Seasons_Spring  Seasons_Summer  Seasons_Winter  \n",
              "0           Night               0               0               1  \n",
              "1           Night               0               0               1  \n",
              "2           Night               0               0               1  "
            ],
            "text/html": [
              "\n",
              "  <div id=\"df-4e8a32dc-7228-470d-aaf7-92dd2231c0e5\">\n",
              "    <div class=\"colab-df-container\">\n",
              "      <div>\n",
              "<style scoped>\n",
              "    .dataframe tbody tr th:only-of-type {\n",
              "        vertical-align: middle;\n",
              "    }\n",
              "\n",
              "    .dataframe tbody tr th {\n",
              "        vertical-align: top;\n",
              "    }\n",
              "\n",
              "    .dataframe thead th {\n",
              "        text-align: right;\n",
              "    }\n",
              "</style>\n",
              "<table border=\"1\" class=\"dataframe\">\n",
              "  <thead>\n",
              "    <tr style=\"text-align: right;\">\n",
              "      <th></th>\n",
              "      <th>Rented_Bike_Count</th>\n",
              "      <th>Hour</th>\n",
              "      <th>Temperature</th>\n",
              "      <th>WindSpeed</th>\n",
              "      <th>Solar_Radiation</th>\n",
              "      <th>Rainfall</th>\n",
              "      <th>Snowfall</th>\n",
              "      <th>Holiday</th>\n",
              "      <th>Functioning_Day</th>\n",
              "      <th>Month</th>\n",
              "      <th>Weekdays_or_weekend</th>\n",
              "      <th>label_day_night</th>\n",
              "      <th>Seasons_Spring</th>\n",
              "      <th>Seasons_Summer</th>\n",
              "      <th>Seasons_Winter</th>\n",
              "    </tr>\n",
              "  </thead>\n",
              "  <tbody>\n",
              "    <tr>\n",
              "      <th>0</th>\n",
              "      <td>254</td>\n",
              "      <td>0</td>\n",
              "      <td>-5.2</td>\n",
              "      <td>2.2</td>\n",
              "      <td>0.0</td>\n",
              "      <td>0.0</td>\n",
              "      <td>0.0</td>\n",
              "      <td>0</td>\n",
              "      <td>1</td>\n",
              "      <td>1</td>\n",
              "      <td>0</td>\n",
              "      <td>Night</td>\n",
              "      <td>0</td>\n",
              "      <td>0</td>\n",
              "      <td>1</td>\n",
              "    </tr>\n",
              "    <tr>\n",
              "      <th>1</th>\n",
              "      <td>204</td>\n",
              "      <td>1</td>\n",
              "      <td>-5.5</td>\n",
              "      <td>0.8</td>\n",
              "      <td>0.0</td>\n",
              "      <td>0.0</td>\n",
              "      <td>0.0</td>\n",
              "      <td>0</td>\n",
              "      <td>1</td>\n",
              "      <td>1</td>\n",
              "      <td>0</td>\n",
              "      <td>Night</td>\n",
              "      <td>0</td>\n",
              "      <td>0</td>\n",
              "      <td>1</td>\n",
              "    </tr>\n",
              "    <tr>\n",
              "      <th>2</th>\n",
              "      <td>173</td>\n",
              "      <td>2</td>\n",
              "      <td>-6.0</td>\n",
              "      <td>1.0</td>\n",
              "      <td>0.0</td>\n",
              "      <td>0.0</td>\n",
              "      <td>0.0</td>\n",
              "      <td>0</td>\n",
              "      <td>1</td>\n",
              "      <td>1</td>\n",
              "      <td>0</td>\n",
              "      <td>Night</td>\n",
              "      <td>0</td>\n",
              "      <td>0</td>\n",
              "      <td>1</td>\n",
              "    </tr>\n",
              "  </tbody>\n",
              "</table>\n",
              "</div>\n",
              "      <button class=\"colab-df-convert\" onclick=\"convertToInteractive('df-4e8a32dc-7228-470d-aaf7-92dd2231c0e5')\"\n",
              "              title=\"Convert this dataframe to an interactive table.\"\n",
              "              style=\"display:none;\">\n",
              "        \n",
              "  <svg xmlns=\"http://www.w3.org/2000/svg\" height=\"24px\"viewBox=\"0 0 24 24\"\n",
              "       width=\"24px\">\n",
              "    <path d=\"M0 0h24v24H0V0z\" fill=\"none\"/>\n",
              "    <path d=\"M18.56 5.44l.94 2.06.94-2.06 2.06-.94-2.06-.94-.94-2.06-.94 2.06-2.06.94zm-11 1L8.5 8.5l.94-2.06 2.06-.94-2.06-.94L8.5 2.5l-.94 2.06-2.06.94zm10 10l.94 2.06.94-2.06 2.06-.94-2.06-.94-.94-2.06-.94 2.06-2.06.94z\"/><path d=\"M17.41 7.96l-1.37-1.37c-.4-.4-.92-.59-1.43-.59-.52 0-1.04.2-1.43.59L10.3 9.45l-7.72 7.72c-.78.78-.78 2.05 0 2.83L4 21.41c.39.39.9.59 1.41.59.51 0 1.02-.2 1.41-.59l7.78-7.78 2.81-2.81c.8-.78.8-2.07 0-2.86zM5.41 20L4 18.59l7.72-7.72 1.47 1.35L5.41 20z\"/>\n",
              "  </svg>\n",
              "      </button>\n",
              "      \n",
              "  <style>\n",
              "    .colab-df-container {\n",
              "      display:flex;\n",
              "      flex-wrap:wrap;\n",
              "      gap: 12px;\n",
              "    }\n",
              "\n",
              "    .colab-df-convert {\n",
              "      background-color: #E8F0FE;\n",
              "      border: none;\n",
              "      border-radius: 50%;\n",
              "      cursor: pointer;\n",
              "      display: none;\n",
              "      fill: #1967D2;\n",
              "      height: 32px;\n",
              "      padding: 0 0 0 0;\n",
              "      width: 32px;\n",
              "    }\n",
              "\n",
              "    .colab-df-convert:hover {\n",
              "      background-color: #E2EBFA;\n",
              "      box-shadow: 0px 1px 2px rgba(60, 64, 67, 0.3), 0px 1px 3px 1px rgba(60, 64, 67, 0.15);\n",
              "      fill: #174EA6;\n",
              "    }\n",
              "\n",
              "    [theme=dark] .colab-df-convert {\n",
              "      background-color: #3B4455;\n",
              "      fill: #D2E3FC;\n",
              "    }\n",
              "\n",
              "    [theme=dark] .colab-df-convert:hover {\n",
              "      background-color: #434B5C;\n",
              "      box-shadow: 0px 1px 3px 1px rgba(0, 0, 0, 0.15);\n",
              "      filter: drop-shadow(0px 1px 2px rgba(0, 0, 0, 0.3));\n",
              "      fill: #FFFFFF;\n",
              "    }\n",
              "  </style>\n",
              "\n",
              "      <script>\n",
              "        const buttonEl =\n",
              "          document.querySelector('#df-4e8a32dc-7228-470d-aaf7-92dd2231c0e5 button.colab-df-convert');\n",
              "        buttonEl.style.display =\n",
              "          google.colab.kernel.accessAllowed ? 'block' : 'none';\n",
              "\n",
              "        async function convertToInteractive(key) {\n",
              "          const element = document.querySelector('#df-4e8a32dc-7228-470d-aaf7-92dd2231c0e5');\n",
              "          const dataTable =\n",
              "            await google.colab.kernel.invokeFunction('convertToInteractive',\n",
              "                                                     [key], {});\n",
              "          if (!dataTable) return;\n",
              "\n",
              "          const docLinkHtml = 'Like what you see? Visit the ' +\n",
              "            '<a target=\"_blank\" href=https://colab.research.google.com/notebooks/data_table.ipynb>data table notebook</a>'\n",
              "            + ' to learn more about interactive tables.';\n",
              "          element.innerHTML = '';\n",
              "          dataTable['output_type'] = 'display_data';\n",
              "          await google.colab.output.renderOutput(dataTable, element);\n",
              "          const docLink = document.createElement('div');\n",
              "          docLink.innerHTML = docLinkHtml;\n",
              "          element.appendChild(docLink);\n",
              "        }\n",
              "      </script>\n",
              "    </div>\n",
              "  </div>\n",
              "  "
            ]
          },
          "metadata": {},
          "execution_count": 234
        }
      ]
    },
    {
      "cell_type": "code",
      "source": [
        "# final info before going for modeling\n",
        "df.info()"
      ],
      "metadata": {
        "id": "3WSYfo_EVHwy",
        "colab": {
          "base_uri": "https://localhost:8080/"
        },
        "outputId": "9b648f09-b544-4bb1-cf10-e8eb18ac711f"
      },
      "execution_count": 235,
      "outputs": [
        {
          "output_type": "stream",
          "name": "stdout",
          "text": [
            "<class 'pandas.core.frame.DataFrame'>\n",
            "RangeIndex: 8760 entries, 0 to 8759\n",
            "Data columns (total 15 columns):\n",
            " #   Column               Non-Null Count  Dtype  \n",
            "---  ------               --------------  -----  \n",
            " 0   Rented_Bike_Count    8760 non-null   int64  \n",
            " 1   Hour                 8760 non-null   object \n",
            " 2   Temperature          8760 non-null   float64\n",
            " 3   WindSpeed            8760 non-null   float64\n",
            " 4   Solar_Radiation      8760 non-null   float64\n",
            " 5   Rainfall             8760 non-null   float64\n",
            " 6   Snowfall             8760 non-null   float64\n",
            " 7   Holiday              8760 non-null   int64  \n",
            " 8   Functioning_Day      8760 non-null   int64  \n",
            " 9   Month                8760 non-null   int64  \n",
            " 10  Weekdays_or_weekend  8760 non-null   int64  \n",
            " 11  label_day_night      8760 non-null   object \n",
            " 12  Seasons_Spring       8760 non-null   uint8  \n",
            " 13  Seasons_Summer       8760 non-null   uint8  \n",
            " 14  Seasons_Winter       8760 non-null   uint8  \n",
            "dtypes: float64(5), int64(5), object(2), uint8(3)\n",
            "memory usage: 847.0+ KB\n"
          ]
        }
      ]
    },
    {
      "cell_type": "markdown",
      "source": [
        "# **Checking For Linearity**"
      ],
      "metadata": {
        "id": "WbAmtCQXGjXY"
      }
    },
    {
      "cell_type": "code",
      "source": [
        "plt.figure(figsize=(5,5))\n",
        "plt.title('Linear regression.')\n",
        "plt.xlabel('Functioning_Day')\n",
        "plt.ylabel('Rented_Bike_Count')\n",
        "sns.regplot(x=df['Functioning_Day'],y=df['Rented_Bike_Count'])"
      ],
      "metadata": {
        "id": "dLGP2JdbGpkk",
        "colab": {
          "base_uri": "https://localhost:8080/",
          "height": 368
        },
        "outputId": "0c320bab-a871-460a-da91-e69430accf2e"
      },
      "execution_count": 236,
      "outputs": [
        {
          "output_type": "execute_result",
          "data": {
            "text/plain": [
              "<matplotlib.axes._subplots.AxesSubplot at 0x7f72d6766ed0>"
            ]
          },
          "metadata": {},
          "execution_count": 236
        },
        {
          "output_type": "display_data",
          "data": {
            "text/plain": [
              "<Figure size 360x360 with 1 Axes>"
            ],
            "image/png": "[encoded data removed]"
          },
          "metadata": {
            "needs_background": "light"
          }
        }
      ]
    },
    {
      "cell_type": "code",
      "source": [
        "plt.figure(figsize=(5,5))\n",
        "plt.title('Linear regression.')\n",
        "plt.xlabel('Holiday')\n",
        "plt.ylabel('Rented_Bike_Count')\n",
        "sns.regplot(x=df['Holiday'],y=df['Rented_Bike_Count'])"
      ],
      "metadata": {
        "id": "ef2wESZRHF_8",
        "colab": {
          "base_uri": "https://localhost:8080/",
          "height": 367
        },
        "outputId": "7097ee5a-4a51-4262-ba54-06b95898af8f"
      },
      "execution_count": 237,
      "outputs": [
        {
          "output_type": "execute_result",
          "data": {
            "text/plain": [
              "<matplotlib.axes._subplots.AxesSubplot at 0x7f72d6885a10>"
            ]
          },
          "metadata": {},
          "execution_count": 237
        },
        {
          "output_type": "display_data",
          "data": {
            "text/plain": [
              "<Figure size 360x360 with 1 Axes>"
            ],
            "image/png": "[encoded data removed]"
          },
          "metadata": {
            "needs_background": "light"
          }
        }
      ]
    },
    {
      "cell_type": "code",
      "source": [
        "plt.figure(figsize=(5,5))\n",
        "plt.title('Linear regression.')\n",
        "plt.xlabel('Snowfall')\n",
        "plt.ylabel('Rented_Bike_Count')\n",
        "sns.regplot(x=df['Snowfall'],y=df['Rented_Bike_Count'])"
      ],
      "metadata": {
        "id": "hIYY9PySIRWB"
      },
      "execution_count": null,
      "outputs": []
    },
    {
      "cell_type": "code",
      "source": [
        "plt.figure(figsize=(5,5))\n",
        "plt.title('Linear regression.')\n",
        "plt.xlabel('Rainfall')\n",
        "plt.ylabel('Rented_Bike_Count')\n",
        "sns.regplot(x=df['Rainfall'],y=df['Rented_Bike_Count'])"
      ],
      "metadata": {
        "id": "0gnGpcUfIXiY"
      },
      "execution_count": null,
      "outputs": []
    },
    {
      "cell_type": "code",
      "source": [
        "plt.figure(figsize=(5,5))\n",
        "plt.title('Linear regression.')\n",
        "plt.xlabel('Temperature\t')\n",
        "plt.ylabel('Rented_Bike_Count')\n",
        "sns.regplot(x=df['Temperature'],y=df['Rented_Bike_Count'])"
      ],
      "metadata": {
        "id": "OYn9BlU9Ilcv"
      },
      "execution_count": null,
      "outputs": []
    },
    {
      "cell_type": "code",
      "source": [
        "plt.figure(figsize=(5,5))\n",
        "plt.title('Linear regression.')\n",
        "plt.xlabel('WindSpeed')\n",
        "plt.ylabel('Rented_Bike_Count')\n",
        "sns.regplot(x=df['WindSpeed'],y=df['Rented_Bike_Count'])"
      ],
      "metadata": {
        "id": "h9Z32m52KlRE"
      },
      "execution_count": null,
      "outputs": []
    },
    {
      "cell_type": "markdown",
      "source": [
        "From the above regression plot of all numerical features we see that the columns 'Temperature', 'Wind_speed','Visibility', 'Dew_point_temperature', 'Solar_Radiation' are positively relation to the target variable. Which means the rented bike count increases with increase of these features.\n",
        "\n",
        "'Rainfall', 'Snowfall', 'Holiday' these features are negatively related with the target variaable which means the rented bike count decreases when these features increase."
      ],
      "metadata": {
        "id": "vM5yd2m7hK8v"
      }
    },
    {
      "cell_type": "markdown",
      "source": [
        "**Normalized the data**"
      ],
      "metadata": {
        "id": "xYPKN5aAj3Zg"
      }
    },
    {
      "cell_type": "code",
      "source": [
        "# plotting subplots\n",
        "f, axes = plt.subplots(1, 2,figsize=(15,8))\n",
        "sns.distplot(x=df['Rented_Bike_Count'],color='red',ax=axes[0])\n",
        "# plt.figure(figsize=(15,8))\n",
        "sns.boxplot(x=df['Rented_Bike_Count'],color='red',ax=axes[1])"
      ],
      "metadata": {
        "id": "x83uZV7mj2TX"
      },
      "execution_count": null,
      "outputs": []
    },
    {
      "cell_type": "code",
      "source": [
        "###  Our target varibale's distribution is slightly right skewed."
      ],
      "metadata": {
        "id": "ax9K-MVMkK7h"
      },
      "execution_count": null,
      "outputs": []
    },
    {
      "cell_type": "code",
      "source": [
        "# Normalizing  our target variable by squre root method\n",
        "\n",
        "f, axes = plt.subplots(1, 2,figsize=(15,8))\n",
        "sns.distplot(x=np.sqrt(df['Rented_Bike_Count']),color='g',ax=axes[0])\n",
        "sns.boxplot(x=np.sqrt(df['Rented_Bike_Count']),color='g',ax=axes[1])"
      ],
      "metadata": {
        "id": "WucmeRIlkSG4"
      },
      "execution_count": null,
      "outputs": []
    },
    {
      "cell_type": "markdown",
      "source": [
        "Thus we normalized our dependent variable by square root method and also in boxplot we can see there are no outliers present."
      ],
      "metadata": {
        "id": "Wzw7yfbvkZNp"
      }
    },
    {
      "cell_type": "markdown",
      "source": [
        "# **Linear Regression**"
      ],
      "metadata": {
        "id": "HSS2eRfbZBZF"
      }
    },
    {
      "cell_type": "code",
      "source": [
        "# Define X-variable(Independent Variables) and Y-Variable(Dependent Variable)\n",
        "X = df[['Hour','Temperature','WindSpeed','Solar_Radiation','Rainfall','Snowfall','Seasons_Spring','Seasons_Summer','Seasons_Winter','Holiday','Functioning_Day','Month']]\n",
        "y = np.sqrt(df['Rented_Bike_Count'])"
      ],
      "metadata": {
        "id": "NLeZxYx3ZAml"
      },
      "execution_count": null,
      "outputs": []
    },
    {
      "cell_type": "code",
      "source": [
        "# Splitting the dataset into the Training set and Test set\n",
        "X_train, X_test, y_train, y_test = train_test_split(X, y, test_size = 0.2, random_state = 0)"
      ],
      "metadata": {
        "id": "49up6i-GJA3g"
      },
      "execution_count": null,
      "outputs": []
    },
    {
      "cell_type": "code",
      "source": [
        "# Checking shape\n",
        "print(X_train.shape)\n",
        "print(y_train.shape)\n",
        "print(X_test.shape)\n",
        "print(y_test.shape)"
      ],
      "metadata": {
        "id": "OPWdmC0tJb-F"
      },
      "execution_count": null,
      "outputs": []
    },
    {
      "cell_type": "code",
      "source": [
        " #Fitting Multiple Linear Regression to the Training set\n",
        "regressor = LinearRegression()\n",
        "regressor.fit(X_train, y_train)"
      ],
      "metadata": {
        "id": "_6GGXxdyKIse"
      },
      "execution_count": null,
      "outputs": []
    },
    {
      "cell_type": "code",
      "source": [
        "#Regression coefficient\n",
        "regressor.coef_"
      ],
      "metadata": {
        "id": "YajeJpWfgyce"
      },
      "execution_count": null,
      "outputs": []
    },
    {
      "cell_type": "code",
      "source": [
        "# Predicting the Test set results\n",
        "y_pred = regressor.predict(X_test)"
      ],
      "metadata": {
        "id": "0NUO2PKJg4k_"
      },
      "execution_count": null,
      "outputs": []
    },
    {
      "cell_type": "code",
      "source": [
        "r2_score(y_test, y_pred)"
      ],
      "metadata": {
        "id": "LoPRzm_VhuID"
      },
      "execution_count": null,
      "outputs": []
    },
    {
      "cell_type": "code",
      "source": [
        "# Validating Assumptions\n",
        "y_train_pred = regressor.predict(X_train)\n",
        "y_test_pred = regressor.predict(X_test)"
      ],
      "metadata": {
        "id": "RXBBrvEPhxlV"
      },
      "execution_count": null,
      "outputs": []
    },
    {
      "cell_type": "code",
      "source": [
        "# Test dataset metrics\n",
        "def print_metrics(actual, predicted):\n",
        "  print_metrics(y_test, y_test_pred)"
      ],
      "metadata": {
        "id": "JDOEmegJlGH2"
      },
      "execution_count": null,
      "outputs": []
    },
    {
      "cell_type": "markdown",
      "source": [
        "**Evaluation of train data set**"
      ],
      "metadata": {
        "id": "ftA-Fk3Zq3AN"
      }
    },
    {
      "cell_type": "code",
      "source": [
        "# Evaluation of training data set\n",
        "\n",
        "#Calculate Mean Absolute Error.\n",
        "MAE= mean_absolute_error(y_train,y_train_pred)\n",
        "print(f\"The Mean Absolute Error (MAE) is {MAE}.\")\n",
        "\n",
        "#Calculate  Mean Squared Error\n",
        "MSE=mean_squared_error(y_train,y_train_pred)\n",
        "print(f\"The Mean Squred Error(MSE) is {MSE}.\")\n",
        "\n",
        "#Calculate Root Mean Squared Error\n",
        "RMSE=np.sqrt(MSE)\n",
        "print(f\"The Root Mean Squared Error(RMSE) is {RMSE}.\")\n",
        "\n",
        "#Calculate R2 Score\n",
        "R2=r2_score(y_train,y_train_pred)\n",
        "print(f\"The R2 Score is {R2}.\")\n",
        "\n",
        "Adjusted_R2_lr = (1-(1-r2_score(y_train, y_train_pred))*((X_test.shape[0]-1)/(X_test.shape[0]-X_test.shape[1]-1)) )\n",
        "print(\"Adjusted R2 :\",1-(1-r2_score(y_train, y_train_pred))*((X_test.shape[0]-1)/(X_test.shape[0]-X_test.shape[1]-1)) )\n"
      ],
      "metadata": {
        "id": "iWG7G5ScorPs"
      },
      "execution_count": null,
      "outputs": []
    },
    {
      "cell_type": "code",
      "source": [
        "#Saving train data set results in dataframe.\n",
        "train_dict={'Model':\"Linear Regression\",\n",
        "             'MAE':round(MAE,4),\n",
        "             'MSE':round(MSE,4),\n",
        "             'RMSE':round(RMSE,4),\n",
        "             'R2_score':round(R2,4),\n",
        "             'Adjusted R2':round((Adjusted_R2_lr ),3)\n",
        "            }\n"
      ],
      "metadata": {
        "id": "YTG_UJUhngWR"
      },
      "execution_count": null,
      "outputs": []
    },
    {
      "cell_type": "code",
      "source": [
        "# create training_result dataframe\n",
        "traing_results_df=pd.DataFrame(train_dict,index=[1])\n",
        "traing_results_df"
      ],
      "metadata": {
        "id": "mo5KroWzpeZC"
      },
      "execution_count": null,
      "outputs": []
    },
    {
      "cell_type": "markdown",
      "source": [
        "**Evaluation of test data set**"
      ],
      "metadata": {
        "id": "bD3ZgoQEq9jk"
      }
    },
    {
      "cell_type": "code",
      "source": [
        "# Evaluation of Test data set\n",
        "\n",
        "#Calculate Mean Absolute Error.\n",
        "MAE= mean_absolute_error(y_test,y_pred)\n",
        "print(f\" The Mean Absolute Error (MAE) is {MAE}.\")\n",
        "\n",
        "#Calculate  Mean Squared Error\n",
        "MSE=mean_squared_error(y_test,y_pred)\n",
        "print(f\" The Mean Squred Error(MSE) is {MSE}.\")\n",
        "\n",
        "#Calculate Root Mean Squared Error\n",
        "RMSE=np.sqrt(MSE)\n",
        "print(f\"The Root Mean Squared Error(RMSE) is {RMSE}.\")\n",
        "\n",
        "#Calculate R2 Score\n",
        "R2=r2_score(y_test,y_pred)\n",
        "print(f\"The R2 Score is {R2}.\")\n",
        "\n",
        "Adjusted_R2_lr = (1-(1-r2_score((y_test), (y_test_pred)))*((X_test.shape[0]-1)/(X_test.shape[0]-X_test.shape[1]-1)))\n",
        "print(\"Adjusted R2 :\",Adjusted_R2_lr )\n"
      ],
      "metadata": {
        "id": "qa1Ppaw1pNRu"
      },
      "execution_count": null,
      "outputs": []
    },
    {
      "cell_type": "code",
      "source": [
        "# saving test result in dictionary.\n",
        "test_dict={'Model':\"Linear Regression\",\n",
        "             'MAE':round(MAE,4),\n",
        "             'MSE':round(MSE,4),\n",
        "             'RMSE':round(RMSE,4),\n",
        "             'R2_score':round(R2,4),\n",
        "           'Adjusted R2':round((Adjusted_R2_lr ),3)}"
      ],
      "metadata": {
        "id": "bbZxClH2rKYZ"
      },
      "execution_count": null,
      "outputs": []
    },
    {
      "cell_type": "code",
      "source": [
        "# create test_result dataframe\n",
        "test_results_df=pd.DataFrame(test_dict,index=[1])\n",
        "test_results_df"
      ],
      "metadata": {
        "id": "eMpKkSQPrO1l"
      },
      "execution_count": null,
      "outputs": []
    },
    {
      "cell_type": "markdown",
      "source": [
        "We have observed that on testing data R2 score is 0.6184 which is almost close to training data R2 score.Hence we can say that our model performance is good and overfitting is not observed."
      ],
      "metadata": {
        "id": "vDvwdR3hrZBz"
      }
    },
    {
      "cell_type": "markdown",
      "source": [
        "The r2_score for the test set is 0.6184. This means our linear model is performing well on the data. Let us try to visualize our residuals and see if there is heteroscedasticity(unequal variance or scatter)."
      ],
      "metadata": {
        "id": "KiB5x9p3XeI4"
      }
    },
    {
      "cell_type": "code",
      "source": [
        "#Residual = Actual value - Predicted value\n",
        "\n",
        "residuals_train = y_train - y_train_pred\n",
        "residuals_test = y_test - y_test_pred"
      ],
      "metadata": {
        "id": "GK0j7_qCXn4U"
      },
      "execution_count": null,
      "outputs": []
    },
    {
      "cell_type": "code",
      "source": [
        "# Check Homoscedasticity by plotting y_predicted values and the residuals\n",
        "plt.figure(figsize=(8,5))\n",
        "sns.regplot(x=y_pred,y=y_test-y_pred,line_kws={'color':'black'})\n",
        "plt.ylabel('Residuals')\n",
        "plt.xlabel('y_predicted')"
      ],
      "metadata": {
        "id": "Ptp6mKsEJo50"
      },
      "execution_count": null,
      "outputs": []
    },
    {
      "cell_type": "code",
      "source": [
        "#Plot the figure\n",
        "plt.figure(figsize=(15,10))\n",
        "plt.plot(y_test_pred)\n",
        "plt.plot(np.array(y_test))\n",
        "plt.legend([\"Predicted\",\"Actual\"])\n",
        "plt.xlabel('No of Test Data')\n",
        "plt.show()"
      ],
      "metadata": {
        "id": "vTIHgLmZYtHk"
      },
      "execution_count": null,
      "outputs": []
    },
    {
      "cell_type": "markdown",
      "source": [
        "# **Lasso Regression**"
      ],
      "metadata": {
        "id": "0_uXZD6u2IyW"
      }
    },
    {
      "cell_type": "code",
      "source": [
        "# instantiating\n",
        "lasso_reg=Lasso(alpha=0.01)"
      ],
      "metadata": {
        "id": "zZWCeXDbBh3I"
      },
      "execution_count": null,
      "outputs": []
    },
    {
      "cell_type": "code",
      "source": [
        "# Fitting and training the model\n",
        "lasso_reg.fit(X_train,y_train)"
      ],
      "metadata": {
        "id": "Z1kLOKgeBnVK"
      },
      "execution_count": null,
      "outputs": []
    },
    {
      "cell_type": "code",
      "source": [
        "# Check coefficient\n",
        "lasso_reg.coef_"
      ],
      "metadata": {
        "id": "YI_JxpwhBtfh"
      },
      "execution_count": null,
      "outputs": []
    },
    {
      "cell_type": "code",
      "source": [
        "# get dataframe of x columns and Coeficients\n",
        "pd.DataFrame(lasso_reg.coef_,X.columns,columns=['Coeficients']).reset_index().rename(columns={'index':'X'})"
      ],
      "metadata": {
        "id": "3rAeb8TeB1Mz"
      },
      "execution_count": null,
      "outputs": []
    },
    {
      "cell_type": "code",
      "source": [
        "# Check score on train dataset\n",
        "lasso_reg.score(X_train,y_train)"
      ],
      "metadata": {
        "id": "7_aokH71B5h6"
      },
      "execution_count": null,
      "outputs": []
    },
    {
      "cell_type": "code",
      "source": [
        "# Check score on test dataset\n",
        "lasso_reg.score(X_test,y_test)"
      ],
      "metadata": {
        "id": "PGKdHkqnB_dD"
      },
      "execution_count": null,
      "outputs": []
    },
    {
      "cell_type": "code",
      "source": [
        "# Check intercept\n",
        "lasso_reg.intercept_"
      ],
      "metadata": {
        "id": "LLRqYFKJCDUy"
      },
      "execution_count": null,
      "outputs": []
    },
    {
      "cell_type": "code",
      "source": [
        "# y prdiction on train data\n",
        "y_pred_train=lasso_reg.predict(X_train)\n",
        "# y prdiction on test data\n",
        "y_pred=lasso_reg.predict(X_test)"
      ],
      "metadata": {
        "id": "1BPO1E3ACG38"
      },
      "execution_count": null,
      "outputs": []
    },
    {
      "cell_type": "markdown",
      "source": [
        "**Evaluation On Train Data.**"
      ],
      "metadata": {
        "id": "eRxrvDZACrsc"
      }
    },
    {
      "cell_type": "code",
      "source": [
        "# Evaluation of training data set\n",
        "\n",
        "#Calculate Mean Absolute Error.\n",
        "MAE= mean_absolute_error(y_train,y_pred_train)\n",
        "print(f\"The Mean Absolute Error (MAE) is {MAE}.\")\n",
        "\n",
        "#Calculate  Mean Squared Error\n",
        "MSE=mean_squared_error(y_train,y_pred_train)\n",
        "print(f\"The Mean Squred Error(MSE) is {MSE}.\")\n",
        "\n",
        "#Calculate Root Mean Squared Error\n",
        "RMSE=np.sqrt(MSE)\n",
        "print(f\"The Root Mean Squared Error(RMSE) is {RMSE}.\")\n",
        "\n",
        "#Calculate R2 Score\n",
        "R2=r2_score(y_train,y_pred_train)\n",
        "print(f\"The R2 Score is {R2}.\")\n",
        "\n",
        "#Calculate Adjusted R2\n",
        "Adjusted_R2_lr = (1-(1-r2_score((y_train), (y_pred_train)))*((X_train.shape[0]-1)/(X_train.shape[0]-X_train.shape[1]-1)))\n",
        "print(\"Adjusted R2 :\",Adjusted_R2_lr )\n"
      ],
      "metadata": {
        "id": "w8YWg9UkCukj"
      },
      "execution_count": null,
      "outputs": []
    },
    {
      "cell_type": "code",
      "source": [
        "# Create train results dictionary\n",
        "train_dict={'Model':\"Lasoo\",\n",
        "             'MAE':round(MAE,4),\n",
        "             'MSE':round(MSE,4),\n",
        "             'RMSE':round(RMSE,4),\n",
        "             'R2_score':round(R2,4),\n",
        "             'Adjusted R2':round((Adjusted_R2_lr ),3)}"
      ],
      "metadata": {
        "id": "iV49MLLFC1p-"
      },
      "execution_count": null,
      "outputs": []
    },
    {
      "cell_type": "code",
      "source": [
        "# appending train result to training result dataframe\n",
        "traing_results_df=traing_results_df.append(train_dict,ignore_index=True)\n",
        "traing_results_df\n"
      ],
      "metadata": {
        "id": "agYayrQsC3S4"
      },
      "execution_count": null,
      "outputs": []
    },
    {
      "cell_type": "markdown",
      "source": [
        "**Evaluation On Test Data.**"
      ],
      "metadata": {
        "id": "xF7kpiQJDK0n"
      }
    },
    {
      "cell_type": "code",
      "source": [
        "# Evaluation of Test data set\n",
        "\n",
        "#Calculate Mean Absolute Error.\n",
        "MAE= mean_absolute_error(y_test,y_pred)\n",
        "print(f\" The Mean Absolute Error (MAE) is {MAE}.\")\n",
        "\n",
        "#Calculate  Mean Squared Error\n",
        "MSE=mean_squared_error(y_test,y_pred)\n",
        "print(f\" The Mean Squred Error(MSE) is {MSE}.\")\n",
        "\n",
        "#Calculate Root Mean Squared Error\n",
        "RMSE=np.sqrt(MSE)\n",
        "print(f\"The Root Mean Squared Error(RMSE) is {RMSE}.\")\n",
        "\n",
        "#Calculate R2 Score\n",
        "R2=r2_score(y_test,y_pred)\n",
        "print(f\"The R2 Score is {R2}.\")\n",
        "\n",
        "#Calculate Adjusted R2\n",
        "Adjusted_R2_lr = (1-(1-r2_score((y_test), (y_test_pred)))*((X_test.shape[0]-1)/(X_test.shape[0]-X_test.shape[1]-1)))\n",
        "print(\"Adjusted R2 :\",Adjusted_R2_lr )\n"
      ],
      "metadata": {
        "id": "kned51rqDGeX"
      },
      "execution_count": null,
      "outputs": []
    },
    {
      "cell_type": "code",
      "source": [
        "# Create test results dictionary\n",
        "test_dict={'Model':\"Lasso\",\n",
        "             'MAE':round(MAE,4),\n",
        "             'MSE':round(MSE,4),\n",
        "             'RMSE':round(RMSE,4),\n",
        "             'R2_score':round(R2,4),\n",
        "           'Adjusted R2':round((Adjusted_R2_lr ),3)}"
      ],
      "metadata": {
        "id": "lVmMaRkWDS-w"
      },
      "execution_count": null,
      "outputs": []
    },
    {
      "cell_type": "code",
      "source": [
        "# appending test result to test result dataframe\n",
        "test_results_df=test_results_df.append(test_dict,ignore_index=True)\n",
        "test_results_df"
      ],
      "metadata": {
        "id": "jmK3YlA2DcP0"
      },
      "execution_count": null,
      "outputs": []
    },
    {
      "cell_type": "markdown",
      "source": [
        "On testing data R2 score is 0.5893 which is almost close to training data R2 score.Hence we can say that our model performance is good and overfitting is not observed. We need to improve our model performance."
      ],
      "metadata": {
        "id": "unfi42-qGbfO"
      }
    },
    {
      "cell_type": "code",
      "source": [
        "# define a fucntion to plot predicted y values and actual y values\n",
        "def plot_Pred_vs_actual(y_pred,y_test):\n",
        "  ''' Visualize predicted values with actaul values'''\n",
        "  plt.figure(figsize=(15,5))\n",
        "  plt.plot(y_pred)\n",
        "  plt.plot(np.array(y_test))\n",
        "  plt.legend([\"Predicted\",\"Actual\"],)\n",
        "  plt.title(\"Predicted V/S Actual\")\n",
        "  plt.show()"
      ],
      "metadata": {
        "id": "uF2ENYgfGdHb"
      },
      "execution_count": null,
      "outputs": []
    },
    {
      "cell_type": "code",
      "source": [
        "# define a function to plot scatter plot for y_test and y_actual.\n",
        "def plot_scatter(y_pred,y_test):\n",
        "  '''Plot scatter plot for y_test values and \n",
        "  y_test values. To check how close we are to regresson line'''\n",
        "  plt.figure(figsize=(15,5))\n",
        "  sns.regplot(x=y_test,y=y_pred,scatter_kws={'color':'magenta'},line_kws={'color':'black'})\n",
        "  plt.xlabel('Actual')\n",
        "  plt.ylabel(\"Predicted\")\n",
        "  plt.title(\"Actual v/s Predicted\")"
      ],
      "metadata": {
        "id": "6YgFZcbyGjgO"
      },
      "execution_count": null,
      "outputs": []
    },
    {
      "cell_type": "code",
      "source": [
        "# Residuals of the regression are normally distributed.(Homoscedasticity refers to whether these residuals are equally distributed).\n",
        " #Mean of residuals should be zero or close to 0 as much as possible. It is done to check whether our line is actually the line of “best fit” \n",
        "def Residual_distPlot(y_pred,y_test):  \n",
        "  '''Checks the distribution of residals)'''        \n",
        "                                                    \n",
        "  plt.figure(figsize=(15,5))\n",
        "  sns.distplot(x=y_test-y_pred)\n",
        "\n",
        "  plt.title(\"Residual Distribution\")\n",
        "plot_Pred_vs_actual(y_pred,y_test)"
      ],
      "metadata": {
        "id": "pilkKRTJGnfJ"
      },
      "execution_count": null,
      "outputs": []
    },
    {
      "cell_type": "code",
      "source": [
        "# Check Homoscedasticity by plotting y_predicted values and the residuals\n",
        "plt.figure(figsize=(10,5))\n",
        "sns.regplot(x=y_pred,y=y_test-y_pred,line_kws={'color':'black'})\n",
        "plt.ylabel('Residuals')\n",
        "plt.xlabel('y_predicted')"
      ],
      "metadata": {
        "id": "mSqeA6RWGxYS"
      },
      "execution_count": null,
      "outputs": []
    },
    {
      "cell_type": "markdown",
      "source": [
        "# **Ridge Regression**"
      ],
      "metadata": {
        "id": "Xw_OuMhQHXjH"
      }
    },
    {
      "cell_type": "code",
      "source": [
        "#import the packages\n",
        "from sklearn.linear_model import Ridge\n",
        "\n",
        "ridge= Ridge(alpha=0.1)"
      ],
      "metadata": {
        "id": "4Y1KHEoUHbZp"
      },
      "execution_count": null,
      "outputs": []
    },
    {
      "cell_type": "code",
      "source": [
        "# fitting and training\n",
        "ridge.fit(X_train,y_train)"
      ],
      "metadata": {
        "id": "KAuV7UwPVt1u"
      },
      "execution_count": null,
      "outputs": []
    },
    {
      "cell_type": "code",
      "source": [
        "#check the score\n",
        "ridge.score(X_train, y_train)"
      ],
      "metadata": {
        "id": "1JUnGl2AWO7n"
      },
      "execution_count": null,
      "outputs": []
    },
    {
      "cell_type": "code",
      "source": [
        "# check coefficient\n",
        "ridge.coef_"
      ],
      "metadata": {
        "id": "8655KbwBV84X"
      },
      "execution_count": null,
      "outputs": []
    },
    {
      "cell_type": "code",
      "source": [
        "# get dataframe for x columns and coeff\n",
        "pd.DataFrame(ridge.coef_,X.columns,columns=['Coefficients'])"
      ],
      "metadata": {
        "id": "d2c01BM-V_H7"
      },
      "execution_count": null,
      "outputs": []
    },
    {
      "cell_type": "code",
      "source": [
        "# Check intercept\n",
        "ridge.intercept_"
      ],
      "metadata": {
        "id": "Q9Rxf9D7WEju"
      },
      "execution_count": null,
      "outputs": []
    },
    {
      "cell_type": "code",
      "source": [
        "# y predictions on training dataset\n",
        "y_pred_train_ridge=ridge.predict(X_train)\n",
        "# y predictions on test dataset\n",
        "y_pred_ridge=ridge.predict(X_test)"
      ],
      "metadata": {
        "id": "tz2IjoXUo3Gu"
      },
      "execution_count": null,
      "outputs": []
    },
    {
      "cell_type": "markdown",
      "source": [
        "**Evaluation On Train Data.**"
      ],
      "metadata": {
        "id": "3vvFca7ApASo"
      }
    },
    {
      "cell_type": "code",
      "source": [
        "# Evaluation of training data set\n",
        "\n",
        "#Calculate Mean Absolute Error.\n",
        "MAE= mean_absolute_error(y_train,y_pred_train)\n",
        "print(f\"The Mean Absolute Error (MAE) is {MAE}.\")\n",
        "\n",
        "#Calculate  Mean Squared Error\n",
        "MSE=mean_squared_error(y_train,y_pred_train)\n",
        "print(f\"The Mean Squred Error(MSE) is {MSE}.\")\n",
        "\n",
        "#Calculate Root Mean Squared Error\n",
        "RMSE=np.sqrt(MSE)\n",
        "print(f\"The Root Mean Squared Error(RMSE) is {RMSE}.\")\n",
        "\n",
        "#Calculate R2 Score\n",
        "R2=r2_score(y_train,y_pred_train)\n",
        "print(f\"The R2 Score is {R2}.\")\n",
        "\n",
        "#Calculate Adjusted R2\n",
        "Adjusted_R2_lr = (1-(1-r2_score((y_train), (y_pred_train)))*((X_train.shape[0]-1)/(X_train.shape[0]-X_train.shape[1]-1)))\n",
        "print(\"Adjusted R2 :\",Adjusted_R2_lr )\n"
      ],
      "metadata": {
        "id": "P6JBUYbRo6j2"
      },
      "execution_count": null,
      "outputs": []
    },
    {
      "cell_type": "code",
      "source": [
        "train_dict={'Model':\"Ridge GridSearchCV\",\n",
        "             'MAE':round(MAE,4),\n",
        "             'MSE':round(MSE,4),\n",
        "             'RMSE':round(RMSE,4),\n",
        "             'R2_score':round(R2,4),\n",
        "            'Adjusted R2':round((Adjusted_R2_lr ),3)}"
      ],
      "metadata": {
        "id": "Np94v42DpOyU"
      },
      "execution_count": null,
      "outputs": []
    },
    {
      "cell_type": "code",
      "source": [
        "traing_results_df=traing_results_df.append(train_dict,ignore_index=True)\n",
        "traing_results_df"
      ],
      "metadata": {
        "id": "8Fjo-r1CpQcO"
      },
      "execution_count": null,
      "outputs": []
    },
    {
      "cell_type": "markdown",
      "source": [
        "**Evaluation On Test Data.**"
      ],
      "metadata": {
        "id": "9FE8tyjfpWaH"
      }
    },
    {
      "cell_type": "code",
      "source": [
        "# Evaluation of Test data set\n",
        "\n",
        "#Calculate Mean Absolute Error.\n",
        "MAE= mean_absolute_error(y_test,y_pred)\n",
        "print(f\" The Mean Absolute Error (MAE) is {MAE}.\")\n",
        "\n",
        "#Calculate  Mean Squared Error\n",
        "MSE=mean_squared_error(y_test,y_pred)\n",
        "print(f\" The Mean Squred Error(MSE) is {MSE}.\")\n",
        "\n",
        "#Calculate Root Mean Squared Error\n",
        "RMSE=np.sqrt(MSE)\n",
        "print(f\"The Root Mean Squared Error(RMSE) is {RMSE}.\")\n",
        "\n",
        "#Calculate R2 Score\n",
        "R2=r2_score(y_test,y_pred)\n",
        "print(f\"The R2 Score is {R2}.\")\n",
        "\n",
        "#Calculate Adjusted R2\n",
        "Adjusted_R2_lr = (1-(1-r2_score((y_test), (y_test_pred)))*((X_test.shape[0]-1)/(X_test.shape[0]-X_test.shape[1]-1)))\n",
        "print(\"Adjusted R2 :\",Adjusted_R2_lr )\n"
      ],
      "metadata": {
        "id": "WOmW56cApYq5"
      },
      "execution_count": null,
      "outputs": []
    },
    {
      "cell_type": "code",
      "source": [
        "test_dict={'Model':\"Ridge(GridsearchCv Tunned)\",\n",
        "             'MAE':round(MAE,4),\n",
        "             'MSE':round(MSE,4),\n",
        "             'RMSE':round(RMSE,4),\n",
        "             'R2_score':round(R2,4),\n",
        "           'Adjusted R2':round((Adjusted_R2_lr ),3)}"
      ],
      "metadata": {
        "id": "dX3XiYuwp7vJ"
      },
      "execution_count": null,
      "outputs": []
    },
    {
      "cell_type": "code",
      "source": [
        "test_results_df=test_results_df.append(test_dict,ignore_index=True)\n",
        "test_results_df"
      ],
      "metadata": {
        "id": "-KZMvafLp_26"
      },
      "execution_count": null,
      "outputs": []
    },
    {
      "cell_type": "code",
      "source": [
        "plot_Pred_vs_actual(y_pred,y_test)"
      ],
      "metadata": {
        "id": "XxGppFpxqGIO"
      },
      "execution_count": null,
      "outputs": []
    },
    {
      "cell_type": "code",
      "source": [
        "# Check Homoscedasticity by plotting y_predicted values and the residuals\n",
        "plt.figure(figsize=(10,5))\n",
        "sns.regplot(x=y_pred,y=y_test-y_pred,line_kws={'color':'black'})\n",
        "plt.ylabel('Residuals')\n",
        "plt.xlabel('y_predicted')"
      ],
      "metadata": {
        "id": "XDi6j4mUqJNh"
      },
      "execution_count": null,
      "outputs": []
    },
    {
      "cell_type": "code",
      "source": [
        "# Residuals of the regression are normally distributed.(Homoscedasticity refers to whether these residuals are equally distributed)\n",
        "Residual_distPlot(y_pred,y_test)"
      ],
      "metadata": {
        "id": "kVRL0_DeqU02"
      },
      "execution_count": null,
      "outputs": []
    },
    {
      "cell_type": "markdown",
      "source": [
        "# **Decision Tree Regression**"
      ],
      "metadata": {
        "id": "QTbW3rSUt98f"
      }
    },
    {
      "cell_type": "code",
      "source": [
        "#import decsion tree packages\n",
        "from sklearn.tree import DecisionTreeRegressor\n",
        "\n",
        "# create an object\n",
        "D_tree=DecisionTreeRegressor(max_depth=9,criterion='mse',\n",
        "                      max_features=9, max_leaf_nodes=100)\n",
        "\n",
        "# fitting Xtrain yTrain\n",
        "D_tree.fit(X_train,y_train)"
      ],
      "metadata": {
        "id": "jRl4riz8AT_c"
      },
      "execution_count": null,
      "outputs": []
    },
    {
      "cell_type": "code",
      "source": [
        "# Check score on Train dataset\n",
        "D_tree.score(X_train,y_train)"
      ],
      "metadata": {
        "id": "ssVHCWPzAmrx"
      },
      "execution_count": null,
      "outputs": []
    },
    {
      "cell_type": "code",
      "source": [
        "# check score on Test dataset.\n",
        "D_tree.score(X_test,y_test)"
      ],
      "metadata": {
        "id": "_qrwqZIIAqMg"
      },
      "execution_count": null,
      "outputs": []
    },
    {
      "cell_type": "code",
      "source": [
        "#  predicting y_train_predictions from  X train values\n",
        "y_pred_train=D_tree.predict(X_train)\n",
        "#  predicting y_predictions from  X test values\n",
        "y_pred=D_tree.predict(X_test)"
      ],
      "metadata": {
        "id": "14YvrkQOAuDB"
      },
      "execution_count": null,
      "outputs": []
    },
    {
      "cell_type": "markdown",
      "source": [
        "**Evaluation of train data set**"
      ],
      "metadata": {
        "id": "wFpiY1LNB4kT"
      }
    },
    {
      "cell_type": "code",
      "source": [
        "# Evaluation of training data set\n",
        "\n",
        "#Calculate Mean Absolute Error.\n",
        "MAE= mean_absolute_error(y_train,y_pred_train)\n",
        "print(f\"The Mean Absolute Error (MAE) is {MAE}.\")\n",
        "\n",
        "#Calculate  Mean Squared Error\n",
        "MSE=mean_squared_error(y_train,y_pred_train)\n",
        "print(f\"The Mean Squred Error(MSE) is {MSE}.\")\n",
        "\n",
        "#Calculate Root Mean Squared Error\n",
        "RMSE=np.sqrt(MSE)\n",
        "print(f\"The Root Mean Squared Error(RMSE) is {RMSE}.\")\n",
        "\n",
        "#Calculate R2 Score\n",
        "R2=r2_score(y_train,y_pred_train)\n",
        "print(f\"The R2 Score is {R2}.\")\n",
        "\n",
        "#Calculate Adjusted R2\n",
        "adj_r2=1-(1-R2)*((X_test.shape[0]-1)/(X_test.shape[0]-X_test.shape[1]-1))\n",
        "print(f\"The Adjusted R2 is {adj_r2}.\")\n"
      ],
      "metadata": {
        "id": "i9Y7PTOhBftR"
      },
      "execution_count": null,
      "outputs": []
    },
    {
      "cell_type": "code",
      "source": [
        "# Let's create dictionery of Decison tree results( Train dataset)\n",
        "train_dict={'Model':\"Decision Tree Regressor-GridSearchCV\",\n",
        "             'MAE':round(MAE,4),\n",
        "             'MSE':round(MSE,4),\n",
        "             'RMSE':round(RMSE,4),\n",
        "             'R2_score':round(R2,4),\n",
        "            'Adjusted R2':round((adj_r2),3)}"
      ],
      "metadata": {
        "id": "LKY-bcFzBlRR"
      },
      "execution_count": null,
      "outputs": []
    },
    {
      "cell_type": "code",
      "source": [
        "traing_results_df=traing_results_df.append(train_dict,ignore_index=True)\n",
        "traing_results_df"
      ],
      "metadata": {
        "id": "tgwW7V08BvZj"
      },
      "execution_count": null,
      "outputs": []
    },
    {
      "cell_type": "markdown",
      "source": [
        "**Evaluation of test data set**"
      ],
      "metadata": {
        "id": "b9T9QKbmCr4K"
      }
    },
    {
      "cell_type": "code",
      "source": [
        "# Evaluation of Test data set\n",
        "\n",
        "#Calculate Mean Absolute Error.\n",
        "MAE= mean_absolute_error(y_test,y_test_pred)\n",
        "print(f\" The Mean Absolute Error (MAE) is {MAE}.\")\n",
        "\n",
        "#Calculate  Mean Squared Error\n",
        "MSE=mean_squared_error(y_test,y_test_pred)\n",
        "print(f\" The Mean Squred Error(MSE) is {MSE}.\")\n",
        "\n",
        "#Calculate Root Mean Squared Error\n",
        "RMSE=np.sqrt(MSE)\n",
        "print(f\"The Root Mean Squared Error(RMSE) is {RMSE}.\")\n",
        "\n",
        "#Calculate R2 Score\n",
        "R2=r2_score(y_test,y_test_pred)\n",
        "print(f\"The R2 Score is {R2}.\")\n",
        "\n",
        "#Calculate Adjusted R2\n",
        "adj_r2=1-(1-R2)*((X_test.shape[0]-1)/(X_test.shape[0]-X_test.shape[1]-1))\n",
        "print(f\"The Adjusted R2 is {adj_r2}.\")\n",
        "  \n"
      ],
      "metadata": {
        "id": "x5u_X6F1Bzti"
      },
      "execution_count": null,
      "outputs": []
    },
    {
      "cell_type": "code",
      "source": [
        "test_dict={'Model':\"Decision Tree Regressor(GridsearchCV)\",\n",
        "             'MAE':round(MAE,4),\n",
        "             'MSE':round(MSE,4),\n",
        "             'RMSE':round(RMSE,4),\n",
        "             'R2_score':round(R2,4),\n",
        "              'Adjusted R2':round((adj_r2),3)}"
      ],
      "metadata": {
        "id": "9sKOm9X6EABz"
      },
      "execution_count": null,
      "outputs": []
    },
    {
      "cell_type": "code",
      "source": [
        "test_results_df=test_results_df.append(test_dict,ignore_index=True)\n",
        "test_results_df"
      ],
      "metadata": {
        "id": "77aZ2YX9Ekft"
      },
      "execution_count": null,
      "outputs": []
    },
    {
      "cell_type": "code",
      "source": [
        "plot_Pred_vs_actual(y_pred,y_test)"
      ],
      "metadata": {
        "id": "asRaiqdrEqfM"
      },
      "execution_count": null,
      "outputs": []
    },
    {
      "cell_type": "code",
      "source": [
        "# Check Homoscedasticity by plotting y_predicted values and the residuals\n",
        "plt.figure(figsize=(10,5))\n",
        "sns.regplot(x=y_pred,y=y_test-y_pred,line_kws={'color':'black'})\n",
        "plt.ylabel('Residuals')\n",
        "plt.xlabel('y_predicted')"
      ],
      "metadata": {
        "id": "maW27spJExiS"
      },
      "execution_count": null,
      "outputs": []
    },
    {
      "cell_type": "code",
      "source": [
        "imp_variables=X.columns\n",
        "importances = D_tree.feature_importances_\n",
        "indices = np.argsort(importances)\n",
        "plt.figure(figsize=(12,6))\n",
        "plt.title('Feature Importances(Decision Tree-GridSearchCV')\n",
        "plt.barh(range(len(indices)), importances[indices], color='y', align='center')\n",
        "plt.yticks(range(len(indices)), imp_variables[indices])\n",
        "plt.xlabel('Relative Importance')"
      ],
      "metadata": {
        "id": "C5Mlsay_NM2E"
      },
      "execution_count": null,
      "outputs": []
    },
    {
      "cell_type": "markdown",
      "source": [
        "# **Hyperparameter Tuning**"
      ],
      "metadata": {
        "id": "KBzDe1mvj6R5"
      }
    },
    {
      "cell_type": "code",
      "source": [
        "# Hyper parameters range intialization for tuning \n",
        "tree=DecisionTreeRegressor()\n",
        "parameters={'criterion': [\"mae\"],\n",
        "            \"splitter\":[\"best\",\"random\"],\n",
        "            \"max_depth\" : [3,5,7,9,None],\n",
        "           \"max_features\":[\"auto\",\"log2\"] }"
      ],
      "metadata": {
        "id": "ysGQTzJjkD7h"
      },
      "execution_count": null,
      "outputs": []
    },
    {
      "cell_type": "code",
      "source": [
        "tuning_model=GridSearchCV(tree,param_grid=parameters,scoring='neg_mean_squared_error',cv=3,verbose=0)\n",
        "tuning_model.fit(X_train,y_train)"
      ],
      "metadata": {
        "id": "jMX-qLHyn4R2"
      },
      "execution_count": null,
      "outputs": []
    },
    {
      "cell_type": "code",
      "source": [
        "tuning_model.best_params_"
      ],
      "metadata": {
        "id": "FYrAEgXnoF-a"
      },
      "execution_count": null,
      "outputs": []
    },
    {
      "cell_type": "code",
      "source": [
        "D_tree=DecisionTreeRegressor(max_depth=9,max_features='auto',splitter='best')\n",
        "D_tree.fit(X_train,y_train)"
      ],
      "metadata": {
        "id": "z6zKcq5HoIlI"
      },
      "execution_count": null,
      "outputs": []
    },
    {
      "cell_type": "code",
      "source": [
        "imp_variables=X.columns\n",
        "importances = D_tree.feature_importances_\n",
        "indices = np.argsort(importances)\n",
        "plt.figure(figsize=(9,5))\n",
        "plt.title('Feature Importances(Decision Tree-GridSearchCV')\n",
        "plt.barh(range(len(indices)), importances[indices], color='y', align='center')\n",
        "plt.yticks(range(len(indices)), imp_variables[indices])\n",
        "plt.xlabel('Relative Importance')"
      ],
      "metadata": {
        "id": "c8Xiv3aJoLfo"
      },
      "execution_count": null,
      "outputs": []
    },
    {
      "cell_type": "markdown",
      "source": [
        "We have applied this best parametrs to above Decsion tree regressor model."
      ],
      "metadata": {
        "id": "QRZWaCqkoUQv"
      }
    },
    {
      "cell_type": "markdown",
      "source": [
        "# **ElasticNet**"
      ],
      "metadata": {
        "id": "Ujw09L_vFJ7j"
      }
    },
    {
      "cell_type": "code",
      "source": [
        "# creating object of elastic net\n",
        "elastic_net_reg=ElasticNet(alpha=0.001,l1_ratio=0.5)\n",
        "elastic_net_reg.fit(X_train,y_train)"
      ],
      "metadata": {
        "id": "RoSNWKnz07q0"
      },
      "execution_count": null,
      "outputs": []
    },
    {
      "cell_type": "code",
      "source": [
        "# Check score on train data\n",
        "elastic_net_reg.score(X_train,y_train)"
      ],
      "metadata": {
        "id": "ujVIIHGH1AlK"
      },
      "execution_count": null,
      "outputs": []
    },
    {
      "cell_type": "code",
      "source": [
        "# check score on test data\n",
        "elastic_net_reg.score(X_test,y_test)"
      ],
      "metadata": {
        "id": "FQSb0VkN1Dpi"
      },
      "execution_count": null,
      "outputs": []
    },
    {
      "cell_type": "code",
      "source": [
        "# predicting Y train values from train data set\n",
        "y_pred_train=elastic_net_reg.predict(X_train)\n",
        "# predicting y values from test data\n",
        "y_pred=elastic_net_reg.predict(X_test)"
      ],
      "metadata": {
        "id": "RaEmx0hA1HXS"
      },
      "execution_count": null,
      "outputs": []
    },
    {
      "cell_type": "markdown",
      "source": [
        "**Evaluation of train data set**"
      ],
      "metadata": {
        "id": "Z2ITFypl2KOT"
      }
    },
    {
      "cell_type": "code",
      "source": [
        "# Evaluation of training data set\n",
        "\n",
        "#Calculate Mean Absolute Error.\n",
        "MAE= mean_absolute_error(y_train,y_pred_train)\n",
        "print(f\"The Mean Absolute Error (MAE) is {MAE}.\")\n",
        "\n",
        "#Calculate  Mean Squared Error\n",
        "MSE=mean_squared_error(y_train,y_pred_train)\n",
        "print(f\"The Mean Squred Error(MSE) is {MSE}.\")\n",
        "\n",
        "#Calculate Root Mean Squared Error\n",
        "RMSE=np.sqrt(MSE)\n",
        "print(f\"The Root Mean Squared Error(RMSE) is {RMSE}.\")\n",
        "\n",
        "#Calculate R2 Score\n",
        "R2=r2_score(y_train,y_pred_train)\n",
        "print(f\"The R2 Score is {R2}.\")\n",
        "\n",
        "#Calculate adjusted R2\n",
        "adj_r2=1-(1-R2)*((X_test.shape[0]-1)/(X_test.shape[0]-X_test.shape[1]-1))\n",
        "print(f\"The Adjusted R2 is {adj_r2}.\")\n",
        "  \n"
      ],
      "metadata": {
        "id": "Dgb-tMCU1KM5"
      },
      "execution_count": null,
      "outputs": []
    },
    {
      "cell_type": "code",
      "source": [
        "train_dict={'Model':\"ElasticNet(GridSearchCV-Tunned)\",\n",
        "             'MAE':round(MAE,4),\n",
        "             'MSE':round(MSE,4),\n",
        "             'RMSE':round(RMSE,4),\n",
        "             'R2_score':round(R2,4),\n",
        "            'Adjusted R2':round((adj_r2),3)}\n"
      ],
      "metadata": {
        "id": "pd2PqZQf1OGn"
      },
      "execution_count": null,
      "outputs": []
    },
    {
      "cell_type": "code",
      "source": [
        "traing_results_df=traing_results_df.append(train_dict,ignore_index=True)\n",
        "traing_results_df"
      ],
      "metadata": {
        "id": "mdZ4Z-kl1TGA"
      },
      "execution_count": null,
      "outputs": []
    },
    {
      "cell_type": "markdown",
      "source": [
        "**Evaluation of test data set**"
      ],
      "metadata": {
        "id": "lJJv9qgt2PZO"
      }
    },
    {
      "cell_type": "code",
      "source": [
        "# Evaluation of Test data set\n",
        "\n",
        "#Calculate Mean Absolute Error.\n",
        "MAE= mean_absolute_error(y_test,y_pred)\n",
        "print(f\" The Mean Absolute Error (MAE) is {MAE}.\")\n",
        "\n",
        "#Calculate  Mean Squared Error\n",
        "MSE=mean_squared_error(y_test,y_pred)\n",
        "print(f\" The Mean Squred Error(MSE) is {MSE}.\")\n",
        "\n",
        "#Calculate Root Mean Squared Error\n",
        "RMSE=np.sqrt(MSE)\n",
        "print(f\"The Root Mean Squared Error(RMSE) is {RMSE}.\")\n",
        "\n",
        "#Calculate R2 Score\n",
        "R2=r2_score(y_test,y_pred)\n",
        "print(f\"The R2 Score is {R2}.\")\n",
        "\n",
        "#Calculate adjusted R2\n",
        "adj_r2=1-(1-R2)*((X_test.shape[0]-1)/(X_test.shape[0]-X_test.shape[1]-1))\n",
        "print(f\"The Adjusted R2 is {adj_r2}.\")\n",
        "  \n"
      ],
      "metadata": {
        "id": "BQbDdlBa1WUD"
      },
      "execution_count": null,
      "outputs": []
    },
    {
      "cell_type": "code",
      "source": [
        "test_dict={'Model':\"ElasticNet(GridSearchCV-Tunned)\",\n",
        "             'MAE':round(MAE,4),\n",
        "             'MSE':round(MSE,4),\n",
        "             'RMSE':round(RMSE,4),\n",
        "             'R2_score':round(R2,4),\n",
        "           'Adjusted R2':round((adj_r2),3)}"
      ],
      "metadata": {
        "id": "fOwnlioT1csW"
      },
      "execution_count": null,
      "outputs": []
    },
    {
      "cell_type": "code",
      "source": [
        "test_results_df=test_results_df.append(test_dict,ignore_index=True)\n",
        "test_results_df\n"
      ],
      "metadata": {
        "id": "7LgkdZ-41hJV"
      },
      "execution_count": null,
      "outputs": []
    },
    {
      "cell_type": "markdown",
      "source": [
        "Looks like our r2 score value is 0.61 that means our model is able to capture most of the data variance. Lets save it in a dataframe for later comparisons.\n",
        "\n"
      ],
      "metadata": {
        "id": "M5M4sl-8GfiO"
      }
    },
    {
      "cell_type": "code",
      "source": [
        "#Plot the figure\n",
        "plt.figure(figsize=(8,5))\n",
        "plt.plot(np.array(y_test_pred))\n",
        "plt.plot((np.array(y_test)))\n",
        "plt.legend([\"Predicted\",\"Actual\"])\n",
        "plt.show()"
      ],
      "metadata": {
        "id": "S4L2tJ7K2_bt"
      },
      "execution_count": null,
      "outputs": []
    },
    {
      "cell_type": "code",
      "source": [
        "# Check Homoscedasticity by plotting y_predicted values and the residuals\n",
        "plt.figure(figsize=(10,5))\n",
        "sns.regplot(x=y_pred,y=y_test-y_pred,line_kws={'color':'black'})\n",
        "plt.ylabel('Residuals')\n",
        "plt.xlabel('y_predicted')"
      ],
      "metadata": {
        "id": "tEevO_L2KA_m"
      },
      "execution_count": null,
      "outputs": []
    },
    {
      "cell_type": "code",
      "source": [
        "# Residuals of the regression are normally distributed.(Homoscedasticity refers to whether these residuals are equally distributed)\n",
        "Residual_distPlot(y_pred,y_test)"
      ],
      "metadata": {
        "id": "qxyY3zi_3Hqd"
      },
      "execution_count": null,
      "outputs": []
    },
    {
      "cell_type": "markdown",
      "source": [
        "As We have saw in linear regression,lasso,ridge and elastic net we are getting almost similar r2 scores."
      ],
      "metadata": {
        "id": "KxtwK5Ap6Q4i"
      }
    },
    {
      "cell_type": "markdown",
      "source": [
        "# **Gradient Boosting Regressor**"
      ],
      "metadata": {
        "id": "N0OCd-1KENX1"
      }
    },
    {
      "cell_type": "code",
      "source": [
        "from sklearn.ensemble import GradientBoostingRegressor\n",
        "\n",
        "gradboo_reg=GradientBoostingRegressor()\n",
        "gradboo_reg.fit(X_train,y_train)"
      ],
      "metadata": {
        "id": "kF9Vix6pEQYY"
      },
      "execution_count": null,
      "outputs": []
    },
    {
      "cell_type": "code",
      "source": [
        "y_pred_train=gradboo_reg.predict(X_train)\n",
        "y_pred=gradboo_reg.predict(X_test)"
      ],
      "metadata": {
        "id": "ZDqYvzjKEblF"
      },
      "execution_count": null,
      "outputs": []
    },
    {
      "cell_type": "code",
      "source": [
        "# Evaluation of training data set\n",
        "from sklearn.metrics import mean_squared_error\n",
        "#Calculate Mean Absolute Error.\n",
        "MAE= mean_absolute_error(y_train,y_pred_train)\n",
        "print(f\"The Mean Absolute Error (MAE) is {MAE}.\")\n",
        "\n",
        "#Calculate  Mean Squared Error\n",
        "MSE=mean_squared_error(y_train,y_pred_train)\n",
        "print(f\"The Mean Squred Error(MSE) is {MSE}.\")\n",
        "\n",
        "#Calculate Root Mean Squared Error\n",
        "RMSE=np.sqrt(MSE)\n",
        "print(f\"The Root Mean Squared Error(RMSE) is {RMSE}.\")\n",
        "\n",
        "#Calculate R2 Score\n",
        "R2=r2_score(y_train,y_pred_train)\n",
        "print(f\"The R2 Score is {R2}.\")\n",
        "\n",
        "#Calculate Adjusted R2\n",
        "adj_r2=1-(1-R2)*((X_test.shape[0]-1)/(X_test.shape[0]-X_test.shape[1]-1))\n",
        "print(f\"The Adjusted R2 is {adj_r2}.\")\n",
        "\n"
      ],
      "metadata": {
        "id": "nGtC7H95Eevq"
      },
      "execution_count": null,
      "outputs": []
    },
    {
      "cell_type": "code",
      "source": [
        "train_dict={'Model':\"Gardient boosting Regression\",\n",
        "             'MAE':round(MAE,4),\n",
        "             'MSE':round(MSE,4),\n",
        "             'RMSE':round(RMSE,4),\n",
        "             'R2_score':round(R2,4),\n",
        "            'Adjusted R2':round((adj_r2 ),3)}\n",
        "\n",
        "\n",
        "\n",
        "\n",
        "traing_results_df=traing_results_df.append(train_dict,ignore_index=True)\n",
        "traing_results_df"
      ],
      "metadata": {
        "id": "5TEENAOREpoR"
      },
      "execution_count": null,
      "outputs": []
    },
    {
      "cell_type": "code",
      "source": [
        "# Evaluation of Test data set\n",
        "\n",
        "#Calculate Mean Absolute Error.\n",
        "MAE= mean_absolute_error(y_test,y_pred)\n",
        "print(f\" The Mean Absolute Error (MAE) is {MAE}.\")\n",
        "\n",
        "#Calculate  Mean Squared Error\n",
        "MSE=mean_squared_error(y_test,y_pred)\n",
        "print(f\" The Mean Squred Error(MSE) is {MSE}.\")\n",
        "\n",
        "#Calculate Root Mean Squared Error\n",
        "RMSE=np.sqrt(MSE)\n",
        "print(f\"The Root Mean Squared Error(RMSE) is {RMSE}.\")\n",
        "\n",
        "#Calculate R2 Score\n",
        "R2=r2_score(y_test,y_pred)\n",
        "print(f\"The R2 Score is {R2}.\")\n",
        "\n",
        "#Adjusted R2 score\n",
        "adj_r2=1-(1-R2)*((X_test.shape[0]-1)/(X_test.shape[0]-X_test.shape[1]-1))\n",
        "print(f\"The adjusted R2 is {adj_r2}\") \n"
      ],
      "metadata": {
        "id": "eJPBVINXExFF"
      },
      "execution_count": null,
      "outputs": []
    },
    {
      "cell_type": "code",
      "source": [
        "test_dict={'Model':\"Gradient Boosting Regression\",\n",
        "             'MAE':round(MAE,4),\n",
        "             'MSE':round(MSE,4),\n",
        "             'RMSE':round(RMSE,4),\n",
        "             'R2_score':round(R2,4),\n",
        "           'Adjusted R2':round((adj_r2 ),3)}\n",
        "\n",
        "\n",
        "test_results_df=test_results_df.append(test_dict,ignore_index=True)\n",
        "test_results_df"
      ],
      "metadata": {
        "id": "NlEb8VdcE0an"
      },
      "execution_count": null,
      "outputs": []
    },
    {
      "cell_type": "code",
      "source": [
        "plot_Pred_vs_actual(y_pred,y_test)"
      ],
      "metadata": {
        "id": "VEE3Ru6NE4AS"
      },
      "execution_count": null,
      "outputs": []
    },
    {
      "cell_type": "code",
      "source": [
        "# Check Homoscedasticity by plotting y_predicted values and the residuals\n",
        "plt.figure(figsize=(16,5))\n",
        "sns.regplot(x=y_pred,y=y_test-y_pred,line_kws={'color':'black'})\n",
        "plt.ylabel('Residuals')\n",
        "plt.xlabel('y_predicted')"
      ],
      "metadata": {
        "id": "eveF0fNAFAna"
      },
      "execution_count": null,
      "outputs": []
    },
    {
      "cell_type": "code",
      "source": [
        "# Residuals of the regression are normally distributed.(Homoscedasticity refers to whether these residuals are equally distributed)\n",
        "Residual_distPlot(y_pred,y_test)"
      ],
      "metadata": {
        "id": "gZaWX3fmFHD2"
      },
      "execution_count": null,
      "outputs": []
    },
    {
      "cell_type": "markdown",
      "source": [
        "# **Random Forest Regressor**"
      ],
      "metadata": {
        "id": "95pRdD58b1xG"
      }
    },
    {
      "cell_type": "code",
      "source": [
        "from sklearn.ensemble import RandomForestRegressor\n",
        "rf=RandomForestRegressor()\n",
        "rf.fit(X_train,y_train)"
      ],
      "metadata": {
        "id": "9w-E7T_Ab4X5"
      },
      "execution_count": null,
      "outputs": []
    },
    {
      "cell_type": "code",
      "source": [
        "rf.score(X_train,y_train)"
      ],
      "metadata": {
        "id": "pdGVpoLJczxp"
      },
      "execution_count": null,
      "outputs": []
    },
    {
      "cell_type": "code",
      "source": [
        "rf.score(X_test,y_test)"
      ],
      "metadata": {
        "id": "AUJTHkFZc1JL"
      },
      "execution_count": null,
      "outputs": []
    },
    {
      "cell_type": "code",
      "source": [
        "y_pred_train=rf.predict(X_train)\n",
        "y_pred=rf.predict(X_test)"
      ],
      "metadata": {
        "id": "uVIvFjUNc3-d"
      },
      "execution_count": null,
      "outputs": []
    },
    {
      "cell_type": "markdown",
      "source": [
        "**Evaluation of train data set**"
      ],
      "metadata": {
        "id": "eeGaSZu24Lcn"
      }
    },
    {
      "cell_type": "code",
      "source": [
        "# Evaluation of training data set\n",
        "\n",
        "#Calculate Mean Absolute Error.\n",
        "MAE= mean_absolute_error(y_train,y_pred_train)\n",
        "print(f\"The Mean Absolute Error (MAE) is {MAE}.\")\n",
        "\n",
        "#Calculate  Mean Squared Error\n",
        "MSE=mean_squared_error(y_train,y_pred_train)\n",
        "print(f\"The Mean Squred Error(MSE) is {MSE}.\")\n",
        "\n",
        "#Calculate Root Mean Squared Error\n",
        "RMSE=np.sqrt(MSE)\n",
        "print(f\"The Root Mean Squared Error(RMSE) is {RMSE}.\")\n",
        "\n",
        "#Calculate R2 Score\n",
        "R2=r2_score(y_train,y_pred_train)\n",
        "print(f\"The R2 Score is {R2}.\")\n",
        "\n",
        "#Calculate adjusted R2\n",
        "adj_r2=1-(1-R2)*((X_test.shape[0]-1)/(X_test.shape[0]-X_test.shape[1]-1))\n",
        "print(f\"The Adjusted R2 is {adj_r2}.\")\n"
      ],
      "metadata": {
        "id": "VmwWmbGEc8ID"
      },
      "execution_count": null,
      "outputs": []
    },
    {
      "cell_type": "code",
      "source": [
        "train_dict={'Model':\"Random Forest\",\n",
        "             'MAE':round(MAE,4),\n",
        "             'MSE':round(MSE,4),\n",
        "             'RMSE':round(RMSE,4),\n",
        "             'R2_score':round((R2),4),\n",
        "             'Adjusted R2':round((adj_r2),3)}\n",
        "\n",
        "\n",
        "traing_results_df=traing_results_df.append(train_dict,ignore_index=True)\n",
        "traing_results_df"
      ],
      "metadata": {
        "id": "CW39fbHjdCOD"
      },
      "execution_count": null,
      "outputs": []
    },
    {
      "cell_type": "markdown",
      "source": [
        "**Evaluation of test data set**"
      ],
      "metadata": {
        "id": "_HFgNIzu4Qgv"
      }
    },
    {
      "cell_type": "code",
      "source": [
        "# Evaluation of Test data set\n",
        "\n",
        "#Calculate Mean Absolute Error.\n",
        "MAE= mean_absolute_error(y_test,y_pred)\n",
        "print(f\" The Mean Absolute Error (MAE) is {MAE}.\")\n",
        "\n",
        "#Calculate  Mean Squared Error\n",
        "MSE=mean_squared_error(y_test,y_pred)\n",
        "print(f\" The Mean Squred Error(MSE) is {MSE}.\")\n",
        "\n",
        "#Calculate Root Mean Squared Error\n",
        "RMSE=np.sqrt(MSE)\n",
        "print(f\"The Root Mean Squared Error(RMSE) is {RMSE}.\")\n",
        "\n",
        "#Calculate R2 Score\n",
        "R2=r2_score(y_test,y_pred)\n",
        "print(f\"The R2 Score is {R2}.\")\n",
        "\n",
        "#Calculate adjusted R2\n",
        "adj_r2=1-(1-R2)*((X_test.shape[0]-1)/(X_test.shape[0]-X_test.shape[1]-1))\n",
        "print(f\"The adjusted R2 is {adj_r2}.\")"
      ],
      "metadata": {
        "id": "9zP7XcYkdKB-"
      },
      "execution_count": null,
      "outputs": []
    },
    {
      "cell_type": "code",
      "source": [
        "test_dict={'Model':\"Random forest\",\n",
        "             'MAE':round(MAE,4),\n",
        "             'MSE':round(MSE,4),\n",
        "             'RMSE':round(RMSE,4),\n",
        "             'R2_score':round(R2,4),\n",
        "           'Adjusted R2':round((adj_r2),3)}\n",
        "\n",
        "\n",
        "test_results_df=test_results_df.append(test_dict,ignore_index=True)\n",
        "test_results_df"
      ],
      "metadata": {
        "id": "gRZG8byPdQPK"
      },
      "execution_count": null,
      "outputs": []
    },
    {
      "cell_type": "code",
      "source": [
        "plot_Pred_vs_actual(y_pred,y_test)"
      ],
      "metadata": {
        "id": "4f4wz8peT3rp"
      },
      "execution_count": null,
      "outputs": []
    },
    {
      "cell_type": "code",
      "source": [
        "### Heteroscadacity\n",
        "plt.scatter((y_test_pred),(y_test)-(y_test_pred))"
      ],
      "metadata": {
        "id": "nX8de4BLU4jd"
      },
      "execution_count": null,
      "outputs": []
    },
    {
      "cell_type": "code",
      "source": [
        "imp_variables=X.columns\n",
        "importances = rf.feature_importances_\n",
        "indices = np.argsort(importances)\n",
        "plt.figure(figsize=(12,8))\n",
        "plt.title('Feature Importances(Random Forest)')\n",
        "plt.barh(range(len(indices)), importances[indices], color='y', align='center')\n",
        "plt.yticks(range(len(indices)), imp_variables[indices])\n",
        "plt.xlabel('Relative Importance')"
      ],
      "metadata": {
        "id": "G4FTenvLdtv2"
      },
      "execution_count": null,
      "outputs": []
    },
    {
      "cell_type": "code",
      "source": [
        "# Check Final dataframe of All models\n",
        "final_result=pd.concat([traing_results_df,test_results_df],keys=['Training set','Test set'])\n",
        "final_result"
      ],
      "metadata": {
        "id": "_RgCOmKIsqg1"
      },
      "execution_count": null,
      "outputs": []
    },
    {
      "cell_type": "markdown",
      "source": [
        "# **Conclusion**"
      ],
      "metadata": {
        "id": "cykFbqEwPy-O"
      }
    },
    {
      "cell_type": "markdown",
      "source": [
        "\n",
        "\n",
        "* Upon Exploratory Data Analysis, we found that the bike rentals follow an hourly trend where it hits the first peak in the morning and the highest peak later in the evening.\n",
        "* We also found that these trends are prominent only during weekdays and working days, leading us to make a safe assumption that office-goers make a notable contribution to bike sharing demand.\n",
        "\n",
        "\n",
        "*  In addition, seasons were observed to have a notable effect on bike rentals with high traffic during summer and a significantly lower demand in winter.\n",
        "* When the rainfall was less, people have booked more bikes except some few cases.\n",
        "\n",
        "* The Temperature, Hour & Humidity are the most important features that positively drive the total rented bikes count.\n",
        "* From The above data frame, we can see that linear,Lasso,Ridge and Elastic regression models have almost similar R2 scores(61%) on both training and test data.(Even after using GridserachCV we have got similar results as of base models).\n",
        "\n",
        "\n",
        "*  On Decision tree regressor model, without hyperparameter tuning we got r2 score as 100% on training data and on test data it was very less. Thus our model memorised the data.So it was a overfitted model.\n",
        "* Random forest Regressor and Gradient Boosting Regression gives the highest R2 score of 98% and 86%\n",
        "recpectively for Train Set and 89% for Test set.\n",
        "\n",
        "\n",
        "* The Gradient Boosting Regression and Random forest gives good r2 scores. We can deploy this models.\n",
        "* From March Bike Rent Count started increasing and it was highest in June.There are much more rents during the day than the night.\n",
        "\n",
        "\n",
        "* We also observed that there was a sudden peak between 6PM to 10 PM. Office time,College and going time could be the reason for this sudden peak (Weekdays).\n",
        "*  On no functioning day no bikes were rented.Most of the bikes were rented on Weekdays compared to weekends.\n",
        "\n",
        "\n",
        "\n",
        "\n",
        "\n",
        "\n",
        "\n",
        "\n",
        "\n",
        "\n",
        "\n",
        "\n"
      ],
      "metadata": {
        "id": "Yvi6gxeNXYLH"
      }
    }
  ]
}